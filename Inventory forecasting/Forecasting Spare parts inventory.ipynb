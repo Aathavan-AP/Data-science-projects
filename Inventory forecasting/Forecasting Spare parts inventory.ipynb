{
 "cells": [
  {
   "cell_type": "markdown",
   "id": "545b0b4a",
   "metadata": {},
   "source": [
    "### Forecasting Spare parts inventory\n",
    "\n",
    "### Aathavan A P\n",
    "### aathavanx4@gmail.com\n",
    " \n"
   ]
  },
  {
   "cell_type": "code",
   "execution_count": null,
   "id": "2ca6c7c6",
   "metadata": {},
   "outputs": [],
   "source": []
  },
  {
   "cell_type": "markdown",
   "id": "6c4a4012",
   "metadata": {},
   "source": [
    "## Business Case \n",
    "- have to create predictive model for inventory forecasting of Bajaj bike service center so they can have spare parts in stock beforehand."
   ]
  },
  {
   "cell_type": "code",
   "execution_count": 584,
   "id": "7facc98f",
   "metadata": {},
   "outputs": [],
   "source": [
    "# Basic libraries \n",
    "\n",
    "import os\n",
    "import sys\n",
    "import pandas as pd \n",
    "import numpy as np \n",
    "import seaborn as sns \n",
    "import matplotlib.pyplot as plt\n",
    "%matplotlib inline\n",
    "from matplotlib import rcParams\n",
    "from matplotlib.pyplot import figure\n",
    "import missingno as msno\n",
    "import sweetviz as sv\n",
    "import plotly.express as px\n",
    "import warnings\n",
    "warnings.filterwarnings('ignore')\n",
    "import simple_colors\n",
    "from sqlalchemy import create_engine\n",
    "import datetime as dt\n",
    "from datetime import datetime\n"
   ]
  },
  {
   "cell_type": "markdown",
   "id": "4decf22f",
   "metadata": {},
   "source": [
    "## Connecting to database through SQL librairy"
   ]
  },
  {
   "cell_type": "code",
   "execution_count": 585,
   "id": "a51e51f4",
   "metadata": {},
   "outputs": [],
   "source": [
    "db_host='18.136.157.135'\n",
    "username='dm_usdata_sql'\n",
    "user_pass='37z<49REb&mKnl4AV!vJ'\n",
    "db_name='project_service_data'"
   ]
  },
  {
   "cell_type": "code",
   "execution_count": 586,
   "id": "a57ec2a6",
   "metadata": {},
   "outputs": [
    {
     "data": {
      "text/plain": [
       "['service_data']"
      ]
     },
     "execution_count": 586,
     "metadata": {},
     "output_type": "execute_result"
    }
   ],
   "source": [
    "conn = create_engine('mysql+pymysql://'+username+':'+user_pass+'@'+db_host+'/'+db_name)\n",
    "conn.table_names()"
   ]
  },
  {
   "cell_type": "code",
   "execution_count": 587,
   "id": "82c8a306",
   "metadata": {},
   "outputs": [
    {
     "data": {
      "text/plain": [
       "(28482, 7)"
      ]
     },
     "execution_count": 587,
     "metadata": {},
     "output_type": "execute_result"
    }
   ],
   "source": [
    "query = 'select * from service_data'\n",
    "df = pd.read_sql(query,conn)\n",
    "df.shape"
   ]
  },
  {
   "cell_type": "code",
   "execution_count": 588,
   "id": "ebe27668",
   "metadata": {},
   "outputs": [
    {
     "data": {
      "text/plain": [
       "(28482, 7)"
      ]
     },
     "execution_count": 588,
     "metadata": {},
     "output_type": "execute_result"
    }
   ],
   "source": [
    "query = 'select * from service_data'\n",
    "df_O = pd.read_sql(query,conn) # for comparing in future after cleaning df\n",
    "df_O.shape"
   ]
  },
  {
   "cell_type": "markdown",
   "id": "08e8a150",
   "metadata": {},
   "source": [
    "# EDA"
   ]
  },
  {
   "cell_type": "code",
   "execution_count": 589,
   "id": "77be5ebc",
   "metadata": {},
   "outputs": [
    {
     "data": {
      "text/plain": [
       "Index(['invoice_date', 'job_card_date', 'business_partner_name', 'vehicle_no',\n",
       "       'vehicle_model', 'current_km_reading', 'invoice_line_text'],\n",
       "      dtype='object')"
      ]
     },
     "execution_count": 589,
     "metadata": {},
     "output_type": "execute_result"
    }
   ],
   "source": [
    "df.columns"
   ]
  },
  {
   "cell_type": "code",
   "execution_count": 590,
   "id": "d7a83a5e",
   "metadata": {},
   "outputs": [
    {
     "name": "stdout",
     "output_type": "stream",
     "text": [
      "<class 'pandas.core.frame.DataFrame'>\n",
      "RangeIndex: 28482 entries, 0 to 28481\n",
      "Data columns (total 7 columns):\n",
      " #   Column                 Non-Null Count  Dtype \n",
      "---  ------                 --------------  ----- \n",
      " 0   invoice_date           28482 non-null  object\n",
      " 1   job_card_date          28482 non-null  object\n",
      " 2   business_partner_name  28482 non-null  object\n",
      " 3   vehicle_no             28482 non-null  object\n",
      " 4   vehicle_model          28482 non-null  object\n",
      " 5   current_km_reading     28482 non-null  object\n",
      " 6   invoice_line_text      28476 non-null  object\n",
      "dtypes: object(7)\n",
      "memory usage: 1.5+ MB\n"
     ]
    }
   ],
   "source": [
    "df.info()"
   ]
  },
  {
   "cell_type": "code",
   "execution_count": 591,
   "id": "b314aa29",
   "metadata": {},
   "outputs": [
    {
     "data": {
      "text/html": [
       "<div>\n",
       "<style scoped>\n",
       "    .dataframe tbody tr th:only-of-type {\n",
       "        vertical-align: middle;\n",
       "    }\n",
       "\n",
       "    .dataframe tbody tr th {\n",
       "        vertical-align: top;\n",
       "    }\n",
       "\n",
       "    .dataframe thead th {\n",
       "        text-align: right;\n",
       "    }\n",
       "</style>\n",
       "<table border=\"1\" class=\"dataframe\">\n",
       "  <thead>\n",
       "    <tr style=\"text-align: right;\">\n",
       "      <th></th>\n",
       "      <th>invoice_date</th>\n",
       "      <th>job_card_date</th>\n",
       "      <th>business_partner_name</th>\n",
       "      <th>vehicle_no</th>\n",
       "      <th>vehicle_model</th>\n",
       "      <th>current_km_reading</th>\n",
       "      <th>invoice_line_text</th>\n",
       "    </tr>\n",
       "  </thead>\n",
       "  <tbody>\n",
       "    <tr>\n",
       "      <th>count</th>\n",
       "      <td>28482</td>\n",
       "      <td>28482</td>\n",
       "      <td>28482</td>\n",
       "      <td>28482</td>\n",
       "      <td>28482</td>\n",
       "      <td>28482</td>\n",
       "      <td>28476</td>\n",
       "    </tr>\n",
       "    <tr>\n",
       "      <th>unique</th>\n",
       "      <td>555</td>\n",
       "      <td>553</td>\n",
       "      <td>1010</td>\n",
       "      <td>846</td>\n",
       "      <td>28</td>\n",
       "      <td>3474</td>\n",
       "      <td>503</td>\n",
       "    </tr>\n",
       "    <tr>\n",
       "      <th>top</th>\n",
       "      <td>01-12-18</td>\n",
       "      <td>01-12-18</td>\n",
       "      <td>venkXXXXXXXXXX</td>\n",
       "      <td>KA53EVXXXX</td>\n",
       "      <td>BAJAJ PULSAR 150</td>\n",
       "      <td>0</td>\n",
       "      <td>ENGINE OIL</td>\n",
       "    </tr>\n",
       "    <tr>\n",
       "      <th>freq</th>\n",
       "      <td>179</td>\n",
       "      <td>179</td>\n",
       "      <td>424</td>\n",
       "      <td>1313</td>\n",
       "      <td>8633</td>\n",
       "      <td>842</td>\n",
       "      <td>3802</td>\n",
       "    </tr>\n",
       "  </tbody>\n",
       "</table>\n",
       "</div>"
      ],
      "text/plain": [
       "       invoice_date job_card_date business_partner_name  vehicle_no  \\\n",
       "count         28482         28482                 28482       28482   \n",
       "unique          555           553                  1010         846   \n",
       "top        01-12-18      01-12-18        venkXXXXXXXXXX  KA53EVXXXX   \n",
       "freq            179           179                   424        1313   \n",
       "\n",
       "           vehicle_model current_km_reading invoice_line_text  \n",
       "count              28482              28482             28476  \n",
       "unique                28               3474               503  \n",
       "top     BAJAJ PULSAR 150                  0        ENGINE OIL  \n",
       "freq                8633                842              3802  "
      ]
     },
     "execution_count": 591,
     "metadata": {},
     "output_type": "execute_result"
    }
   ],
   "source": [
    "df.describe()"
   ]
  },
  {
   "cell_type": "code",
   "execution_count": 592,
   "id": "f82a8395",
   "metadata": {},
   "outputs": [],
   "source": [
    "# we import\n",
    "import dtale"
   ]
  },
  {
   "cell_type": "code",
   "execution_count": 593,
   "id": "45f2b230",
   "metadata": {
    "scrolled": true
   },
   "outputs": [
    {
     "data": {
      "text/html": [
       "\n",
       "        <iframe\n",
       "            width=\"100%\"\n",
       "            height=\"475\"\n",
       "            src=\"http://DESKTOP-5GRHU0M:40000/dtale/iframe/27\"\n",
       "            frameborder=\"0\"\n",
       "            allowfullscreen\n",
       "            \n",
       "        ></iframe>\n",
       "        "
      ],
      "text/plain": [
       "<IPython.lib.display.IFrame at 0x1eba3ce25b0>"
      ]
     },
     "metadata": {},
     "output_type": "display_data"
    },
    {
     "data": {
      "text/plain": []
     },
     "execution_count": 593,
     "metadata": {},
     "output_type": "execute_result"
    }
   ],
   "source": [
    "dtale.show(df)\n",
    "# Univariate Analysis\n",
    "# Bivariate Analysis\n",
    "# Multivariate Analysis"
   ]
  },
  {
   "cell_type": "markdown",
   "id": "2045aa83",
   "metadata": {},
   "source": [
    "## Insights from EDA \n",
    "\n",
    "\n",
    "\n",
    "#### invoice_date\n",
    "- its the data that bill was printed\n",
    "\n",
    "#### job_card_date\n",
    "- its a date that spare part is being replaced\n",
    "\n",
    "#### business_partner_name\n",
    "- name of the business partner (client) who is in need of spare parts\n",
    "- dataset contains 1,010 client details\n",
    "- venkXXXXXXXXXX is the frequent client ,serviced bike 416 time\n",
    "\n",
    "#### vehicle_no\n",
    "- vechicle that needs part replacement or service\n",
    "\n",
    "#### vehicle_model\n",
    "- model of the vehicle\n",
    "- there is 28 models of bikes\n",
    "- all bikes are from bajaj company, which means it's a bajaj bike showroom and service center\n",
    "- BAJAJ PULSAR 150 is the frequent serviced bike model\n",
    "\n",
    "#### current_km_reading\n",
    "- vehicle runned km on the day of job_card_date (service or delivery)\n",
    "- some records have 0 km\n",
    "\n",
    "#### invoice_line_text\n",
    "- it denotes the spare part that being replaced on job_card_date (service or delivery)\n",
    "\n"
   ]
  },
  {
   "cell_type": "markdown",
   "id": "fede9ad5",
   "metadata": {},
   "source": [
    "# Column 0&1 : invoice_date & job_card_date\n",
    "- as of now im keeping them as they are \n",
    "- cause for regression and time series model , I've to use different technique to change them"
   ]
  },
  {
   "cell_type": "markdown",
   "id": "7d846032",
   "metadata": {},
   "source": [
    "# Column 2 : business_partner_name"
   ]
  },
  {
   "cell_type": "code",
   "execution_count": 594,
   "id": "91658344",
   "metadata": {},
   "outputs": [
    {
     "data": {
      "text/html": [
       "\n",
       "        <iframe\n",
       "            width=\"100%\"\n",
       "            height=\"475\"\n",
       "            src=\"http://DESKTOP-5GRHU0M:40000/dtale/iframe/28\"\n",
       "            frameborder=\"0\"\n",
       "            allowfullscreen\n",
       "            \n",
       "        ></iframe>\n",
       "        "
      ],
      "text/plain": [
       "<IPython.lib.display.IFrame at 0x1ebbbb815e0>"
      ]
     },
     "metadata": {},
     "output_type": "display_data"
    },
    {
     "data": {
      "text/plain": []
     },
     "execution_count": 594,
     "metadata": {},
     "output_type": "execute_result"
    }
   ],
   "source": [
    "dtale.show(df['business_partner_name'].unique()) #1010 #1010 #1007 #796 #796\n"
   ]
  },
  {
   "cell_type": "code",
   "execution_count": 595,
   "id": "3b06d252",
   "metadata": {},
   "outputs": [
    {
     "name": "stdout",
     "output_type": "stream",
     "text": [
      "0\n"
     ]
    }
   ],
   "source": [
    "print(df['business_partner_name'].loc[df['business_partner_name'].str.len()==0].count()) # checking for 0 len string "
   ]
  },
  {
   "cell_type": "code",
   "execution_count": 596,
   "id": "95f9b2fa",
   "metadata": {},
   "outputs": [],
   "source": [
    "df['business_partner_name'] = df['business_partner_name'].str.replace('X', '') #replacing all X with empty string"
   ]
  },
  {
   "cell_type": "code",
   "execution_count": 597,
   "id": "7cbc35aa",
   "metadata": {},
   "outputs": [],
   "source": [
    " df['business_partner_name'] = df['business_partner_name'].str.replace(' ', '') #replacing all space with empty string"
   ]
  },
  {
   "cell_type": "code",
   "execution_count": 598,
   "id": "40bcf078",
   "metadata": {},
   "outputs": [],
   "source": [
    "df['business_partner_name'] = df['business_partner_name'].str.upper() # changing all letters to uppercase"
   ]
  },
  {
   "cell_type": "code",
   "execution_count": 599,
   "id": "1b0c62f9",
   "metadata": {},
   "outputs": [],
   "source": [
    "df['business_partner_name'] = df['business_partner_name'].str.strip() #removing space before and after the string"
   ]
  },
  {
   "cell_type": "code",
   "execution_count": 600,
   "id": "1ec2edfc",
   "metadata": {},
   "outputs": [
    {
     "data": {
      "text/html": [
       "<div>\n",
       "<style scoped>\n",
       "    .dataframe tbody tr th:only-of-type {\n",
       "        vertical-align: middle;\n",
       "    }\n",
       "\n",
       "    .dataframe tbody tr th {\n",
       "        vertical-align: top;\n",
       "    }\n",
       "\n",
       "    .dataframe thead th {\n",
       "        text-align: right;\n",
       "    }\n",
       "</style>\n",
       "<table border=\"1\" class=\"dataframe\">\n",
       "  <thead>\n",
       "    <tr style=\"text-align: right;\">\n",
       "      <th></th>\n",
       "      <th>invoice_date</th>\n",
       "      <th>job_card_date</th>\n",
       "      <th>business_partner_name</th>\n",
       "      <th>vehicle_no</th>\n",
       "      <th>vehicle_model</th>\n",
       "      <th>current_km_reading</th>\n",
       "      <th>invoice_line_text</th>\n",
       "      <th>has_non_alpha</th>\n",
       "    </tr>\n",
       "  </thead>\n",
       "  <tbody>\n",
       "  </tbody>\n",
       "</table>\n",
       "</div>"
      ],
      "text/plain": [
       "Empty DataFrame\n",
       "Columns: [invoice_date, job_card_date, business_partner_name, vehicle_no, vehicle_model, current_km_reading, invoice_line_text, has_non_alpha]\n",
       "Index: []"
      ]
     },
     "execution_count": 600,
     "metadata": {},
     "output_type": "execute_result"
    }
   ],
   "source": [
    "df['has_non_alpha'] = df['business_partner_name'].apply(lambda x: not x.isalpha())\n",
    "df[df['has_non_alpha'] == True] # checking string contains any other characters like numbers and special characters"
   ]
  },
  {
   "cell_type": "code",
   "execution_count": 601,
   "id": "78dd30dc",
   "metadata": {},
   "outputs": [],
   "source": [
    "df=df.drop(columns=['has_non_alpha']) # droping this column after the checking"
   ]
  },
  {
   "cell_type": "code",
   "execution_count": 602,
   "id": "513d2598",
   "metadata": {},
   "outputs": [
    {
     "name": "stdout",
     "output_type": "stream",
     "text": [
      "4\n"
     ]
    }
   ],
   "source": [
    "max_string_len = df['business_partner_name'].apply(lambda x: len(x)).max()\n",
    "print(max_string_len) # checking whats the max len in business_partner_name column"
   ]
  },
  {
   "cell_type": "markdown",
   "id": "3a90c275",
   "metadata": {},
   "source": [
    "# Column 3 : vehicle_no"
   ]
  },
  {
   "cell_type": "code",
   "execution_count": 603,
   "id": "1e9d8cc4",
   "metadata": {},
   "outputs": [
    {
     "data": {
      "text/plain": [
       "846"
      ]
     },
     "execution_count": 603,
     "metadata": {},
     "output_type": "execute_result"
    }
   ],
   "source": [
    "df['vehicle_no'].nunique()"
   ]
  },
  {
   "cell_type": "code",
   "execution_count": 604,
   "id": "6d489da6",
   "metadata": {},
   "outputs": [
    {
     "data": {
      "text/html": [
       "\n",
       "        <iframe\n",
       "            width=\"100%\"\n",
       "            height=\"475\"\n",
       "            src=\"http://DESKTOP-5GRHU0M:40000/dtale/iframe/29\"\n",
       "            frameborder=\"0\"\n",
       "            allowfullscreen\n",
       "            \n",
       "        ></iframe>\n",
       "        "
      ],
      "text/plain": [
       "<IPython.lib.display.IFrame at 0x1eba1c82970>"
      ]
     },
     "metadata": {},
     "output_type": "display_data"
    },
    {
     "data": {
      "text/plain": []
     },
     "execution_count": 604,
     "metadata": {},
     "output_type": "execute_result"
    }
   ],
   "source": [
    "dtale.show(df['vehicle_no'].unique()) "
   ]
  },
  {
   "cell_type": "code",
   "execution_count": 605,
   "id": "692647e6",
   "metadata": {},
   "outputs": [
    {
     "name": "stdout",
     "output_type": "stream",
     "text": [
      "0\n"
     ]
    }
   ],
   "source": [
    "print(df['vehicle_no'].loc[df['vehicle_no'].str.len()==0].count()) "
   ]
  },
  {
   "cell_type": "code",
   "execution_count": 606,
   "id": "b4555165",
   "metadata": {},
   "outputs": [],
   "source": [
    "df['vehicle_no'] = df['vehicle_no'].str.strip()"
   ]
  },
  {
   "cell_type": "code",
   "execution_count": 607,
   "id": "af1266cd",
   "metadata": {},
   "outputs": [],
   "source": [
    "df['vehicle_no'] = df['vehicle_no'].str.upper()"
   ]
  },
  {
   "cell_type": "code",
   "execution_count": 608,
   "id": "531a0100",
   "metadata": {},
   "outputs": [],
   "source": [
    "df['vehicle_no'] = df['vehicle_no'].str.replace(' ', '')"
   ]
  },
  {
   "cell_type": "code",
   "execution_count": 609,
   "id": "ce92cdfb",
   "metadata": {},
   "outputs": [],
   "source": [
    "df['vehicle_no'] = df['vehicle_no'].str.replace('X', '')"
   ]
  },
  {
   "cell_type": "markdown",
   "id": "37cc5b3d",
   "metadata": {},
   "source": [
    "# Column 4 : vehicle_model"
   ]
  },
  {
   "cell_type": "code",
   "execution_count": 610,
   "id": "39c70a0e",
   "metadata": {},
   "outputs": [
    {
     "data": {
      "text/plain": [
       "28"
      ]
     },
     "execution_count": 610,
     "metadata": {},
     "output_type": "execute_result"
    }
   ],
   "source": [
    "df['vehicle_model'].nunique()"
   ]
  },
  {
   "cell_type": "code",
   "execution_count": 611,
   "id": "0b9867b9",
   "metadata": {
    "scrolled": true
   },
   "outputs": [
    {
     "data": {
      "text/html": [
       "\n",
       "        <iframe\n",
       "            width=\"100%\"\n",
       "            height=\"475\"\n",
       "            src=\"http://DESKTOP-5GRHU0M:40000/dtale/iframe/30\"\n",
       "            frameborder=\"0\"\n",
       "            allowfullscreen\n",
       "            \n",
       "        ></iframe>\n",
       "        "
      ],
      "text/plain": [
       "<IPython.lib.display.IFrame at 0x1ebb84d5580>"
      ]
     },
     "metadata": {},
     "output_type": "display_data"
    },
    {
     "data": {
      "text/plain": []
     },
     "execution_count": 611,
     "metadata": {},
     "output_type": "execute_result"
    }
   ],
   "source": [
    "dtale.show(df['vehicle_model'].unique()) "
   ]
  },
  {
   "cell_type": "code",
   "execution_count": 612,
   "id": "8ac836b7",
   "metadata": {},
   "outputs": [
    {
     "name": "stdout",
     "output_type": "stream",
     "text": [
      "0\n"
     ]
    }
   ],
   "source": [
    "print(df['vehicle_model'].loc[df['vehicle_model'].str.len()==0].count())"
   ]
  },
  {
   "cell_type": "code",
   "execution_count": 613,
   "id": "f0f60477",
   "metadata": {},
   "outputs": [],
   "source": [
    "df['vehicle_model'] = df['vehicle_model'].str.strip()"
   ]
  },
  {
   "cell_type": "code",
   "execution_count": 614,
   "id": "13c03603",
   "metadata": {},
   "outputs": [],
   "source": [
    "df['vehicle_model'] = df['vehicle_model'].str.replace(' ', '_')"
   ]
  },
  {
   "cell_type": "code",
   "execution_count": 615,
   "id": "27adaccd",
   "metadata": {},
   "outputs": [],
   "source": [
    "df['vehicle_model'] = df['vehicle_model'].str.upper()"
   ]
  },
  {
   "cell_type": "markdown",
   "id": "5b607cf2",
   "metadata": {},
   "source": [
    "# Column 5 : current_km_reading"
   ]
  },
  {
   "cell_type": "code",
   "execution_count": 616,
   "id": "9045215d",
   "metadata": {},
   "outputs": [],
   "source": [
    "df['current_km_reading']=df['current_km_reading'].astype('int')"
   ]
  },
  {
   "cell_type": "code",
   "execution_count": 617,
   "id": "ecf2fc5d",
   "metadata": {
    "scrolled": true
   },
   "outputs": [
    {
     "data": {
      "text/plain": [
       "3474"
      ]
     },
     "execution_count": 617,
     "metadata": {},
     "output_type": "execute_result"
    }
   ],
   "source": [
    "df['current_km_reading'].nunique()"
   ]
  },
  {
   "cell_type": "code",
   "execution_count": 618,
   "id": "8352411a",
   "metadata": {
    "scrolled": true
   },
   "outputs": [
    {
     "data": {
      "text/plain": [
       "current_km_reading    27\n",
       "dtype: int64"
      ]
     },
     "execution_count": 618,
     "metadata": {},
     "output_type": "execute_result"
    }
   ],
   "source": [
    "pd.DataFrame(df['current_km_reading'][df['current_km_reading']>=300000]).count()"
   ]
  },
  {
   "cell_type": "code",
   "execution_count": 619,
   "id": "bfc1eded",
   "metadata": {},
   "outputs": [
    {
     "data": {
      "text/html": [
       "\n",
       "        <iframe\n",
       "            width=\"100%\"\n",
       "            height=\"475\"\n",
       "            src=\"http://DESKTOP-5GRHU0M:40000/dtale/iframe/31\"\n",
       "            frameborder=\"0\"\n",
       "            allowfullscreen\n",
       "            \n",
       "        ></iframe>\n",
       "        "
      ],
      "text/plain": [
       "<IPython.lib.display.IFrame at 0x1ebb7b86970>"
      ]
     },
     "metadata": {},
     "output_type": "display_data"
    },
    {
     "data": {
      "text/plain": []
     },
     "execution_count": 619,
     "metadata": {},
     "output_type": "execute_result"
    }
   ],
   "source": [
    "dtale.show(df['current_km_reading'].unique())"
   ]
  },
  {
   "cell_type": "code",
   "execution_count": 620,
   "id": "328fe0cd",
   "metadata": {},
   "outputs": [
    {
     "data": {
      "image/png": "[encoded data removed]",
      "text/plain": [
       "<Figure size 1440x144 with 1 Axes>"
      ]
     },
     "metadata": {
      "needs_background": "light"
     },
     "output_type": "display_data"
    }
   ],
   "source": [
    "rcParams['figure.figsize'] = 20,2\n",
    "\n",
    "sns.boxplot(df['current_km_reading']) #boxplot\n",
    "plt.show()"
   ]
  },
  {
   "cell_type": "markdown",
   "id": "6aee8a7e",
   "metadata": {},
   "source": [
    "- first bike service is done after 500 km\n",
    "- after first service every service is done after 2000km and so on after every 2000km\n",
    "- An average bike runs 8000 to 10000 km every year\n",
    "- Bikes used by frequent travelers runs 15000 to 20000 km every year\n",
    "----------------------------------------------------------------------\n",
    "- here km cant be 0 and , in some case it can be below 200 if the bike is at fault after the few weeks or months of purchase,\n",
    "- So, I'm changing values where below 200 to 200\n",
    "- after that I'm changing values where above\n",
    "----------------------------------------------------------------------\n",
    "- as per the dataset maximum km is 600000, if you divide that by 20000(frequent travelers km per year) , you'll get 30 which means its a 30 year old bike\n",
    "- Since I'm considering this as outliers, I'm changing every value above 300000 to 300000 \n",
    "- which means (logically by math no bike can't be more than 15 year old) at the same time some bike models like bajaj platina which was released in 2006 and used by normal bike rider can now have high km in odo meter."
   ]
  },
  {
   "cell_type": "code",
   "execution_count": 621,
   "id": "fae89448",
   "metadata": {},
   "outputs": [],
   "source": [
    "df['current_km_reading'] = [200 if x < 200 else x for x in df['current_km_reading']] # changing every value less than 200 to 200"
   ]
  },
  {
   "cell_type": "code",
   "execution_count": 622,
   "id": "356d3fa0",
   "metadata": {},
   "outputs": [],
   "source": [
    "df['current_km_reading'] = [300000 if x > 300000 else x for x in df['current_km_reading']]  # changing every value greater than 300000 to 300000"
   ]
  },
  {
   "cell_type": "code",
   "execution_count": 623,
   "id": "12a1ee77",
   "metadata": {
    "scrolled": true
   },
   "outputs": [
    {
     "data": {
      "image/png": "[encoded data removed]",
      "text/plain": [
       "<Figure size 1440x144 with 1 Axes>"
      ]
     },
     "metadata": {
      "needs_background": "light"
     },
     "output_type": "display_data"
    }
   ],
   "source": [
    "rcParams['figure.figsize'] = 20,2\n",
    "sns.boxplot(df['current_km_reading']) #boxplot\n",
    "plt.show()"
   ]
  },
  {
   "cell_type": "markdown",
   "id": "fdb58eb4",
   "metadata": {},
   "source": [
    "# Column 6 : invoice_line_text "
   ]
  },
  {
   "cell_type": "markdown",
   "id": "4d83985b",
   "metadata": {},
   "source": [
    "#### Removing null values "
   ]
  },
  {
   "cell_type": "code",
   "execution_count": 624,
   "id": "381f6ffc",
   "metadata": {},
   "outputs": [
    {
     "data": {
      "text/plain": [
       "503"
      ]
     },
     "execution_count": 624,
     "metadata": {},
     "output_type": "execute_result"
    }
   ],
   "source": [
    "df['invoice_line_text'].nunique()"
   ]
  },
  {
   "cell_type": "code",
   "execution_count": 625,
   "id": "fe7b3f59",
   "metadata": {},
   "outputs": [
    {
     "data": {
      "text/html": [
       "\n",
       "        <iframe\n",
       "            width=\"100%\"\n",
       "            height=\"475\"\n",
       "            src=\"http://DESKTOP-5GRHU0M:40000/dtale/iframe/32\"\n",
       "            frameborder=\"0\"\n",
       "            allowfullscreen\n",
       "            \n",
       "        ></iframe>\n",
       "        "
      ],
      "text/plain": [
       "<IPython.lib.display.IFrame at 0x1ebb6990700>"
      ]
     },
     "metadata": {},
     "output_type": "display_data"
    },
    {
     "data": {
      "text/plain": []
     },
     "execution_count": 625,
     "metadata": {},
     "output_type": "execute_result"
    }
   ],
   "source": [
    "dtale.show(df['invoice_line_text'].unique())"
   ]
  },
  {
   "cell_type": "code",
   "execution_count": 626,
   "id": "883b1905",
   "metadata": {
    "scrolled": true
   },
   "outputs": [
    {
     "data": {
      "text/plain": [
       "6"
      ]
     },
     "execution_count": 626,
     "metadata": {},
     "output_type": "execute_result"
    }
   ],
   "source": [
    "df['invoice_line_text'].isnull().sum() # there is 5 null values in column invoice_line_text"
   ]
  },
  {
   "cell_type": "code",
   "execution_count": 627,
   "id": "dfeb1eae",
   "metadata": {},
   "outputs": [],
   "source": [
    "df.dropna(axis=0, subset=['invoice_line_text'], inplace=True) # removing null values"
   ]
  },
  {
   "cell_type": "code",
   "execution_count": 628,
   "id": "ec7ed457",
   "metadata": {},
   "outputs": [
    {
     "data": {
      "text/plain": [
       "0"
      ]
     },
     "execution_count": 628,
     "metadata": {},
     "output_type": "execute_result"
    }
   ],
   "source": [
    "df['invoice_line_text'].isnull().sum() # there is 0 null values in column invoice_line_textb"
   ]
  },
  {
   "cell_type": "code",
   "execution_count": 629,
   "id": "57083353",
   "metadata": {},
   "outputs": [
    {
     "name": "stdout",
     "output_type": "stream",
     "text": [
      "28\n"
     ]
    }
   ],
   "source": [
    "print(df['invoice_line_text'].loc[df['invoice_line_text'].str.len()==0].count()) # 28 value has 0 string len"
   ]
  },
  {
   "cell_type": "code",
   "execution_count": 630,
   "id": "f29e6cb0",
   "metadata": {},
   "outputs": [],
   "source": [
    "df.drop(df[df['invoice_line_text'].str.len()==0].index, inplace = True) \n",
    "#droped 28 rows where string lenthg is 0 in invoice line text "
   ]
  },
  {
   "cell_type": "code",
   "execution_count": 631,
   "id": "4a8becc7",
   "metadata": {},
   "outputs": [],
   "source": [
    "df['invoice_line_text']= df['invoice_line_text'].str.upper()"
   ]
  },
  {
   "cell_type": "code",
   "execution_count": 632,
   "id": "ee423d29",
   "metadata": {},
   "outputs": [],
   "source": [
    "df['invoice_line_text']= df['invoice_line_text'].str.strip()"
   ]
  },
  {
   "cell_type": "code",
   "execution_count": 633,
   "id": "17b2e4c1",
   "metadata": {},
   "outputs": [
    {
     "data": {
      "text/plain": [
       "32"
      ]
     },
     "execution_count": 633,
     "metadata": {},
     "output_type": "execute_result"
    }
   ],
   "source": [
    "#pd.reset_option('display.max_rows', None)\n",
    "df['invoice_line_text'][df['invoice_line_text'].str.contains(' AND ')].count() #32 rows have AND"
   ]
  },
  {
   "cell_type": "code",
   "execution_count": 634,
   "id": "dbb5af86",
   "metadata": {},
   "outputs": [],
   "source": [
    "df.drop(df[df['invoice_line_text'].str.contains(' AND ')].index, inplace = True) \n",
    "# droping values with ' AND '"
   ]
  },
  {
   "cell_type": "code",
   "execution_count": 635,
   "id": "50d1b55b",
   "metadata": {},
   "outputs": [
    {
     "data": {
      "text/plain": [
       "0"
      ]
     },
     "execution_count": 635,
     "metadata": {},
     "output_type": "execute_result"
    }
   ],
   "source": [
    "df['invoice_line_text'][df['invoice_line_text'].str.contains(' AND ')].count() # checking for AND"
   ]
  },
  {
   "cell_type": "markdown",
   "id": "10786a1d",
   "metadata": {},
   "source": [
    "### Replacing same spare parts name with different spelling"
   ]
  },
  {
   "cell_type": "code",
   "execution_count": 636,
   "id": "1e474682",
   "metadata": {
    "scrolled": false
   },
   "outputs": [
    {
     "data": {
      "text/html": [
       "\n",
       "        <iframe\n",
       "            width=\"100%\"\n",
       "            height=\"475\"\n",
       "            src=\"http://DESKTOP-5GRHU0M:40000/dtale/iframe/33\"\n",
       "            frameborder=\"0\"\n",
       "            allowfullscreen\n",
       "            \n",
       "        ></iframe>\n",
       "        "
      ],
      "text/plain": [
       "<IPython.lib.display.IFrame at 0x1eb9fd276a0>"
      ]
     },
     "metadata": {},
     "output_type": "display_data"
    },
    {
     "data": {
      "text/plain": []
     },
     "execution_count": 636,
     "metadata": {},
     "output_type": "execute_result"
    }
   ],
   "source": [
    "dtale.show(df['invoice_line_text'].unique())"
   ]
  },
  {
   "cell_type": "markdown",
   "id": "b9763a37",
   "metadata": {},
   "source": [
    "##### these are the same spare parts with different spellings\n",
    "-----------------------------------------------------------\n",
    "- MUDGAURD CLAMP == MUDGUARD CLAMP\n",
    "- SILENCER JALI == SILENCER JALL\n"
   ]
  },
  {
   "cell_type": "code",
   "execution_count": 637,
   "id": "c76462be",
   "metadata": {},
   "outputs": [],
   "source": [
    "df['invoice_line_text'] = df['invoice_line_text'].replace(['MUDGAURD CLAMP'], 'MUDGUARD CLAMP') # replacing with right spelling"
   ]
  },
  {
   "cell_type": "code",
   "execution_count": 638,
   "id": "e6463c60",
   "metadata": {},
   "outputs": [],
   "source": [
    "df['invoice_line_text'] = df['invoice_line_text'].replace(['SILENCER JALL'], 'SILENCER JALI')"
   ]
  },
  {
   "cell_type": "code",
   "execution_count": 639,
   "id": "b4afae18",
   "metadata": {},
   "outputs": [
    {
     "data": {
      "text/plain": [
       "482"
      ]
     },
     "execution_count": 639,
     "metadata": {},
     "output_type": "execute_result"
    }
   ],
   "source": [
    "df['invoice_line_text'].nunique()"
   ]
  },
  {
   "cell_type": "markdown",
   "id": "ec4a9954",
   "metadata": {},
   "source": [
    "### removing duplicate rows"
   ]
  },
  {
   "cell_type": "code",
   "execution_count": 640,
   "id": "e01648a7",
   "metadata": {},
   "outputs": [
    {
     "data": {
      "text/plain": [
       "374"
      ]
     },
     "execution_count": 640,
     "metadata": {},
     "output_type": "execute_result"
    }
   ],
   "source": [
    "df.duplicated().sum() "
   ]
  },
  {
   "cell_type": "code",
   "execution_count": 641,
   "id": "a9b3052b",
   "metadata": {},
   "outputs": [],
   "source": [
    "df = df.drop_duplicates(keep='last') # removing 382 duplicate rows "
   ]
  },
  {
   "cell_type": "markdown",
   "id": "5fc6fe1c",
   "metadata": {},
   "source": [
    "## Unique value count of original Datafram and cleaned Datafram"
   ]
  },
  {
   "cell_type": "code",
   "execution_count": 642,
   "id": "ce2629b3",
   "metadata": {},
   "outputs": [
    {
     "data": {
      "text/plain": [
       "invoice_date              555\n",
       "job_card_date             553\n",
       "business_partner_name    1010\n",
       "vehicle_no                846\n",
       "vehicle_model              28\n",
       "current_km_reading       3474\n",
       "invoice_line_text         503\n",
       "dtype: int64"
      ]
     },
     "execution_count": 642,
     "metadata": {},
     "output_type": "execute_result"
    }
   ],
   "source": [
    "df_O.nunique() # Original DataFrame"
   ]
  },
  {
   "cell_type": "code",
   "execution_count": 643,
   "id": "d804d212",
   "metadata": {},
   "outputs": [
    {
     "data": {
      "text/plain": [
       "invoice_date              555\n",
       "job_card_date             553\n",
       "business_partner_name     796\n",
       "vehicle_no                846\n",
       "vehicle_model              28\n",
       "current_km_reading       3447\n",
       "invoice_line_text         482\n",
       "dtype: int64"
      ]
     },
     "execution_count": 643,
     "metadata": {},
     "output_type": "execute_result"
    }
   ],
   "source": [
    "df.nunique() # Cleaned DataFrame"
   ]
  },
  {
   "cell_type": "code",
   "execution_count": null,
   "id": "8d8f2fa2",
   "metadata": {},
   "outputs": [],
   "source": []
  },
  {
   "cell_type": "markdown",
   "id": "d0539b0b",
   "metadata": {},
   "source": [
    "# Variables for predicting \n",
    "\n",
    "#### job_card_date (independent variable)\n",
    "- its the date for predicting the need of spare parts for future, though invoice date confirms the what are the parts are    replace and their price, we're predicting here beforhand so we'll use job_card_date for prediction\n",
    "\n",
    "#### invoice_line_text (independent variable)\n",
    "- spare parts that we need to predict for count \n",
    "\n",
    "#### count (dependent variable) \n",
    "- I've created this column using groupby function\n",
    "- count of every spare parts acroding to date\n",
    "\n",
    "##### removing all other columns\n",
    "- since there is no specific feature requirement for prediction \n",
    "- and business case only requires to predict spare parts for the future use\n",
    "- Hence I'm removing other columns"
   ]
  },
  {
   "cell_type": "code",
   "execution_count": 644,
   "id": "38d2ee3e",
   "metadata": {
    "scrolled": true
   },
   "outputs": [
    {
     "data": {
      "text/html": [
       "<div>\n",
       "<style scoped>\n",
       "    .dataframe tbody tr th:only-of-type {\n",
       "        vertical-align: middle;\n",
       "    }\n",
       "\n",
       "    .dataframe tbody tr th {\n",
       "        vertical-align: top;\n",
       "    }\n",
       "\n",
       "    .dataframe thead th {\n",
       "        text-align: right;\n",
       "    }\n",
       "</style>\n",
       "<table border=\"1\" class=\"dataframe\">\n",
       "  <thead>\n",
       "    <tr style=\"text-align: right;\">\n",
       "      <th></th>\n",
       "      <th>date</th>\n",
       "      <th>spare</th>\n",
       "    </tr>\n",
       "  </thead>\n",
       "  <tbody>\n",
       "    <tr>\n",
       "      <th>0</th>\n",
       "      <td>30-05-17</td>\n",
       "      <td>ENGINE OIL</td>\n",
       "    </tr>\n",
       "    <tr>\n",
       "      <th>1</th>\n",
       "      <td>31-05-17</td>\n",
       "      <td>ENGINE OIL</td>\n",
       "    </tr>\n",
       "    <tr>\n",
       "      <th>2</th>\n",
       "      <td>31-05-17</td>\n",
       "      <td>POLISH</td>\n",
       "    </tr>\n",
       "    <tr>\n",
       "      <th>3</th>\n",
       "      <td>31-05-17</td>\n",
       "      <td>CONSUMABLES</td>\n",
       "    </tr>\n",
       "    <tr>\n",
       "      <th>4</th>\n",
       "      <td>31-05-17</td>\n",
       "      <td>COOLANT OIL</td>\n",
       "    </tr>\n",
       "    <tr>\n",
       "      <th>...</th>\n",
       "      <td>...</td>\n",
       "      <td>...</td>\n",
       "    </tr>\n",
       "    <tr>\n",
       "      <th>28477</th>\n",
       "      <td>06-01-19</td>\n",
       "      <td>SPROCKET RUBBER</td>\n",
       "    </tr>\n",
       "    <tr>\n",
       "      <th>28478</th>\n",
       "      <td>06-01-19</td>\n",
       "      <td>CLUTCH CABLE</td>\n",
       "    </tr>\n",
       "    <tr>\n",
       "      <th>28479</th>\n",
       "      <td>06-01-19</td>\n",
       "      <td>OIL FILTER</td>\n",
       "    </tr>\n",
       "    <tr>\n",
       "      <th>28480</th>\n",
       "      <td>06-01-19</td>\n",
       "      <td>DISC OIL</td>\n",
       "    </tr>\n",
       "    <tr>\n",
       "      <th>28481</th>\n",
       "      <td>06-01-19</td>\n",
       "      <td>AIR FILTER</td>\n",
       "    </tr>\n",
       "  </tbody>\n",
       "</table>\n",
       "<p>28042 rows × 2 columns</p>\n",
       "</div>"
      ],
      "text/plain": [
       "           date            spare\n",
       "0      30-05-17       ENGINE OIL\n",
       "1      31-05-17       ENGINE OIL\n",
       "2      31-05-17           POLISH\n",
       "3      31-05-17      CONSUMABLES\n",
       "4      31-05-17      COOLANT OIL\n",
       "...         ...              ...\n",
       "28477  06-01-19  SPROCKET RUBBER\n",
       "28478  06-01-19     CLUTCH CABLE\n",
       "28479  06-01-19       OIL FILTER\n",
       "28480  06-01-19         DISC OIL\n",
       "28481  06-01-19       AIR FILTER\n",
       "\n",
       "[28042 rows x 2 columns]"
      ]
     },
     "execution_count": 644,
     "metadata": {},
     "output_type": "execute_result"
    }
   ],
   "source": [
    "df2= df[['job_card_date','invoice_line_text']]\n",
    "df2 = df2.rename(columns={'job_card_date': 'date', 'invoice_line_text': 'spare'})\n",
    "df2"
   ]
  },
  {
   "cell_type": "markdown",
   "id": "423aa959",
   "metadata": {},
   "source": [
    "### Grouping date and adding count column for spare unique values count for each grouped date value"
   ]
  },
  {
   "cell_type": "code",
   "execution_count": 645,
   "id": "3feed3c6",
   "metadata": {},
   "outputs": [
    {
     "data": {
      "text/html": [
       "<div>\n",
       "<style scoped>\n",
       "    .dataframe tbody tr th:only-of-type {\n",
       "        vertical-align: middle;\n",
       "    }\n",
       "\n",
       "    .dataframe tbody tr th {\n",
       "        vertical-align: top;\n",
       "    }\n",
       "\n",
       "    .dataframe thead th {\n",
       "        text-align: right;\n",
       "    }\n",
       "</style>\n",
       "<table border=\"1\" class=\"dataframe\">\n",
       "  <thead>\n",
       "    <tr style=\"text-align: right;\">\n",
       "      <th></th>\n",
       "      <th>date</th>\n",
       "      <th>spare</th>\n",
       "      <th>count</th>\n",
       "    </tr>\n",
       "  </thead>\n",
       "  <tbody>\n",
       "    <tr>\n",
       "      <th>0</th>\n",
       "      <td>01-02-18</td>\n",
       "      <td>ENGINE OIL</td>\n",
       "      <td>8</td>\n",
       "    </tr>\n",
       "    <tr>\n",
       "      <th>1</th>\n",
       "      <td>01-02-18</td>\n",
       "      <td>CHAIN LUBRICATION</td>\n",
       "      <td>8</td>\n",
       "    </tr>\n",
       "    <tr>\n",
       "      <th>2</th>\n",
       "      <td>01-02-18</td>\n",
       "      <td>GENERAL SERVICE</td>\n",
       "      <td>6</td>\n",
       "    </tr>\n",
       "    <tr>\n",
       "      <th>3</th>\n",
       "      <td>01-02-18</td>\n",
       "      <td>AIR FILTER</td>\n",
       "      <td>5</td>\n",
       "    </tr>\n",
       "    <tr>\n",
       "      <th>4</th>\n",
       "      <td>01-02-18</td>\n",
       "      <td>BRAKE SHOE</td>\n",
       "      <td>4</td>\n",
       "    </tr>\n",
       "    <tr>\n",
       "      <th>...</th>\n",
       "      <td>...</td>\n",
       "      <td>...</td>\n",
       "      <td>...</td>\n",
       "    </tr>\n",
       "    <tr>\n",
       "      <th>12604</th>\n",
       "      <td>31-12-18</td>\n",
       "      <td>SHIELD SQUARE RUBBER</td>\n",
       "      <td>1</td>\n",
       "    </tr>\n",
       "    <tr>\n",
       "      <th>12605</th>\n",
       "      <td>31-12-18</td>\n",
       "      <td>CHAIN ADJUSTER</td>\n",
       "      <td>1</td>\n",
       "    </tr>\n",
       "    <tr>\n",
       "      <th>12606</th>\n",
       "      <td>31-12-18</td>\n",
       "      <td>CHAIN ADJUSTER PLATE</td>\n",
       "      <td>1</td>\n",
       "    </tr>\n",
       "    <tr>\n",
       "      <th>12607</th>\n",
       "      <td>31-12-18</td>\n",
       "      <td>BRAKE SHOE</td>\n",
       "      <td>1</td>\n",
       "    </tr>\n",
       "    <tr>\n",
       "      <th>12608</th>\n",
       "      <td>31-12-18</td>\n",
       "      <td>HEAD LIGHT SWITCH</td>\n",
       "      <td>1</td>\n",
       "    </tr>\n",
       "  </tbody>\n",
       "</table>\n",
       "<p>12609 rows × 3 columns</p>\n",
       "</div>"
      ],
      "text/plain": [
       "           date                 spare count\n",
       "0      01-02-18            ENGINE OIL     8\n",
       "1      01-02-18     CHAIN LUBRICATION     8\n",
       "2      01-02-18       GENERAL SERVICE     6\n",
       "3      01-02-18            AIR FILTER     5\n",
       "4      01-02-18            BRAKE SHOE     4\n",
       "...         ...                   ...   ...\n",
       "12604  31-12-18  SHIELD SQUARE RUBBER     1\n",
       "12605  31-12-18        CHAIN ADJUSTER     1\n",
       "12606  31-12-18  CHAIN ADJUSTER PLATE     1\n",
       "12607  31-12-18            BRAKE SHOE     1\n",
       "12608  31-12-18     HEAD LIGHT SWITCH     1\n",
       "\n",
       "[12609 rows x 3 columns]"
      ]
     },
     "execution_count": 645,
     "metadata": {},
     "output_type": "execute_result"
    }
   ],
   "source": [
    "grouped = df2.groupby('date')\n",
    "\n",
    "# Create an empty DataFrame to store the results\n",
    "df3 = pd.DataFrame(columns=['date', 'spare', 'count'])\n",
    "\n",
    "# Iterate over the groups and count the unique values of the spare column for each group\n",
    "for date, group in grouped:\n",
    "    # Count the unique values of the spare column\n",
    "    counts = group['spare'].value_counts()\n",
    "\n",
    "    # Add the counts to the results DataFrame\n",
    "    for invoice_line_text, count in counts.items():\n",
    "            df3 = df3.append({\n",
    "            'date': date,\n",
    "            'spare': invoice_line_text,\n",
    "            'count': count\n",
    "        }, ignore_index=True)\n",
    "\n",
    "# Display the results\n",
    "pd.DataFrame(df3)"
   ]
  },
  {
   "cell_type": "markdown",
   "id": "b898df81",
   "metadata": {},
   "source": [
    "# Feature Engineering for regressor models"
   ]
  },
  {
   "cell_type": "code",
   "execution_count": 646,
   "id": "4305457c",
   "metadata": {
    "scrolled": true
   },
   "outputs": [],
   "source": [
    "df4 = df3.copy()"
   ]
  },
  {
   "cell_type": "code",
   "execution_count": 647,
   "id": "01ecc31c",
   "metadata": {},
   "outputs": [
    {
     "data": {
      "text/html": [
       "<div>\n",
       "<style scoped>\n",
       "    .dataframe tbody tr th:only-of-type {\n",
       "        vertical-align: middle;\n",
       "    }\n",
       "\n",
       "    .dataframe tbody tr th {\n",
       "        vertical-align: top;\n",
       "    }\n",
       "\n",
       "    .dataframe thead th {\n",
       "        text-align: right;\n",
       "    }\n",
       "</style>\n",
       "<table border=\"1\" class=\"dataframe\">\n",
       "  <thead>\n",
       "    <tr style=\"text-align: right;\">\n",
       "      <th></th>\n",
       "      <th>date</th>\n",
       "      <th>spare</th>\n",
       "      <th>count</th>\n",
       "    </tr>\n",
       "  </thead>\n",
       "  <tbody>\n",
       "    <tr>\n",
       "      <th>0</th>\n",
       "      <td>01-02-18</td>\n",
       "      <td>ENGINE OIL</td>\n",
       "      <td>8</td>\n",
       "    </tr>\n",
       "    <tr>\n",
       "      <th>1</th>\n",
       "      <td>01-02-18</td>\n",
       "      <td>CHAIN LUBRICATION</td>\n",
       "      <td>8</td>\n",
       "    </tr>\n",
       "    <tr>\n",
       "      <th>2</th>\n",
       "      <td>01-02-18</td>\n",
       "      <td>GENERAL SERVICE</td>\n",
       "      <td>6</td>\n",
       "    </tr>\n",
       "    <tr>\n",
       "      <th>3</th>\n",
       "      <td>01-02-18</td>\n",
       "      <td>AIR FILTER</td>\n",
       "      <td>5</td>\n",
       "    </tr>\n",
       "    <tr>\n",
       "      <th>4</th>\n",
       "      <td>01-02-18</td>\n",
       "      <td>BRAKE SHOE</td>\n",
       "      <td>4</td>\n",
       "    </tr>\n",
       "    <tr>\n",
       "      <th>...</th>\n",
       "      <td>...</td>\n",
       "      <td>...</td>\n",
       "      <td>...</td>\n",
       "    </tr>\n",
       "    <tr>\n",
       "      <th>12604</th>\n",
       "      <td>31-12-18</td>\n",
       "      <td>SHIELD SQUARE RUBBER</td>\n",
       "      <td>1</td>\n",
       "    </tr>\n",
       "    <tr>\n",
       "      <th>12605</th>\n",
       "      <td>31-12-18</td>\n",
       "      <td>CHAIN ADJUSTER</td>\n",
       "      <td>1</td>\n",
       "    </tr>\n",
       "    <tr>\n",
       "      <th>12606</th>\n",
       "      <td>31-12-18</td>\n",
       "      <td>CHAIN ADJUSTER PLATE</td>\n",
       "      <td>1</td>\n",
       "    </tr>\n",
       "    <tr>\n",
       "      <th>12607</th>\n",
       "      <td>31-12-18</td>\n",
       "      <td>BRAKE SHOE</td>\n",
       "      <td>1</td>\n",
       "    </tr>\n",
       "    <tr>\n",
       "      <th>12608</th>\n",
       "      <td>31-12-18</td>\n",
       "      <td>HEAD LIGHT SWITCH</td>\n",
       "      <td>1</td>\n",
       "    </tr>\n",
       "  </tbody>\n",
       "</table>\n",
       "<p>12609 rows × 3 columns</p>\n",
       "</div>"
      ],
      "text/plain": [
       "           date                 spare count\n",
       "0      01-02-18            ENGINE OIL     8\n",
       "1      01-02-18     CHAIN LUBRICATION     8\n",
       "2      01-02-18       GENERAL SERVICE     6\n",
       "3      01-02-18            AIR FILTER     5\n",
       "4      01-02-18            BRAKE SHOE     4\n",
       "...         ...                   ...   ...\n",
       "12604  31-12-18  SHIELD SQUARE RUBBER     1\n",
       "12605  31-12-18        CHAIN ADJUSTER     1\n",
       "12606  31-12-18  CHAIN ADJUSTER PLATE     1\n",
       "12607  31-12-18            BRAKE SHOE     1\n",
       "12608  31-12-18     HEAD LIGHT SWITCH     1\n",
       "\n",
       "[12609 rows x 3 columns]"
      ]
     },
     "execution_count": 647,
     "metadata": {},
     "output_type": "execute_result"
    }
   ],
   "source": [
    "df4"
   ]
  },
  {
   "cell_type": "code",
   "execution_count": 648,
   "id": "5463090d",
   "metadata": {},
   "outputs": [],
   "source": [
    "df4[['day','month','year']]= df4['date'].str.split(\"-\", n = 2, expand = True) # spliting dd-mm-yy to dd , mm, yy columns "
   ]
  },
  {
   "cell_type": "code",
   "execution_count": 649,
   "id": "d13ab30f",
   "metadata": {},
   "outputs": [],
   "source": [
    "df4.drop(columns=['date'],inplace=True) #droping old date column"
   ]
  },
  {
   "cell_type": "code",
   "execution_count": 650,
   "id": "e8ed25a2",
   "metadata": {},
   "outputs": [
    {
     "data": {
      "text/html": [
       "<div>\n",
       "<style scoped>\n",
       "    .dataframe tbody tr th:only-of-type {\n",
       "        vertical-align: middle;\n",
       "    }\n",
       "\n",
       "    .dataframe tbody tr th {\n",
       "        vertical-align: top;\n",
       "    }\n",
       "\n",
       "    .dataframe thead th {\n",
       "        text-align: right;\n",
       "    }\n",
       "</style>\n",
       "<table border=\"1\" class=\"dataframe\">\n",
       "  <thead>\n",
       "    <tr style=\"text-align: right;\">\n",
       "      <th></th>\n",
       "      <th>spare</th>\n",
       "      <th>count</th>\n",
       "      <th>day</th>\n",
       "      <th>month</th>\n",
       "      <th>year</th>\n",
       "    </tr>\n",
       "  </thead>\n",
       "  <tbody>\n",
       "    <tr>\n",
       "      <th>0</th>\n",
       "      <td>ENGINE OIL</td>\n",
       "      <td>8</td>\n",
       "      <td>01</td>\n",
       "      <td>02</td>\n",
       "      <td>18</td>\n",
       "    </tr>\n",
       "    <tr>\n",
       "      <th>1</th>\n",
       "      <td>CHAIN LUBRICATION</td>\n",
       "      <td>8</td>\n",
       "      <td>01</td>\n",
       "      <td>02</td>\n",
       "      <td>18</td>\n",
       "    </tr>\n",
       "    <tr>\n",
       "      <th>2</th>\n",
       "      <td>GENERAL SERVICE</td>\n",
       "      <td>6</td>\n",
       "      <td>01</td>\n",
       "      <td>02</td>\n",
       "      <td>18</td>\n",
       "    </tr>\n",
       "    <tr>\n",
       "      <th>3</th>\n",
       "      <td>AIR FILTER</td>\n",
       "      <td>5</td>\n",
       "      <td>01</td>\n",
       "      <td>02</td>\n",
       "      <td>18</td>\n",
       "    </tr>\n",
       "    <tr>\n",
       "      <th>4</th>\n",
       "      <td>BRAKE SHOE</td>\n",
       "      <td>4</td>\n",
       "      <td>01</td>\n",
       "      <td>02</td>\n",
       "      <td>18</td>\n",
       "    </tr>\n",
       "    <tr>\n",
       "      <th>...</th>\n",
       "      <td>...</td>\n",
       "      <td>...</td>\n",
       "      <td>...</td>\n",
       "      <td>...</td>\n",
       "      <td>...</td>\n",
       "    </tr>\n",
       "    <tr>\n",
       "      <th>12604</th>\n",
       "      <td>SHIELD SQUARE RUBBER</td>\n",
       "      <td>1</td>\n",
       "      <td>31</td>\n",
       "      <td>12</td>\n",
       "      <td>18</td>\n",
       "    </tr>\n",
       "    <tr>\n",
       "      <th>12605</th>\n",
       "      <td>CHAIN ADJUSTER</td>\n",
       "      <td>1</td>\n",
       "      <td>31</td>\n",
       "      <td>12</td>\n",
       "      <td>18</td>\n",
       "    </tr>\n",
       "    <tr>\n",
       "      <th>12606</th>\n",
       "      <td>CHAIN ADJUSTER PLATE</td>\n",
       "      <td>1</td>\n",
       "      <td>31</td>\n",
       "      <td>12</td>\n",
       "      <td>18</td>\n",
       "    </tr>\n",
       "    <tr>\n",
       "      <th>12607</th>\n",
       "      <td>BRAKE SHOE</td>\n",
       "      <td>1</td>\n",
       "      <td>31</td>\n",
       "      <td>12</td>\n",
       "      <td>18</td>\n",
       "    </tr>\n",
       "    <tr>\n",
       "      <th>12608</th>\n",
       "      <td>HEAD LIGHT SWITCH</td>\n",
       "      <td>1</td>\n",
       "      <td>31</td>\n",
       "      <td>12</td>\n",
       "      <td>18</td>\n",
       "    </tr>\n",
       "  </tbody>\n",
       "</table>\n",
       "<p>12609 rows × 5 columns</p>\n",
       "</div>"
      ],
      "text/plain": [
       "                      spare count day month year\n",
       "0                ENGINE OIL     8  01    02   18\n",
       "1         CHAIN LUBRICATION     8  01    02   18\n",
       "2           GENERAL SERVICE     6  01    02   18\n",
       "3                AIR FILTER     5  01    02   18\n",
       "4                BRAKE SHOE     4  01    02   18\n",
       "...                     ...   ...  ..   ...  ...\n",
       "12604  SHIELD SQUARE RUBBER     1  31    12   18\n",
       "12605        CHAIN ADJUSTER     1  31    12   18\n",
       "12606  CHAIN ADJUSTER PLATE     1  31    12   18\n",
       "12607            BRAKE SHOE     1  31    12   18\n",
       "12608     HEAD LIGHT SWITCH     1  31    12   18\n",
       "\n",
       "[12609 rows x 5 columns]"
      ]
     },
     "execution_count": 650,
     "metadata": {},
     "output_type": "execute_result"
    }
   ],
   "source": [
    "df4"
   ]
  },
  {
   "cell_type": "code",
   "execution_count": 651,
   "id": "5759159b",
   "metadata": {},
   "outputs": [],
   "source": [
    "df4 = df4.astype({'day': 'int32', 'month': 'int32', 'year': 'int32', 'count': 'int32'}) # astyping day,month and year column"
   ]
  },
  {
   "cell_type": "code",
   "execution_count": 652,
   "id": "199ec0d5",
   "metadata": {},
   "outputs": [
    {
     "data": {
      "text/html": [
       "<div>\n",
       "<style scoped>\n",
       "    .dataframe tbody tr th:only-of-type {\n",
       "        vertical-align: middle;\n",
       "    }\n",
       "\n",
       "    .dataframe tbody tr th {\n",
       "        vertical-align: top;\n",
       "    }\n",
       "\n",
       "    .dataframe thead th {\n",
       "        text-align: right;\n",
       "    }\n",
       "</style>\n",
       "<table border=\"1\" class=\"dataframe\">\n",
       "  <thead>\n",
       "    <tr style=\"text-align: right;\">\n",
       "      <th></th>\n",
       "      <th>spare</th>\n",
       "      <th>count</th>\n",
       "      <th>day</th>\n",
       "      <th>month</th>\n",
       "      <th>year</th>\n",
       "    </tr>\n",
       "  </thead>\n",
       "  <tbody>\n",
       "    <tr>\n",
       "      <th>0</th>\n",
       "      <td>144</td>\n",
       "      <td>8</td>\n",
       "      <td>1</td>\n",
       "      <td>2</td>\n",
       "      <td>18</td>\n",
       "    </tr>\n",
       "    <tr>\n",
       "      <th>1</th>\n",
       "      <td>74</td>\n",
       "      <td>8</td>\n",
       "      <td>1</td>\n",
       "      <td>2</td>\n",
       "      <td>18</td>\n",
       "    </tr>\n",
       "    <tr>\n",
       "      <th>2</th>\n",
       "      <td>202</td>\n",
       "      <td>6</td>\n",
       "      <td>1</td>\n",
       "      <td>2</td>\n",
       "      <td>18</td>\n",
       "    </tr>\n",
       "    <tr>\n",
       "      <th>3</th>\n",
       "      <td>10</td>\n",
       "      <td>5</td>\n",
       "      <td>1</td>\n",
       "      <td>2</td>\n",
       "      <td>18</td>\n",
       "    </tr>\n",
       "    <tr>\n",
       "      <th>4</th>\n",
       "      <td>45</td>\n",
       "      <td>4</td>\n",
       "      <td>1</td>\n",
       "      <td>2</td>\n",
       "      <td>18</td>\n",
       "    </tr>\n",
       "    <tr>\n",
       "      <th>...</th>\n",
       "      <td>...</td>\n",
       "      <td>...</td>\n",
       "      <td>...</td>\n",
       "      <td>...</td>\n",
       "      <td>...</td>\n",
       "    </tr>\n",
       "    <tr>\n",
       "      <th>12604</th>\n",
       "      <td>375</td>\n",
       "      <td>1</td>\n",
       "      <td>31</td>\n",
       "      <td>12</td>\n",
       "      <td>18</td>\n",
       "    </tr>\n",
       "    <tr>\n",
       "      <th>12605</th>\n",
       "      <td>68</td>\n",
       "      <td>1</td>\n",
       "      <td>31</td>\n",
       "      <td>12</td>\n",
       "      <td>18</td>\n",
       "    </tr>\n",
       "    <tr>\n",
       "      <th>12606</th>\n",
       "      <td>69</td>\n",
       "      <td>1</td>\n",
       "      <td>31</td>\n",
       "      <td>12</td>\n",
       "      <td>18</td>\n",
       "    </tr>\n",
       "    <tr>\n",
       "      <th>12607</th>\n",
       "      <td>45</td>\n",
       "      <td>1</td>\n",
       "      <td>31</td>\n",
       "      <td>12</td>\n",
       "      <td>18</td>\n",
       "    </tr>\n",
       "    <tr>\n",
       "      <th>12608</th>\n",
       "      <td>234</td>\n",
       "      <td>1</td>\n",
       "      <td>31</td>\n",
       "      <td>12</td>\n",
       "      <td>18</td>\n",
       "    </tr>\n",
       "  </tbody>\n",
       "</table>\n",
       "<p>12609 rows × 5 columns</p>\n",
       "</div>"
      ],
      "text/plain": [
       "       spare  count  day  month  year\n",
       "0        144      8    1      2    18\n",
       "1         74      8    1      2    18\n",
       "2        202      6    1      2    18\n",
       "3         10      5    1      2    18\n",
       "4         45      4    1      2    18\n",
       "...      ...    ...  ...    ...   ...\n",
       "12604    375      1   31     12    18\n",
       "12605     68      1   31     12    18\n",
       "12606     69      1   31     12    18\n",
       "12607     45      1   31     12    18\n",
       "12608    234      1   31     12    18\n",
       "\n",
       "[12609 rows x 5 columns]"
      ]
     },
     "execution_count": 652,
     "metadata": {},
     "output_type": "execute_result"
    }
   ],
   "source": [
    "from sklearn.preprocessing import LabelEncoder # doing label encoding\n",
    "LE=LabelEncoder()\n",
    "df4['spare']=LE.fit_transform(df4['spare'])\n",
    "df4"
   ]
  },
  {
   "cell_type": "code",
   "execution_count": 653,
   "id": "838eee11",
   "metadata": {
    "scrolled": true
   },
   "outputs": [
    {
     "name": "stdout",
     "output_type": "stream",
     "text": [
      "<class 'pandas.core.frame.DataFrame'>\n",
      "RangeIndex: 12609 entries, 0 to 12608\n",
      "Data columns (total 5 columns):\n",
      " #   Column  Non-Null Count  Dtype\n",
      "---  ------  --------------  -----\n",
      " 0   spare   12609 non-null  int32\n",
      " 1   count   12609 non-null  int32\n",
      " 2   day     12609 non-null  int32\n",
      " 3   month   12609 non-null  int32\n",
      " 4   year    12609 non-null  int32\n",
      "dtypes: int32(5)\n",
      "memory usage: 246.4 KB\n"
     ]
    }
   ],
   "source": [
    "df4.info() #changed every column dtype to int"
   ]
  },
  {
   "cell_type": "code",
   "execution_count": 654,
   "id": "3fabd65f",
   "metadata": {
    "scrolled": false
   },
   "outputs": [
    {
     "data": {
      "text/html": [
       "<div>\n",
       "<style scoped>\n",
       "    .dataframe tbody tr th:only-of-type {\n",
       "        vertical-align: middle;\n",
       "    }\n",
       "\n",
       "    .dataframe tbody tr th {\n",
       "        vertical-align: top;\n",
       "    }\n",
       "\n",
       "    .dataframe thead th {\n",
       "        text-align: right;\n",
       "    }\n",
       "</style>\n",
       "<table border=\"1\" class=\"dataframe\">\n",
       "  <thead>\n",
       "    <tr style=\"text-align: right;\">\n",
       "      <th></th>\n",
       "      <th>spare</th>\n",
       "      <th>count</th>\n",
       "      <th>day</th>\n",
       "      <th>month</th>\n",
       "      <th>year</th>\n",
       "    </tr>\n",
       "  </thead>\n",
       "  <tbody>\n",
       "    <tr>\n",
       "      <th>count</th>\n",
       "      <td>12609.000000</td>\n",
       "      <td>12609.000000</td>\n",
       "      <td>12609.000000</td>\n",
       "      <td>12609.000000</td>\n",
       "      <td>12609.000000</td>\n",
       "    </tr>\n",
       "    <tr>\n",
       "      <th>mean</th>\n",
       "      <td>192.207074</td>\n",
       "      <td>2.223967</td>\n",
       "      <td>15.568959</td>\n",
       "      <td>7.558569</td>\n",
       "      <td>17.699976</td>\n",
       "    </tr>\n",
       "    <tr>\n",
       "      <th>std</th>\n",
       "      <td>143.550617</td>\n",
       "      <td>2.103891</td>\n",
       "      <td>8.960194</td>\n",
       "      <td>3.223671</td>\n",
       "      <td>0.482893</td>\n",
       "    </tr>\n",
       "    <tr>\n",
       "      <th>min</th>\n",
       "      <td>0.000000</td>\n",
       "      <td>1.000000</td>\n",
       "      <td>1.000000</td>\n",
       "      <td>1.000000</td>\n",
       "      <td>17.000000</td>\n",
       "    </tr>\n",
       "    <tr>\n",
       "      <th>25%</th>\n",
       "      <td>78.000000</td>\n",
       "      <td>1.000000</td>\n",
       "      <td>7.000000</td>\n",
       "      <td>5.000000</td>\n",
       "      <td>17.000000</td>\n",
       "    </tr>\n",
       "    <tr>\n",
       "      <th>50%</th>\n",
       "      <td>144.000000</td>\n",
       "      <td>1.000000</td>\n",
       "      <td>16.000000</td>\n",
       "      <td>8.000000</td>\n",
       "      <td>18.000000</td>\n",
       "    </tr>\n",
       "    <tr>\n",
       "      <th>75%</th>\n",
       "      <td>314.000000</td>\n",
       "      <td>3.000000</td>\n",
       "      <td>23.000000</td>\n",
       "      <td>10.000000</td>\n",
       "      <td>18.000000</td>\n",
       "    </tr>\n",
       "    <tr>\n",
       "      <th>max</th>\n",
       "      <td>481.000000</td>\n",
       "      <td>17.000000</td>\n",
       "      <td>31.000000</td>\n",
       "      <td>12.000000</td>\n",
       "      <td>19.000000</td>\n",
       "    </tr>\n",
       "  </tbody>\n",
       "</table>\n",
       "</div>"
      ],
      "text/plain": [
       "              spare         count           day         month          year\n",
       "count  12609.000000  12609.000000  12609.000000  12609.000000  12609.000000\n",
       "mean     192.207074      2.223967     15.568959      7.558569     17.699976\n",
       "std      143.550617      2.103891      8.960194      3.223671      0.482893\n",
       "min        0.000000      1.000000      1.000000      1.000000     17.000000\n",
       "25%       78.000000      1.000000      7.000000      5.000000     17.000000\n",
       "50%      144.000000      1.000000     16.000000      8.000000     18.000000\n",
       "75%      314.000000      3.000000     23.000000     10.000000     18.000000\n",
       "max      481.000000     17.000000     31.000000     12.000000     19.000000"
      ]
     },
     "execution_count": 654,
     "metadata": {},
     "output_type": "execute_result"
    }
   ],
   "source": [
    "df4.describe() # checking for constant variable, there is none"
   ]
  },
  {
   "cell_type": "markdown",
   "id": "783a7b44",
   "metadata": {},
   "source": [
    "## Checking Outliers"
   ]
  },
  {
   "cell_type": "code",
   "execution_count": 655,
   "id": "0e16c7ca",
   "metadata": {
    "scrolled": false
   },
   "outputs": [
    {
     "data": {
      "image/png": "[encoded data removed]",
      "text/plain": [
       "<Figure size 1440x144 with 1 Axes>"
      ]
     },
     "metadata": {
      "needs_background": "light"
     },
     "output_type": "display_data"
    },
    {
     "data": {
      "image/png": "[encoded data removed]",
      "text/plain": [
       "<Figure size 1440x144 with 1 Axes>"
      ]
     },
     "metadata": {
      "needs_background": "light"
     },
     "output_type": "display_data"
    },
    {
     "data": {
      "image/png": "[encoded data removed]",
      "text/plain": [
       "<Figure size 1440x144 with 1 Axes>"
      ]
     },
     "metadata": {
      "needs_background": "light"
     },
     "output_type": "display_data"
    },
    {
     "data": {
      "image/png": "[encoded data removed]",
      "text/plain": [
       "<Figure size 1440x144 with 1 Axes>"
      ]
     },
     "metadata": {
      "needs_background": "light"
     },
     "output_type": "display_data"
    },
    {
     "data": {
      "image/png": "[encoded data removed]",
      "text/plain": [
       "<Figure size 1440x144 with 1 Axes>"
      ]
     },
     "metadata": {
      "needs_background": "light"
     },
     "output_type": "display_data"
    }
   ],
   "source": [
    "for i in df4:\n",
    "    sns.boxplot(df4[i]) #boxplot\n",
    "    plt.show()"
   ]
  },
  {
   "cell_type": "raw",
   "id": "77b38ac0",
   "metadata": {},
   "source": [
    "q75, q25 = np.percentile(df4['count'], [75, 25])\n",
    "iqr = q75 - q25\n",
    "lower_bound = q25 - (iqr * 1.5)\n",
    "upper_bound = q75 + (iqr * 1.5)\n",
    "outliers = df4[(df4['count'] < lower_bound) | (df4['count'] > upper_bound)] # 727 rows × 5 columns\n",
    "df4= df4[(df4['count'] >= lower_bound) & (df4['count'] <= upper_bound)]"
   ]
  },
  {
   "cell_type": "markdown",
   "id": "45ad4a27",
   "metadata": {},
   "source": [
    "- Not removing outliers in count column, tried removing them using above code and ran the models , it did'nt improve r2 score , I'm keeping them as it is."
   ]
  },
  {
   "cell_type": "markdown",
   "id": "e4268807",
   "metadata": {},
   "source": [
    "## Checking Correlations of variables"
   ]
  },
  {
   "cell_type": "code",
   "execution_count": 656,
   "id": "2091af43",
   "metadata": {
    "scrolled": true
   },
   "outputs": [
    {
     "data": {
      "text/html": [
       "<style type=\"text/css\">\n",
       "#T_8417c_row0_col0, #T_8417c_row1_col1, #T_8417c_row2_col2, #T_8417c_row3_col3 {\n",
       "  background-color: #b40426;\n",
       "  color: #f1f1f1;\n",
       "}\n",
       "#T_8417c_row0_col1, #T_8417c_row1_col3, #T_8417c_row2_col3, #T_8417c_row3_col2 {\n",
       "  background-color: #3b4cc0;\n",
       "  color: #f1f1f1;\n",
       "}\n",
       "#T_8417c_row0_col2, #T_8417c_row1_col0 {\n",
       "  background-color: #4257c9;\n",
       "  color: #f1f1f1;\n",
       "}\n",
       "#T_8417c_row0_col3 {\n",
       "  background-color: #3d50c3;\n",
       "  color: #f1f1f1;\n",
       "}\n",
       "#T_8417c_row1_col2 {\n",
       "  background-color: #4c66d6;\n",
       "  color: #f1f1f1;\n",
       "}\n",
       "#T_8417c_row2_col0 {\n",
       "  background-color: #94b6ff;\n",
       "  color: #000000;\n",
       "}\n",
       "#T_8417c_row2_col1 {\n",
       "  background-color: #97b8ff;\n",
       "  color: #000000;\n",
       "}\n",
       "#T_8417c_row3_col0 {\n",
       "  background-color: #90b2fe;\n",
       "  color: #000000;\n",
       "}\n",
       "#T_8417c_row3_col1 {\n",
       "  background-color: #86a9fc;\n",
       "  color: #f1f1f1;\n",
       "}\n",
       "</style>\n",
       "<table id=\"T_8417c\">\n",
       "  <thead>\n",
       "    <tr>\n",
       "      <th class=\"blank level0\" >&nbsp;</th>\n",
       "      <th id=\"T_8417c_level0_col0\" class=\"col_heading level0 col0\" >spare</th>\n",
       "      <th id=\"T_8417c_level0_col1\" class=\"col_heading level0 col1\" >day</th>\n",
       "      <th id=\"T_8417c_level0_col2\" class=\"col_heading level0 col2\" >month</th>\n",
       "      <th id=\"T_8417c_level0_col3\" class=\"col_heading level0 col3\" >year</th>\n",
       "    </tr>\n",
       "  </thead>\n",
       "  <tbody>\n",
       "    <tr>\n",
       "      <th id=\"T_8417c_level0_row0\" class=\"row_heading level0 row0\" >spare</th>\n",
       "      <td id=\"T_8417c_row0_col0\" class=\"data row0 col0\" >1.0</td>\n",
       "      <td id=\"T_8417c_row0_col1\" class=\"data row0 col1\" >0.00244</td>\n",
       "      <td id=\"T_8417c_row0_col2\" class=\"data row0 col2\" >0.02962</td>\n",
       "      <td id=\"T_8417c_row0_col3\" class=\"data row0 col3\" >0.01162</td>\n",
       "    </tr>\n",
       "    <tr>\n",
       "      <th id=\"T_8417c_level0_row1\" class=\"row_heading level0 row1\" >day</th>\n",
       "      <td id=\"T_8417c_row1_col0\" class=\"data row1 col0\" >0.00244</td>\n",
       "      <td id=\"T_8417c_row1_col1\" class=\"data row1 col1\" >1.0</td>\n",
       "      <td id=\"T_8417c_row1_col2\" class=\"data row1 col2\" >0.03902</td>\n",
       "      <td id=\"T_8417c_row1_col3\" class=\"data row1 col3\" >-0.02498</td>\n",
       "    </tr>\n",
       "    <tr>\n",
       "      <th id=\"T_8417c_level0_row2\" class=\"row_heading level0 row2\" >month</th>\n",
       "      <td id=\"T_8417c_row2_col0\" class=\"data row2 col0\" >0.02962</td>\n",
       "      <td id=\"T_8417c_row2_col1\" class=\"data row2 col1\" >0.03902</td>\n",
       "      <td id=\"T_8417c_row2_col2\" class=\"data row2 col2\" >1.0</td>\n",
       "      <td id=\"T_8417c_row2_col3\" class=\"data row2 col3\" >-0.3339</td>\n",
       "    </tr>\n",
       "    <tr>\n",
       "      <th id=\"T_8417c_level0_row3\" class=\"row_heading level0 row3\" >year</th>\n",
       "      <td id=\"T_8417c_row3_col0\" class=\"data row3 col0\" >0.01162</td>\n",
       "      <td id=\"T_8417c_row3_col1\" class=\"data row3 col1\" >-0.02498</td>\n",
       "      <td id=\"T_8417c_row3_col2\" class=\"data row3 col2\" >-0.3339</td>\n",
       "      <td id=\"T_8417c_row3_col3\" class=\"data row3 col3\" >1.0</td>\n",
       "    </tr>\n",
       "  </tbody>\n",
       "</table>\n"
      ],
      "text/plain": [
       "<pandas.io.formats.style.Styler at 0x1ebb48bd9d0>"
      ]
     },
     "execution_count": 656,
     "metadata": {},
     "output_type": "execute_result"
    }
   ],
   "source": [
    "df4.drop('count',axis=1).corr().style.format(\"{:.4}\").background_gradient(cmap=plt.get_cmap('coolwarm'), axis=1)"
   ]
  },
  {
   "cell_type": "markdown",
   "id": "f2b7c233",
   "metadata": {},
   "source": [
    "- Since the variables does'nt have strong relation, I'm keeping them as it is"
   ]
  },
  {
   "cell_type": "markdown",
   "id": "6e257123",
   "metadata": {},
   "source": [
    "## Indipendent and Dependent variable Assigning\n"
   ]
  },
  {
   "cell_type": "code",
   "execution_count": 657,
   "id": "a097179f",
   "metadata": {},
   "outputs": [],
   "source": [
    "# Defining X and y and creating dependent and independent variables\n",
    "X = df4.drop(columns=['count'])       ## independent variable\n",
    "y = df4[['count']]    ## target variable "
   ]
  },
  {
   "cell_type": "markdown",
   "id": "fb35b39a",
   "metadata": {},
   "source": [
    "## Scaling Indipendent variable\n"
   ]
  },
  {
   "cell_type": "code",
   "execution_count": 658,
   "id": "b7d615aa",
   "metadata": {},
   "outputs": [],
   "source": [
    "from sklearn.preprocessing import StandardScaler  # to scale the data\n",
    "scalar = StandardScaler()                         # objcet creation\n",
    "X_scaled = scalar.fit_transform(X)                # scaling independent variable"
   ]
  },
  {
   "cell_type": "markdown",
   "id": "3f0820f1",
   "metadata": {},
   "source": [
    "##  Training and Testing Indipendent and Dependent variables"
   ]
  },
  {
   "cell_type": "code",
   "execution_count": 659,
   "id": "45e22545",
   "metadata": {},
   "outputs": [],
   "source": [
    "## dividing data into 80% for training and 20% testing \n",
    "from sklearn.model_selection import train_test_split # we import this to train and test X and y data\n",
    "X_train, X_test, y_train, y_test = train_test_split (X_scaled, y, test_size= 0.2, random_state = 42)"
   ]
  },
  {
   "cell_type": "markdown",
   "id": "91153a45",
   "metadata": {},
   "source": [
    "## Metrics for evaluating classification model"
   ]
  },
  {
   "cell_type": "code",
   "execution_count": 660,
   "id": "278ba3a0",
   "metadata": {
    "scrolled": true
   },
   "outputs": [],
   "source": [
    "#for model evalution we import\n",
    "from sklearn.metrics import r2_score,mean_squared_error,mean_absolute_error\n",
    "import math  #math library to root squre RMSE"
   ]
  },
  {
   "cell_type": "markdown",
   "id": "1971e7aa",
   "metadata": {},
   "source": [
    "## Creating a Global function to estimate models\n"
   ]
  },
  {
   "cell_type": "code",
   "execution_count": 661,
   "id": "f4100609",
   "metadata": {},
   "outputs": [],
   "source": [
    "# importing regression models\n",
    "from sklearn.linear_model import LinearRegression\n",
    "from sklearn.tree import DecisionTreeRegressor\n",
    "from sklearn.ensemble import RandomForestRegressor, AdaBoostRegressor, BaggingRegressor, GradientBoostingRegressor\n",
    "from xgboost import XGBRegressor\n",
    "from lightgbm import LGBMRegressor\n",
    "from catboost import CatBoostRegressor"
   ]
  },
  {
   "cell_type": "code",
   "execution_count": 662,
   "id": "66c7ff13",
   "metadata": {},
   "outputs": [],
   "source": [
    "def evaluate_regression_models(X_train, X_test, y_train, y_test):\n",
    "    \n",
    "    models = [LinearRegression(),DecisionTreeRegressor(),RandomForestRegressor(),AdaBoostRegressor(),BaggingRegressor(),\n",
    "    GradientBoostingRegressor(),XGBRegressor(),LGBMRegressor(),CatBoostRegressor()]\n",
    "    \n",
    "    model_names = ['Linear Regression','Decision Tree Regressor','Random Forest Regressor','AdaBoost Regressor',\n",
    "    'Bagging Regressor','Gradient Boosting Regressor','XGBoost Regressor','LightGBM Regressor','CatBoost Regressor']\n",
    "    \n",
    "    results = pd.DataFrame(columns=['Model', 'R2 Score', 'Adjusted R2', 'MSE', 'RMSE', 'MAE'])\n",
    "    \n",
    "    for model, model_name in zip(models, model_names):\n",
    "        model.fit(X_train, y_train)\n",
    "        y_pred = model.predict(X_test)\n",
    "        #metrics\n",
    "        r2 = r2_score(y_test, y_pred)\n",
    "        n = len(X_test)\n",
    "        p = X_test.shape[1]\n",
    "        adjusted_r2 = 1 - (1-r2)*(n-1)/(n-p-1)\n",
    "        mse = mean_squared_error(y_test, y_pred)\n",
    "        rmse = mse**0.5\n",
    "        mae = mean_absolute_error(y_test, y_pred)\n",
    "       \n",
    "        # Store the results in the DataFrame\n",
    "        results = results.append({'Model': model_name, 'R2 Score': r2, 'Adjusted R2': adjusted_r2,\n",
    "                                  'MSE': mse, 'RMSE': rmse, 'MAE': mae}, ignore_index=True)\n",
    "        \n",
    "        # Plot the actual and predicted values\n",
    "        plt.figure(figsize=(8,2))\n",
    "        plt.plot(y, label='Actual')\n",
    "        plt.plot(y_pred, label='Predicted')\n",
    "        plt.title(model_name)\n",
    "        plt.xlabel('Index')\n",
    "        plt.ylabel('Target Value')\n",
    "        plt.legend()\n",
    "        plt.show()      \n",
    "    return results    "
   ]
  },
  {
   "cell_type": "code",
   "execution_count": 663,
   "id": "8ee60501",
   "metadata": {
    "scrolled": true
   },
   "outputs": [
    {
     "data": {
      "image/png": "[encoded data removed]",
      "text/plain": [
       "<Figure size 576x144 with 1 Axes>"
      ]
     },
     "metadata": {
      "needs_background": "light"
     },
     "output_type": "display_data"
    },
    {
     "data": {
      "image/png": "[encoded data removed]",
      "text/plain": [
       "<Figure size 576x144 with 1 Axes>"
      ]
     },
     "metadata": {
      "needs_background": "light"
     },
     "output_type": "display_data"
    },
    {
     "data": {
      "image/png": "[encoded data removed]",
      "text/plain": [
       "<Figure size 576x144 with 1 Axes>"
      ]
     },
     "metadata": {
      "needs_background": "light"
     },
     "output_type": "display_data"
    },
    {
     "data": {
      "image/png": "[encoded data removed]",
      "text/plain": [
       "<Figure size 576x144 with 1 Axes>"
      ]
     },
     "metadata": {
      "needs_background": "light"
     },
     "output_type": "display_data"
    },
    {
     "data": {
      "image/png": "[encoded data removed]",
      "text/plain": [
       "<Figure size 576x144 with 1 Axes>"
      ]
     },
     "metadata": {
      "needs_background": "light"
     },
     "output_type": "display_data"
    },
    {
     "data": {
      "image/png": "[encoded data removed]",
      "text/plain": [
       "<Figure size 576x144 with 1 Axes>"
      ]
     },
     "metadata": {
      "needs_background": "light"
     },
     "output_type": "display_data"
    },
    {
     "data": {
      "image/png": "[encoded data removed]",
      "text/plain": [
       "<Figure size 576x144 with 1 Axes>"
      ]
     },
     "metadata": {
      "needs_background": "light"
     },
     "output_type": "display_data"
    },
    {
     "data": {
      "image/png": "[encoded data removed]",
      "text/plain": [
       "<Figure size 576x144 with 1 Axes>"
      ]
     },
     "metadata": {
      "needs_background": "light"
     },
     "output_type": "display_data"
    },
    {
     "name": "stdout",
     "output_type": "stream",
     "text": [
      "Learning rate set to 0.058989\n",
      "0:\tlearn: 2.0490842\ttotal: 4.45ms\tremaining: 4.44s\n",
      "1:\tlearn: 2.0059062\ttotal: 9.08ms\tremaining: 4.53s\n",
      "2:\tlearn: 1.9583970\ttotal: 12.6ms\tremaining: 4.17s\n",
      "3:\tlearn: 1.9214914\ttotal: 16.3ms\tremaining: 4.07s\n",
      "4:\tlearn: 1.8911296\ttotal: 20.3ms\tremaining: 4.05s\n",
      "5:\tlearn: 1.8581509\ttotal: 24.2ms\tremaining: 4s\n",
      "6:\tlearn: 1.8248730\ttotal: 27.7ms\tremaining: 3.94s\n",
      "7:\tlearn: 1.8035576\ttotal: 31.3ms\tremaining: 3.88s\n",
      "8:\tlearn: 1.7827295\ttotal: 35.5ms\tremaining: 3.91s\n",
      "9:\tlearn: 1.7568561\ttotal: 39.8ms\tremaining: 3.94s\n",
      "10:\tlearn: 1.7372522\ttotal: 44.4ms\tremaining: 4s\n",
      "11:\tlearn: 1.7157696\ttotal: 48.7ms\tremaining: 4.01s\n",
      "12:\tlearn: 1.6952483\ttotal: 52.6ms\tremaining: 3.99s\n",
      "13:\tlearn: 1.6781251\ttotal: 56.7ms\tremaining: 3.99s\n",
      "14:\tlearn: 1.6682006\ttotal: 61.2ms\tremaining: 4.02s\n",
      "15:\tlearn: 1.6589878\ttotal: 66.8ms\tremaining: 4.11s\n",
      "16:\tlearn: 1.6505267\ttotal: 72.4ms\tremaining: 4.18s\n",
      "17:\tlearn: 1.6392872\ttotal: 76.4ms\tremaining: 4.17s\n",
      "18:\tlearn: 1.6320682\ttotal: 82.8ms\tremaining: 4.27s\n",
      "19:\tlearn: 1.6215310\ttotal: 86.4ms\tremaining: 4.23s\n",
      "20:\tlearn: 1.6130410\ttotal: 90ms\tremaining: 4.2s\n",
      "21:\tlearn: 1.6031078\ttotal: 93.5ms\tremaining: 4.16s\n",
      "22:\tlearn: 1.5961452\ttotal: 98.4ms\tremaining: 4.18s\n",
      "23:\tlearn: 1.5870113\ttotal: 102ms\tremaining: 4.15s\n",
      "24:\tlearn: 1.5825660\ttotal: 105ms\tremaining: 4.11s\n",
      "25:\tlearn: 1.5792443\ttotal: 109ms\tremaining: 4.08s\n",
      "26:\tlearn: 1.5723276\ttotal: 114ms\tremaining: 4.09s\n",
      "27:\tlearn: 1.5654474\ttotal: 117ms\tremaining: 4.07s\n",
      "28:\tlearn: 1.5624898\ttotal: 121ms\tremaining: 4.05s\n",
      "29:\tlearn: 1.5568786\ttotal: 124ms\tremaining: 4.02s\n",
      "30:\tlearn: 1.5510747\ttotal: 129ms\tremaining: 4.04s\n",
      "31:\tlearn: 1.5486171\ttotal: 133ms\tremaining: 4.02s\n",
      "32:\tlearn: 1.5430880\ttotal: 136ms\tremaining: 4s\n",
      "33:\tlearn: 1.5385042\ttotal: 140ms\tremaining: 3.98s\n",
      "34:\tlearn: 1.5319051\ttotal: 145ms\tremaining: 3.99s\n",
      "35:\tlearn: 1.5286773\ttotal: 149ms\tremaining: 3.98s\n",
      "36:\tlearn: 1.5271979\ttotal: 153ms\tremaining: 3.99s\n",
      "37:\tlearn: 1.5207348\ttotal: 158ms\tremaining: 4s\n",
      "38:\tlearn: 1.5137144\ttotal: 162ms\tremaining: 3.98s\n",
      "39:\tlearn: 1.5113689\ttotal: 166ms\tremaining: 3.99s\n",
      "40:\tlearn: 1.5073795\ttotal: 170ms\tremaining: 3.98s\n",
      "41:\tlearn: 1.5058885\ttotal: 174ms\tremaining: 3.97s\n",
      "42:\tlearn: 1.5035886\ttotal: 179ms\tremaining: 3.97s\n",
      "43:\tlearn: 1.4990078\ttotal: 183ms\tremaining: 3.99s\n",
      "44:\tlearn: 1.4964562\ttotal: 188ms\tremaining: 4s\n",
      "45:\tlearn: 1.4933674\ttotal: 192ms\tremaining: 3.99s\n",
      "46:\tlearn: 1.4919263\ttotal: 196ms\tremaining: 3.98s\n",
      "47:\tlearn: 1.4889195\ttotal: 199ms\tremaining: 3.96s\n",
      "48:\tlearn: 1.4878108\ttotal: 203ms\tremaining: 3.94s\n",
      "49:\tlearn: 1.4868578\ttotal: 208ms\tremaining: 3.94s\n",
      "50:\tlearn: 1.4858933\ttotal: 212ms\tremaining: 3.94s\n",
      "51:\tlearn: 1.4828647\ttotal: 216ms\tremaining: 3.95s\n",
      "52:\tlearn: 1.4787841\ttotal: 221ms\tremaining: 3.94s\n",
      "53:\tlearn: 1.4779096\ttotal: 225ms\tremaining: 3.95s\n",
      "54:\tlearn: 1.4752673\ttotal: 229ms\tremaining: 3.94s\n",
      "55:\tlearn: 1.4725669\ttotal: 233ms\tremaining: 3.93s\n",
      "56:\tlearn: 1.4711036\ttotal: 238ms\tremaining: 3.93s\n",
      "57:\tlearn: 1.4686173\ttotal: 241ms\tremaining: 3.92s\n",
      "58:\tlearn: 1.4679839\ttotal: 244ms\tremaining: 3.9s\n",
      "59:\tlearn: 1.4645275\ttotal: 248ms\tremaining: 3.88s\n",
      "60:\tlearn: 1.4628599\ttotal: 252ms\tremaining: 3.88s\n",
      "61:\tlearn: 1.4609947\ttotal: 256ms\tremaining: 3.87s\n",
      "62:\tlearn: 1.4585999\ttotal: 259ms\tremaining: 3.86s\n",
      "63:\tlearn: 1.4558019\ttotal: 263ms\tremaining: 3.85s\n",
      "64:\tlearn: 1.4546886\ttotal: 267ms\tremaining: 3.84s\n",
      "65:\tlearn: 1.4524367\ttotal: 270ms\tremaining: 3.83s\n",
      "66:\tlearn: 1.4516412\ttotal: 274ms\tremaining: 3.81s\n",
      "67:\tlearn: 1.4508179\ttotal: 277ms\tremaining: 3.8s\n",
      "68:\tlearn: 1.4483208\ttotal: 281ms\tremaining: 3.79s\n",
      "69:\tlearn: 1.4476131\ttotal: 285ms\tremaining: 3.79s\n",
      "70:\tlearn: 1.4471468\ttotal: 289ms\tremaining: 3.79s\n",
      "71:\tlearn: 1.4449147\ttotal: 293ms\tremaining: 3.78s\n",
      "72:\tlearn: 1.4433601\ttotal: 297ms\tremaining: 3.77s\n",
      "73:\tlearn: 1.4424559\ttotal: 302ms\tremaining: 3.77s\n",
      "74:\tlearn: 1.4412955\ttotal: 305ms\tremaining: 3.77s\n",
      "75:\tlearn: 1.4404988\ttotal: 309ms\tremaining: 3.75s\n",
      "76:\tlearn: 1.4397311\ttotal: 313ms\tremaining: 3.75s\n",
      "77:\tlearn: 1.4370715\ttotal: 317ms\tremaining: 3.74s\n",
      "78:\tlearn: 1.4362807\ttotal: 320ms\tremaining: 3.73s\n",
      "79:\tlearn: 1.4342698\ttotal: 324ms\tremaining: 3.72s\n",
      "80:\tlearn: 1.4323635\ttotal: 328ms\tremaining: 3.73s\n",
      "81:\tlearn: 1.4315247\ttotal: 332ms\tremaining: 3.72s\n",
      "82:\tlearn: 1.4309489\ttotal: 336ms\tremaining: 3.72s\n",
      "83:\tlearn: 1.4294378\ttotal: 340ms\tremaining: 3.71s\n",
      "84:\tlearn: 1.4285188\ttotal: 344ms\tremaining: 3.7s\n",
      "85:\tlearn: 1.4282679\ttotal: 347ms\tremaining: 3.69s\n",
      "86:\tlearn: 1.4280280\ttotal: 351ms\tremaining: 3.68s\n",
      "87:\tlearn: 1.4274535\ttotal: 354ms\tremaining: 3.67s\n",
      "88:\tlearn: 1.4269480\ttotal: 358ms\tremaining: 3.67s\n",
      "89:\tlearn: 1.4259304\ttotal: 362ms\tremaining: 3.66s\n",
      "90:\tlearn: 1.4248021\ttotal: 365ms\tremaining: 3.65s\n",
      "91:\tlearn: 1.4244894\ttotal: 369ms\tremaining: 3.64s\n",
      "92:\tlearn: 1.4222288\ttotal: 373ms\tremaining: 3.63s\n",
      "93:\tlearn: 1.4218887\ttotal: 376ms\tremaining: 3.63s\n",
      "94:\tlearn: 1.4212530\ttotal: 380ms\tremaining: 3.62s\n",
      "95:\tlearn: 1.4210471\ttotal: 383ms\tremaining: 3.61s\n",
      "96:\tlearn: 1.4196111\ttotal: 386ms\tremaining: 3.6s\n",
      "97:\tlearn: 1.4175115\ttotal: 391ms\tremaining: 3.6s\n",
      "98:\tlearn: 1.4171405\ttotal: 394ms\tremaining: 3.59s\n",
      "99:\tlearn: 1.4167422\ttotal: 398ms\tremaining: 3.58s\n",
      "100:\tlearn: 1.4159769\ttotal: 401ms\tremaining: 3.57s\n",
      "101:\tlearn: 1.4155912\ttotal: 406ms\tremaining: 3.57s\n",
      "102:\tlearn: 1.4140157\ttotal: 409ms\tremaining: 3.56s\n",
      "103:\tlearn: 1.4127765\ttotal: 412ms\tremaining: 3.55s\n",
      "104:\tlearn: 1.4115213\ttotal: 416ms\tremaining: 3.54s\n",
      "105:\tlearn: 1.4104232\ttotal: 420ms\tremaining: 3.54s\n",
      "106:\tlearn: 1.4097326\ttotal: 424ms\tremaining: 3.54s\n",
      "107:\tlearn: 1.4096013\ttotal: 427ms\tremaining: 3.52s\n",
      "108:\tlearn: 1.4091088\ttotal: 430ms\tremaining: 3.51s\n",
      "109:\tlearn: 1.4089926\ttotal: 434ms\tremaining: 3.51s\n",
      "110:\tlearn: 1.4084329\ttotal: 438ms\tremaining: 3.51s\n",
      "111:\tlearn: 1.4079016\ttotal: 442ms\tremaining: 3.5s\n",
      "112:\tlearn: 1.4076039\ttotal: 445ms\tremaining: 3.49s\n",
      "113:\tlearn: 1.4058805\ttotal: 449ms\tremaining: 3.49s\n",
      "114:\tlearn: 1.4044020\ttotal: 454ms\tremaining: 3.49s\n",
      "115:\tlearn: 1.4038178\ttotal: 458ms\tremaining: 3.49s\n",
      "116:\tlearn: 1.4032078\ttotal: 461ms\tremaining: 3.48s\n",
      "117:\tlearn: 1.4026808\ttotal: 465ms\tremaining: 3.48s\n",
      "118:\tlearn: 1.4016521\ttotal: 469ms\tremaining: 3.48s\n",
      "119:\tlearn: 1.4010284\ttotal: 473ms\tremaining: 3.47s\n",
      "120:\tlearn: 1.4001661\ttotal: 476ms\tremaining: 3.46s\n",
      "121:\tlearn: 1.4000072\ttotal: 481ms\tremaining: 3.46s\n",
      "122:\tlearn: 1.3995823\ttotal: 485ms\tremaining: 3.46s\n",
      "123:\tlearn: 1.3985064\ttotal: 488ms\tremaining: 3.45s\n",
      "124:\tlearn: 1.3981599\ttotal: 492ms\tremaining: 3.44s\n",
      "125:\tlearn: 1.3971949\ttotal: 496ms\tremaining: 3.44s\n",
      "126:\tlearn: 1.3969130\ttotal: 499ms\tremaining: 3.43s\n",
      "127:\tlearn: 1.3962238\ttotal: 503ms\tremaining: 3.42s\n",
      "128:\tlearn: 1.3959263\ttotal: 506ms\tremaining: 3.42s\n",
      "129:\tlearn: 1.3951709\ttotal: 510ms\tremaining: 3.42s\n",
      "130:\tlearn: 1.3936566\ttotal: 514ms\tremaining: 3.41s\n",
      "131:\tlearn: 1.3923617\ttotal: 518ms\tremaining: 3.4s\n",
      "132:\tlearn: 1.3913399\ttotal: 521ms\tremaining: 3.4s\n",
      "133:\tlearn: 1.3906045\ttotal: 525ms\tremaining: 3.39s\n",
      "134:\tlearn: 1.3901716\ttotal: 529ms\tremaining: 3.39s\n",
      "135:\tlearn: 1.3896387\ttotal: 532ms\tremaining: 3.38s\n",
      "136:\tlearn: 1.3892884\ttotal: 535ms\tremaining: 3.37s\n",
      "137:\tlearn: 1.3883726\ttotal: 538ms\tremaining: 3.36s\n",
      "138:\tlearn: 1.3871677\ttotal: 543ms\tremaining: 3.36s\n",
      "139:\tlearn: 1.3861545\ttotal: 546ms\tremaining: 3.35s\n",
      "140:\tlearn: 1.3843836\ttotal: 549ms\tremaining: 3.35s\n",
      "141:\tlearn: 1.3841052\ttotal: 553ms\tremaining: 3.34s\n",
      "142:\tlearn: 1.3827736\ttotal: 557ms\tremaining: 3.33s\n",
      "143:\tlearn: 1.3817408\ttotal: 560ms\tremaining: 3.33s\n",
      "144:\tlearn: 1.3809508\ttotal: 564ms\tremaining: 3.32s\n",
      "145:\tlearn: 1.3800119\ttotal: 567ms\tremaining: 3.32s\n",
      "146:\tlearn: 1.3795428\ttotal: 570ms\tremaining: 3.31s\n",
      "147:\tlearn: 1.3784829\ttotal: 575ms\tremaining: 3.31s\n",
      "148:\tlearn: 1.3779402\ttotal: 578ms\tremaining: 3.3s\n",
      "149:\tlearn: 1.3763155\ttotal: 582ms\tremaining: 3.29s\n",
      "150:\tlearn: 1.3760049\ttotal: 585ms\tremaining: 3.29s\n",
      "151:\tlearn: 1.3751855\ttotal: 589ms\tremaining: 3.29s\n",
      "152:\tlearn: 1.3747845\ttotal: 594ms\tremaining: 3.29s\n",
      "153:\tlearn: 1.3745054\ttotal: 597ms\tremaining: 3.28s\n",
      "154:\tlearn: 1.3730936\ttotal: 601ms\tremaining: 3.27s\n",
      "155:\tlearn: 1.3728636\ttotal: 605ms\tremaining: 3.27s\n",
      "156:\tlearn: 1.3725259\ttotal: 609ms\tremaining: 3.27s\n",
      "157:\tlearn: 1.3717826\ttotal: 612ms\tremaining: 3.26s\n",
      "158:\tlearn: 1.3709738\ttotal: 616ms\tremaining: 3.26s\n",
      "159:\tlearn: 1.3700986\ttotal: 621ms\tremaining: 3.26s\n",
      "160:\tlearn: 1.3697986\ttotal: 624ms\tremaining: 3.25s\n",
      "161:\tlearn: 1.3692329\ttotal: 628ms\tremaining: 3.25s\n",
      "162:\tlearn: 1.3680826\ttotal: 631ms\tremaining: 3.24s\n",
      "163:\tlearn: 1.3669589\ttotal: 635ms\tremaining: 3.24s\n",
      "164:\tlearn: 1.3665347\ttotal: 638ms\tremaining: 3.23s\n",
      "165:\tlearn: 1.3663306\ttotal: 642ms\tremaining: 3.22s\n",
      "166:\tlearn: 1.3651972\ttotal: 645ms\tremaining: 3.22s\n",
      "167:\tlearn: 1.3638296\ttotal: 649ms\tremaining: 3.21s\n",
      "168:\tlearn: 1.3633130\ttotal: 652ms\tremaining: 3.21s\n",
      "169:\tlearn: 1.3624457\ttotal: 655ms\tremaining: 3.2s\n",
      "170:\tlearn: 1.3619712\ttotal: 659ms\tremaining: 3.19s\n",
      "171:\tlearn: 1.3612426\ttotal: 662ms\tremaining: 3.19s\n",
      "172:\tlearn: 1.3602126\ttotal: 666ms\tremaining: 3.18s\n",
      "173:\tlearn: 1.3589453\ttotal: 669ms\tremaining: 3.18s\n",
      "174:\tlearn: 1.3585111\ttotal: 673ms\tremaining: 3.17s\n",
      "175:\tlearn: 1.3575898\ttotal: 676ms\tremaining: 3.17s\n",
      "176:\tlearn: 1.3569237\ttotal: 680ms\tremaining: 3.16s\n"
     ]
    },
    {
     "name": "stdout",
     "output_type": "stream",
     "text": [
      "177:\tlearn: 1.3560591\ttotal: 684ms\tremaining: 3.16s\n",
      "178:\tlearn: 1.3556681\ttotal: 687ms\tremaining: 3.15s\n",
      "179:\tlearn: 1.3552394\ttotal: 691ms\tremaining: 3.15s\n",
      "180:\tlearn: 1.3548697\ttotal: 695ms\tremaining: 3.14s\n",
      "181:\tlearn: 1.3541002\ttotal: 698ms\tremaining: 3.14s\n",
      "182:\tlearn: 1.3536664\ttotal: 701ms\tremaining: 3.13s\n",
      "183:\tlearn: 1.3528052\ttotal: 705ms\tremaining: 3.13s\n",
      "184:\tlearn: 1.3521426\ttotal: 708ms\tremaining: 3.12s\n",
      "185:\tlearn: 1.3514331\ttotal: 712ms\tremaining: 3.12s\n",
      "186:\tlearn: 1.3509341\ttotal: 716ms\tremaining: 3.11s\n",
      "187:\tlearn: 1.3503506\ttotal: 720ms\tremaining: 3.11s\n",
      "188:\tlearn: 1.3495807\ttotal: 723ms\tremaining: 3.1s\n",
      "189:\tlearn: 1.3490147\ttotal: 726ms\tremaining: 3.1s\n",
      "190:\tlearn: 1.3481317\ttotal: 730ms\tremaining: 3.09s\n",
      "191:\tlearn: 1.3470341\ttotal: 734ms\tremaining: 3.09s\n",
      "192:\tlearn: 1.3466929\ttotal: 738ms\tremaining: 3.08s\n",
      "193:\tlearn: 1.3460638\ttotal: 742ms\tremaining: 3.08s\n",
      "194:\tlearn: 1.3450765\ttotal: 746ms\tremaining: 3.08s\n",
      "195:\tlearn: 1.3444776\ttotal: 749ms\tremaining: 3.07s\n",
      "196:\tlearn: 1.3441135\ttotal: 753ms\tremaining: 3.07s\n",
      "197:\tlearn: 1.3437616\ttotal: 757ms\tremaining: 3.07s\n",
      "198:\tlearn: 1.3432192\ttotal: 761ms\tremaining: 3.06s\n",
      "199:\tlearn: 1.3427841\ttotal: 765ms\tremaining: 3.06s\n",
      "200:\tlearn: 1.3422101\ttotal: 768ms\tremaining: 3.05s\n",
      "201:\tlearn: 1.3417847\ttotal: 772ms\tremaining: 3.05s\n",
      "202:\tlearn: 1.3411918\ttotal: 776ms\tremaining: 3.04s\n",
      "203:\tlearn: 1.3406796\ttotal: 779ms\tremaining: 3.04s\n",
      "204:\tlearn: 1.3399710\ttotal: 783ms\tremaining: 3.04s\n",
      "205:\tlearn: 1.3394784\ttotal: 786ms\tremaining: 3.03s\n",
      "206:\tlearn: 1.3390479\ttotal: 790ms\tremaining: 3.03s\n",
      "207:\tlearn: 1.3386949\ttotal: 793ms\tremaining: 3.02s\n",
      "208:\tlearn: 1.3378828\ttotal: 797ms\tremaining: 3.02s\n",
      "209:\tlearn: 1.3372809\ttotal: 801ms\tremaining: 3.01s\n",
      "210:\tlearn: 1.3367952\ttotal: 805ms\tremaining: 3.01s\n",
      "211:\tlearn: 1.3363757\ttotal: 808ms\tremaining: 3s\n",
      "212:\tlearn: 1.3356328\ttotal: 812ms\tremaining: 3s\n",
      "213:\tlearn: 1.3353419\ttotal: 815ms\tremaining: 2.99s\n",
      "214:\tlearn: 1.3351065\ttotal: 819ms\tremaining: 2.99s\n",
      "215:\tlearn: 1.3345581\ttotal: 823ms\tremaining: 2.99s\n",
      "216:\tlearn: 1.3340278\ttotal: 826ms\tremaining: 2.98s\n",
      "217:\tlearn: 1.3335874\ttotal: 830ms\tremaining: 2.98s\n",
      "218:\tlearn: 1.3331493\ttotal: 834ms\tremaining: 2.97s\n",
      "219:\tlearn: 1.3327545\ttotal: 837ms\tremaining: 2.97s\n",
      "220:\tlearn: 1.3325239\ttotal: 841ms\tremaining: 2.96s\n",
      "221:\tlearn: 1.3319892\ttotal: 844ms\tremaining: 2.96s\n",
      "222:\tlearn: 1.3316021\ttotal: 848ms\tremaining: 2.95s\n",
      "223:\tlearn: 1.3311799\ttotal: 852ms\tremaining: 2.95s\n",
      "224:\tlearn: 1.3307876\ttotal: 856ms\tremaining: 2.95s\n",
      "225:\tlearn: 1.3304961\ttotal: 859ms\tremaining: 2.94s\n",
      "226:\tlearn: 1.3300756\ttotal: 863ms\tremaining: 2.94s\n",
      "227:\tlearn: 1.3297992\ttotal: 867ms\tremaining: 2.94s\n",
      "228:\tlearn: 1.3295135\ttotal: 871ms\tremaining: 2.93s\n",
      "229:\tlearn: 1.3287989\ttotal: 874ms\tremaining: 2.93s\n",
      "230:\tlearn: 1.3284077\ttotal: 878ms\tremaining: 2.92s\n",
      "231:\tlearn: 1.3279163\ttotal: 881ms\tremaining: 2.92s\n",
      "232:\tlearn: 1.3273243\ttotal: 885ms\tremaining: 2.91s\n",
      "233:\tlearn: 1.3270494\ttotal: 888ms\tremaining: 2.91s\n",
      "234:\tlearn: 1.3267419\ttotal: 892ms\tremaining: 2.9s\n",
      "235:\tlearn: 1.3261955\ttotal: 896ms\tremaining: 2.9s\n",
      "236:\tlearn: 1.3258682\ttotal: 900ms\tremaining: 2.9s\n",
      "237:\tlearn: 1.3253921\ttotal: 904ms\tremaining: 2.89s\n",
      "238:\tlearn: 1.3251515\ttotal: 907ms\tremaining: 2.89s\n",
      "239:\tlearn: 1.3248690\ttotal: 912ms\tremaining: 2.89s\n",
      "240:\tlearn: 1.3245614\ttotal: 915ms\tremaining: 2.88s\n",
      "241:\tlearn: 1.3240595\ttotal: 919ms\tremaining: 2.88s\n",
      "242:\tlearn: 1.3237813\ttotal: 922ms\tremaining: 2.87s\n",
      "243:\tlearn: 1.3236363\ttotal: 927ms\tremaining: 2.87s\n",
      "244:\tlearn: 1.3232723\ttotal: 930ms\tremaining: 2.87s\n",
      "245:\tlearn: 1.3228382\ttotal: 934ms\tremaining: 2.86s\n",
      "246:\tlearn: 1.3226029\ttotal: 937ms\tremaining: 2.86s\n",
      "247:\tlearn: 1.3221764\ttotal: 941ms\tremaining: 2.85s\n",
      "248:\tlearn: 1.3218550\ttotal: 946ms\tremaining: 2.85s\n",
      "249:\tlearn: 1.3215247\ttotal: 950ms\tremaining: 2.85s\n",
      "250:\tlearn: 1.3209529\ttotal: 953ms\tremaining: 2.84s\n",
      "251:\tlearn: 1.3206000\ttotal: 958ms\tremaining: 2.84s\n",
      "252:\tlearn: 1.3202662\ttotal: 961ms\tremaining: 2.84s\n",
      "253:\tlearn: 1.3201009\ttotal: 965ms\tremaining: 2.83s\n",
      "254:\tlearn: 1.3196927\ttotal: 968ms\tremaining: 2.83s\n",
      "255:\tlearn: 1.3193484\ttotal: 973ms\tremaining: 2.83s\n",
      "256:\tlearn: 1.3190473\ttotal: 976ms\tremaining: 2.82s\n",
      "257:\tlearn: 1.3184840\ttotal: 980ms\tremaining: 2.82s\n",
      "258:\tlearn: 1.3180970\ttotal: 983ms\tremaining: 2.81s\n",
      "259:\tlearn: 1.3176326\ttotal: 988ms\tremaining: 2.81s\n",
      "260:\tlearn: 1.3171137\ttotal: 991ms\tremaining: 2.81s\n",
      "261:\tlearn: 1.3168935\ttotal: 995ms\tremaining: 2.8s\n",
      "262:\tlearn: 1.3165596\ttotal: 998ms\tremaining: 2.8s\n",
      "263:\tlearn: 1.3163116\ttotal: 1s\tremaining: 2.79s\n",
      "264:\tlearn: 1.3159667\ttotal: 1.01s\tremaining: 2.79s\n",
      "265:\tlearn: 1.3155866\ttotal: 1.01s\tremaining: 2.79s\n",
      "266:\tlearn: 1.3153168\ttotal: 1.01s\tremaining: 2.78s\n",
      "267:\tlearn: 1.3150762\ttotal: 1.02s\tremaining: 2.78s\n",
      "268:\tlearn: 1.3146348\ttotal: 1.02s\tremaining: 2.77s\n",
      "269:\tlearn: 1.3144102\ttotal: 1.03s\tremaining: 2.77s\n",
      "270:\tlearn: 1.3141059\ttotal: 1.03s\tremaining: 2.77s\n",
      "271:\tlearn: 1.3138490\ttotal: 1.03s\tremaining: 2.77s\n",
      "272:\tlearn: 1.3135504\ttotal: 1.04s\tremaining: 2.77s\n",
      "273:\tlearn: 1.3133027\ttotal: 1.04s\tremaining: 2.77s\n",
      "274:\tlearn: 1.3131534\ttotal: 1.05s\tremaining: 2.76s\n",
      "275:\tlearn: 1.3127976\ttotal: 1.05s\tremaining: 2.76s\n",
      "276:\tlearn: 1.3124762\ttotal: 1.06s\tremaining: 2.76s\n",
      "277:\tlearn: 1.3122013\ttotal: 1.06s\tremaining: 2.75s\n",
      "278:\tlearn: 1.3118791\ttotal: 1.06s\tremaining: 2.75s\n",
      "279:\tlearn: 1.3116107\ttotal: 1.07s\tremaining: 2.74s\n",
      "280:\tlearn: 1.3114226\ttotal: 1.07s\tremaining: 2.74s\n",
      "281:\tlearn: 1.3112259\ttotal: 1.07s\tremaining: 2.73s\n",
      "282:\tlearn: 1.3110146\ttotal: 1.08s\tremaining: 2.73s\n",
      "283:\tlearn: 1.3106525\ttotal: 1.08s\tremaining: 2.73s\n",
      "284:\tlearn: 1.3104817\ttotal: 1.08s\tremaining: 2.72s\n",
      "285:\tlearn: 1.3100307\ttotal: 1.09s\tremaining: 2.71s\n",
      "286:\tlearn: 1.3097757\ttotal: 1.09s\tremaining: 2.71s\n",
      "287:\tlearn: 1.3093053\ttotal: 1.09s\tremaining: 2.71s\n",
      "288:\tlearn: 1.3089208\ttotal: 1.1s\tremaining: 2.7s\n",
      "289:\tlearn: 1.3087255\ttotal: 1.1s\tremaining: 2.7s\n",
      "290:\tlearn: 1.3086682\ttotal: 1.1s\tremaining: 2.69s\n",
      "291:\tlearn: 1.3083240\ttotal: 1.11s\tremaining: 2.69s\n",
      "292:\tlearn: 1.3080522\ttotal: 1.11s\tremaining: 2.68s\n",
      "293:\tlearn: 1.3077799\ttotal: 1.11s\tremaining: 2.68s\n",
      "294:\tlearn: 1.3075633\ttotal: 1.12s\tremaining: 2.67s\n",
      "295:\tlearn: 1.3072469\ttotal: 1.12s\tremaining: 2.67s\n",
      "296:\tlearn: 1.3069057\ttotal: 1.13s\tremaining: 2.66s\n",
      "297:\tlearn: 1.3066343\ttotal: 1.13s\tremaining: 2.66s\n",
      "298:\tlearn: 1.3063509\ttotal: 1.13s\tremaining: 2.65s\n",
      "299:\tlearn: 1.3059303\ttotal: 1.14s\tremaining: 2.65s\n",
      "300:\tlearn: 1.3056596\ttotal: 1.14s\tremaining: 2.65s\n",
      "301:\tlearn: 1.3054424\ttotal: 1.14s\tremaining: 2.64s\n",
      "302:\tlearn: 1.3051248\ttotal: 1.15s\tremaining: 2.64s\n",
      "303:\tlearn: 1.3048187\ttotal: 1.15s\tremaining: 2.63s\n",
      "304:\tlearn: 1.3044210\ttotal: 1.16s\tremaining: 2.63s\n",
      "305:\tlearn: 1.3042848\ttotal: 1.16s\tremaining: 2.63s\n",
      "306:\tlearn: 1.3041133\ttotal: 1.16s\tremaining: 2.63s\n",
      "307:\tlearn: 1.3037199\ttotal: 1.17s\tremaining: 2.62s\n",
      "308:\tlearn: 1.3034863\ttotal: 1.17s\tremaining: 2.62s\n",
      "309:\tlearn: 1.3031949\ttotal: 1.18s\tremaining: 2.62s\n",
      "310:\tlearn: 1.3027910\ttotal: 1.18s\tremaining: 2.61s\n",
      "311:\tlearn: 1.3024014\ttotal: 1.18s\tremaining: 2.61s\n",
      "312:\tlearn: 1.3022148\ttotal: 1.19s\tremaining: 2.6s\n",
      "313:\tlearn: 1.3020343\ttotal: 1.19s\tremaining: 2.6s\n",
      "314:\tlearn: 1.3017342\ttotal: 1.19s\tremaining: 2.6s\n",
      "315:\tlearn: 1.3013749\ttotal: 1.2s\tremaining: 2.59s\n",
      "316:\tlearn: 1.3012593\ttotal: 1.2s\tremaining: 2.59s\n",
      "317:\tlearn: 1.3009636\ttotal: 1.2s\tremaining: 2.58s\n",
      "318:\tlearn: 1.3007648\ttotal: 1.21s\tremaining: 2.58s\n",
      "319:\tlearn: 1.3005056\ttotal: 1.21s\tremaining: 2.58s\n",
      "320:\tlearn: 1.3003298\ttotal: 1.22s\tremaining: 2.57s\n",
      "321:\tlearn: 1.3000552\ttotal: 1.22s\tremaining: 2.57s\n",
      "322:\tlearn: 1.2995037\ttotal: 1.23s\tremaining: 2.57s\n",
      "323:\tlearn: 1.2992033\ttotal: 1.23s\tremaining: 2.56s\n",
      "324:\tlearn: 1.2984856\ttotal: 1.23s\tremaining: 2.56s\n",
      "325:\tlearn: 1.2983768\ttotal: 1.24s\tremaining: 2.56s\n",
      "326:\tlearn: 1.2981749\ttotal: 1.24s\tremaining: 2.56s\n",
      "327:\tlearn: 1.2978310\ttotal: 1.25s\tremaining: 2.55s\n",
      "328:\tlearn: 1.2976432\ttotal: 1.25s\tremaining: 2.55s\n",
      "329:\tlearn: 1.2973226\ttotal: 1.25s\tremaining: 2.54s\n",
      "330:\tlearn: 1.2968621\ttotal: 1.26s\tremaining: 2.54s\n",
      "331:\tlearn: 1.2966291\ttotal: 1.26s\tremaining: 2.54s\n",
      "332:\tlearn: 1.2964705\ttotal: 1.26s\tremaining: 2.53s\n",
      "333:\tlearn: 1.2963054\ttotal: 1.27s\tremaining: 2.53s\n",
      "334:\tlearn: 1.2959469\ttotal: 1.27s\tremaining: 2.52s\n",
      "335:\tlearn: 1.2955890\ttotal: 1.27s\tremaining: 2.52s\n",
      "336:\tlearn: 1.2953249\ttotal: 1.28s\tremaining: 2.52s\n",
      "337:\tlearn: 1.2950823\ttotal: 1.28s\tremaining: 2.52s\n",
      "338:\tlearn: 1.2947338\ttotal: 1.29s\tremaining: 2.51s\n",
      "339:\tlearn: 1.2940831\ttotal: 1.29s\tremaining: 2.51s\n",
      "340:\tlearn: 1.2938526\ttotal: 1.3s\tremaining: 2.5s\n",
      "341:\tlearn: 1.2936225\ttotal: 1.3s\tremaining: 2.5s\n",
      "342:\tlearn: 1.2934843\ttotal: 1.3s\tremaining: 2.5s\n",
      "343:\tlearn: 1.2933017\ttotal: 1.31s\tremaining: 2.49s\n",
      "344:\tlearn: 1.2930780\ttotal: 1.31s\tremaining: 2.49s\n",
      "345:\tlearn: 1.2928023\ttotal: 1.31s\tremaining: 2.48s\n",
      "346:\tlearn: 1.2923457\ttotal: 1.32s\tremaining: 2.48s\n",
      "347:\tlearn: 1.2921460\ttotal: 1.32s\tremaining: 2.48s\n",
      "348:\tlearn: 1.2919480\ttotal: 1.32s\tremaining: 2.47s\n",
      "349:\tlearn: 1.2916952\ttotal: 1.33s\tremaining: 2.47s\n",
      "350:\tlearn: 1.2911785\ttotal: 1.33s\tremaining: 2.46s\n",
      "351:\tlearn: 1.2909854\ttotal: 1.34s\tremaining: 2.46s\n",
      "352:\tlearn: 1.2904879\ttotal: 1.34s\tremaining: 2.46s\n",
      "353:\tlearn: 1.2901566\ttotal: 1.34s\tremaining: 2.45s\n",
      "354:\tlearn: 1.2899595\ttotal: 1.35s\tremaining: 2.45s\n",
      "355:\tlearn: 1.2897012\ttotal: 1.35s\tremaining: 2.44s\n",
      "356:\tlearn: 1.2895452\ttotal: 1.35s\tremaining: 2.44s\n",
      "357:\tlearn: 1.2894306\ttotal: 1.36s\tremaining: 2.44s\n",
      "358:\tlearn: 1.2892070\ttotal: 1.36s\tremaining: 2.43s\n",
      "359:\tlearn: 1.2888737\ttotal: 1.37s\tremaining: 2.43s\n",
      "360:\tlearn: 1.2886745\ttotal: 1.37s\tremaining: 2.42s\n"
     ]
    },
    {
     "name": "stdout",
     "output_type": "stream",
     "text": [
      "361:\tlearn: 1.2885554\ttotal: 1.37s\tremaining: 2.42s\n",
      "362:\tlearn: 1.2883541\ttotal: 1.38s\tremaining: 2.42s\n",
      "363:\tlearn: 1.2881745\ttotal: 1.38s\tremaining: 2.41s\n",
      "364:\tlearn: 1.2878723\ttotal: 1.39s\tremaining: 2.41s\n",
      "365:\tlearn: 1.2876345\ttotal: 1.39s\tremaining: 2.41s\n",
      "366:\tlearn: 1.2874061\ttotal: 1.39s\tremaining: 2.4s\n",
      "367:\tlearn: 1.2872788\ttotal: 1.4s\tremaining: 2.4s\n",
      "368:\tlearn: 1.2870909\ttotal: 1.4s\tremaining: 2.39s\n",
      "369:\tlearn: 1.2869760\ttotal: 1.4s\tremaining: 2.39s\n",
      "370:\tlearn: 1.2867202\ttotal: 1.41s\tremaining: 2.39s\n",
      "371:\tlearn: 1.2863577\ttotal: 1.41s\tremaining: 2.38s\n",
      "372:\tlearn: 1.2861028\ttotal: 1.41s\tremaining: 2.38s\n",
      "373:\tlearn: 1.2857896\ttotal: 1.42s\tremaining: 2.37s\n",
      "374:\tlearn: 1.2856603\ttotal: 1.42s\tremaining: 2.37s\n",
      "375:\tlearn: 1.2853730\ttotal: 1.43s\tremaining: 2.37s\n",
      "376:\tlearn: 1.2850281\ttotal: 1.43s\tremaining: 2.36s\n",
      "377:\tlearn: 1.2847423\ttotal: 1.43s\tremaining: 2.36s\n",
      "378:\tlearn: 1.2843729\ttotal: 1.44s\tremaining: 2.35s\n",
      "379:\tlearn: 1.2842741\ttotal: 1.44s\tremaining: 2.35s\n",
      "380:\tlearn: 1.2840085\ttotal: 1.44s\tremaining: 2.34s\n",
      "381:\tlearn: 1.2835189\ttotal: 1.45s\tremaining: 2.34s\n",
      "382:\tlearn: 1.2833125\ttotal: 1.45s\tremaining: 2.33s\n",
      "383:\tlearn: 1.2831313\ttotal: 1.45s\tremaining: 2.33s\n",
      "384:\tlearn: 1.2829253\ttotal: 1.46s\tremaining: 2.33s\n",
      "385:\tlearn: 1.2827425\ttotal: 1.46s\tremaining: 2.32s\n",
      "386:\tlearn: 1.2825187\ttotal: 1.46s\tremaining: 2.32s\n",
      "387:\tlearn: 1.2821804\ttotal: 1.47s\tremaining: 2.32s\n",
      "388:\tlearn: 1.2819720\ttotal: 1.47s\tremaining: 2.31s\n",
      "389:\tlearn: 1.2815937\ttotal: 1.47s\tremaining: 2.31s\n",
      "390:\tlearn: 1.2814515\ttotal: 1.48s\tremaining: 2.3s\n",
      "391:\tlearn: 1.2813309\ttotal: 1.48s\tremaining: 2.3s\n",
      "392:\tlearn: 1.2811176\ttotal: 1.49s\tremaining: 2.3s\n",
      "393:\tlearn: 1.2810295\ttotal: 1.49s\tremaining: 2.29s\n",
      "394:\tlearn: 1.2807466\ttotal: 1.49s\tremaining: 2.29s\n",
      "395:\tlearn: 1.2805728\ttotal: 1.5s\tremaining: 2.28s\n",
      "396:\tlearn: 1.2804069\ttotal: 1.5s\tremaining: 2.28s\n",
      "397:\tlearn: 1.2802178\ttotal: 1.5s\tremaining: 2.28s\n",
      "398:\tlearn: 1.2800707\ttotal: 1.51s\tremaining: 2.27s\n",
      "399:\tlearn: 1.2795127\ttotal: 1.51s\tremaining: 2.27s\n",
      "400:\tlearn: 1.2793515\ttotal: 1.51s\tremaining: 2.26s\n",
      "401:\tlearn: 1.2791128\ttotal: 1.52s\tremaining: 2.26s\n",
      "402:\tlearn: 1.2789667\ttotal: 1.52s\tremaining: 2.26s\n",
      "403:\tlearn: 1.2788045\ttotal: 1.53s\tremaining: 2.25s\n",
      "404:\tlearn: 1.2786500\ttotal: 1.53s\tremaining: 2.25s\n",
      "405:\tlearn: 1.2785358\ttotal: 1.53s\tremaining: 2.24s\n",
      "406:\tlearn: 1.2783451\ttotal: 1.54s\tremaining: 2.24s\n",
      "407:\tlearn: 1.2781996\ttotal: 1.54s\tremaining: 2.24s\n",
      "408:\tlearn: 1.2780288\ttotal: 1.54s\tremaining: 2.23s\n",
      "409:\tlearn: 1.2778400\ttotal: 1.55s\tremaining: 2.23s\n",
      "410:\tlearn: 1.2775746\ttotal: 1.55s\tremaining: 2.22s\n",
      "411:\tlearn: 1.2774484\ttotal: 1.55s\tremaining: 2.22s\n",
      "412:\tlearn: 1.2773584\ttotal: 1.56s\tremaining: 2.21s\n",
      "413:\tlearn: 1.2772477\ttotal: 1.56s\tremaining: 2.21s\n",
      "414:\tlearn: 1.2769252\ttotal: 1.57s\tremaining: 2.21s\n",
      "415:\tlearn: 1.2765893\ttotal: 1.57s\tremaining: 2.2s\n",
      "416:\tlearn: 1.2764542\ttotal: 1.57s\tremaining: 2.2s\n",
      "417:\tlearn: 1.2763632\ttotal: 1.58s\tremaining: 2.19s\n",
      "418:\tlearn: 1.2762040\ttotal: 1.58s\tremaining: 2.19s\n",
      "419:\tlearn: 1.2759816\ttotal: 1.58s\tremaining: 2.19s\n",
      "420:\tlearn: 1.2758324\ttotal: 1.59s\tremaining: 2.18s\n",
      "421:\tlearn: 1.2756128\ttotal: 1.59s\tremaining: 2.18s\n",
      "422:\tlearn: 1.2751972\ttotal: 1.59s\tremaining: 2.17s\n",
      "423:\tlearn: 1.2747487\ttotal: 1.6s\tremaining: 2.17s\n",
      "424:\tlearn: 1.2745783\ttotal: 1.6s\tremaining: 2.17s\n",
      "425:\tlearn: 1.2744321\ttotal: 1.6s\tremaining: 2.16s\n",
      "426:\tlearn: 1.2742402\ttotal: 1.61s\tremaining: 2.16s\n",
      "427:\tlearn: 1.2740307\ttotal: 1.61s\tremaining: 2.15s\n",
      "428:\tlearn: 1.2737550\ttotal: 1.62s\tremaining: 2.15s\n",
      "429:\tlearn: 1.2735798\ttotal: 1.62s\tremaining: 2.15s\n",
      "430:\tlearn: 1.2730697\ttotal: 1.62s\tremaining: 2.14s\n",
      "431:\tlearn: 1.2728582\ttotal: 1.63s\tremaining: 2.14s\n",
      "432:\tlearn: 1.2726606\ttotal: 1.63s\tremaining: 2.13s\n",
      "433:\tlearn: 1.2725169\ttotal: 1.63s\tremaining: 2.13s\n",
      "434:\tlearn: 1.2723693\ttotal: 1.64s\tremaining: 2.13s\n",
      "435:\tlearn: 1.2721673\ttotal: 1.64s\tremaining: 2.12s\n",
      "436:\tlearn: 1.2720615\ttotal: 1.64s\tremaining: 2.12s\n",
      "437:\tlearn: 1.2718855\ttotal: 1.65s\tremaining: 2.11s\n",
      "438:\tlearn: 1.2717555\ttotal: 1.65s\tremaining: 2.11s\n",
      "439:\tlearn: 1.2713771\ttotal: 1.65s\tremaining: 2.11s\n",
      "440:\tlearn: 1.2711916\ttotal: 1.66s\tremaining: 2.1s\n",
      "441:\tlearn: 1.2707781\ttotal: 1.66s\tremaining: 2.1s\n",
      "442:\tlearn: 1.2706832\ttotal: 1.67s\tremaining: 2.09s\n",
      "443:\tlearn: 1.2704650\ttotal: 1.67s\tremaining: 2.09s\n",
      "444:\tlearn: 1.2703252\ttotal: 1.67s\tremaining: 2.08s\n",
      "445:\tlearn: 1.2701402\ttotal: 1.68s\tremaining: 2.08s\n",
      "446:\tlearn: 1.2700527\ttotal: 1.68s\tremaining: 2.08s\n",
      "447:\tlearn: 1.2698779\ttotal: 1.68s\tremaining: 2.07s\n",
      "448:\tlearn: 1.2695037\ttotal: 1.69s\tremaining: 2.07s\n",
      "449:\tlearn: 1.2694064\ttotal: 1.69s\tremaining: 2.06s\n",
      "450:\tlearn: 1.2692831\ttotal: 1.69s\tremaining: 2.06s\n",
      "451:\tlearn: 1.2691161\ttotal: 1.7s\tremaining: 2.06s\n",
      "452:\tlearn: 1.2683938\ttotal: 1.7s\tremaining: 2.05s\n",
      "453:\tlearn: 1.2682658\ttotal: 1.7s\tremaining: 2.05s\n",
      "454:\tlearn: 1.2681329\ttotal: 1.71s\tremaining: 2.04s\n",
      "455:\tlearn: 1.2680440\ttotal: 1.71s\tremaining: 2.04s\n",
      "456:\tlearn: 1.2676645\ttotal: 1.71s\tremaining: 2.03s\n",
      "457:\tlearn: 1.2673892\ttotal: 1.71s\tremaining: 2.03s\n",
      "458:\tlearn: 1.2672574\ttotal: 1.72s\tremaining: 2.02s\n",
      "459:\tlearn: 1.2669614\ttotal: 1.72s\tremaining: 2.02s\n",
      "460:\tlearn: 1.2666975\ttotal: 1.73s\tremaining: 2.02s\n",
      "461:\tlearn: 1.2665564\ttotal: 1.73s\tremaining: 2.01s\n",
      "462:\tlearn: 1.2664616\ttotal: 1.73s\tremaining: 2.01s\n",
      "463:\tlearn: 1.2661857\ttotal: 1.74s\tremaining: 2s\n",
      "464:\tlearn: 1.2660389\ttotal: 1.74s\tremaining: 2s\n",
      "465:\tlearn: 1.2659108\ttotal: 1.74s\tremaining: 2s\n",
      "466:\tlearn: 1.2657694\ttotal: 1.75s\tremaining: 1.99s\n",
      "467:\tlearn: 1.2657174\ttotal: 1.75s\tremaining: 1.99s\n",
      "468:\tlearn: 1.2655995\ttotal: 1.75s\tremaining: 1.98s\n",
      "469:\tlearn: 1.2655103\ttotal: 1.75s\tremaining: 1.98s\n",
      "470:\tlearn: 1.2653185\ttotal: 1.76s\tremaining: 1.98s\n",
      "471:\tlearn: 1.2649264\ttotal: 1.76s\tremaining: 1.97s\n",
      "472:\tlearn: 1.2648183\ttotal: 1.76s\tremaining: 1.97s\n",
      "473:\tlearn: 1.2646981\ttotal: 1.77s\tremaining: 1.96s\n",
      "474:\tlearn: 1.2645819\ttotal: 1.77s\tremaining: 1.96s\n",
      "475:\tlearn: 1.2643580\ttotal: 1.77s\tremaining: 1.95s\n",
      "476:\tlearn: 1.2638003\ttotal: 1.78s\tremaining: 1.95s\n",
      "477:\tlearn: 1.2636375\ttotal: 1.78s\tremaining: 1.95s\n",
      "478:\tlearn: 1.2634544\ttotal: 1.78s\tremaining: 1.94s\n",
      "479:\tlearn: 1.2632641\ttotal: 1.79s\tremaining: 1.94s\n",
      "480:\tlearn: 1.2630729\ttotal: 1.79s\tremaining: 1.93s\n",
      "481:\tlearn: 1.2629538\ttotal: 1.79s\tremaining: 1.93s\n",
      "482:\tlearn: 1.2627639\ttotal: 1.8s\tremaining: 1.93s\n",
      "483:\tlearn: 1.2626405\ttotal: 1.8s\tremaining: 1.92s\n",
      "484:\tlearn: 1.2625672\ttotal: 1.8s\tremaining: 1.92s\n",
      "485:\tlearn: 1.2622150\ttotal: 1.81s\tremaining: 1.91s\n",
      "486:\tlearn: 1.2620652\ttotal: 1.81s\tremaining: 1.91s\n",
      "487:\tlearn: 1.2619741\ttotal: 1.81s\tremaining: 1.9s\n",
      "488:\tlearn: 1.2617063\ttotal: 1.82s\tremaining: 1.9s\n",
      "489:\tlearn: 1.2612958\ttotal: 1.82s\tremaining: 1.9s\n",
      "490:\tlearn: 1.2610970\ttotal: 1.83s\tremaining: 1.89s\n",
      "491:\tlearn: 1.2607437\ttotal: 1.83s\tremaining: 1.89s\n",
      "492:\tlearn: 1.2606319\ttotal: 1.83s\tremaining: 1.89s\n",
      "493:\tlearn: 1.2604261\ttotal: 1.84s\tremaining: 1.88s\n",
      "494:\tlearn: 1.2602021\ttotal: 1.84s\tremaining: 1.88s\n",
      "495:\tlearn: 1.2600587\ttotal: 1.84s\tremaining: 1.87s\n",
      "496:\tlearn: 1.2598812\ttotal: 1.85s\tremaining: 1.87s\n",
      "497:\tlearn: 1.2597117\ttotal: 1.85s\tremaining: 1.86s\n",
      "498:\tlearn: 1.2595342\ttotal: 1.85s\tremaining: 1.86s\n",
      "499:\tlearn: 1.2593147\ttotal: 1.86s\tremaining: 1.86s\n",
      "500:\tlearn: 1.2590637\ttotal: 1.86s\tremaining: 1.85s\n",
      "501:\tlearn: 1.2589343\ttotal: 1.86s\tremaining: 1.85s\n",
      "502:\tlearn: 1.2588130\ttotal: 1.87s\tremaining: 1.84s\n",
      "503:\tlearn: 1.2584503\ttotal: 1.87s\tremaining: 1.84s\n",
      "504:\tlearn: 1.2582988\ttotal: 1.88s\tremaining: 1.84s\n",
      "505:\tlearn: 1.2581848\ttotal: 1.88s\tremaining: 1.83s\n",
      "506:\tlearn: 1.2579361\ttotal: 1.88s\tremaining: 1.83s\n",
      "507:\tlearn: 1.2578514\ttotal: 1.89s\tremaining: 1.83s\n",
      "508:\tlearn: 1.2577071\ttotal: 1.89s\tremaining: 1.82s\n",
      "509:\tlearn: 1.2573480\ttotal: 1.89s\tremaining: 1.82s\n",
      "510:\tlearn: 1.2571883\ttotal: 1.9s\tremaining: 1.82s\n",
      "511:\tlearn: 1.2570321\ttotal: 1.9s\tremaining: 1.81s\n",
      "512:\tlearn: 1.2567780\ttotal: 1.91s\tremaining: 1.81s\n",
      "513:\tlearn: 1.2567224\ttotal: 1.91s\tremaining: 1.8s\n",
      "514:\tlearn: 1.2566349\ttotal: 1.91s\tremaining: 1.8s\n",
      "515:\tlearn: 1.2564882\ttotal: 1.92s\tremaining: 1.8s\n",
      "516:\tlearn: 1.2563124\ttotal: 1.92s\tremaining: 1.79s\n",
      "517:\tlearn: 1.2560859\ttotal: 1.92s\tremaining: 1.79s\n",
      "518:\tlearn: 1.2559431\ttotal: 1.93s\tremaining: 1.79s\n",
      "519:\tlearn: 1.2556215\ttotal: 1.93s\tremaining: 1.78s\n",
      "520:\tlearn: 1.2555386\ttotal: 1.93s\tremaining: 1.78s\n",
      "521:\tlearn: 1.2554313\ttotal: 1.94s\tremaining: 1.77s\n",
      "522:\tlearn: 1.2550684\ttotal: 1.94s\tremaining: 1.77s\n",
      "523:\tlearn: 1.2549111\ttotal: 1.95s\tremaining: 1.77s\n",
      "524:\tlearn: 1.2546627\ttotal: 1.95s\tremaining: 1.76s\n",
      "525:\tlearn: 1.2544441\ttotal: 1.95s\tremaining: 1.76s\n",
      "526:\tlearn: 1.2543395\ttotal: 1.96s\tremaining: 1.76s\n",
      "527:\tlearn: 1.2542343\ttotal: 1.96s\tremaining: 1.75s\n",
      "528:\tlearn: 1.2540708\ttotal: 1.96s\tremaining: 1.75s\n",
      "529:\tlearn: 1.2536394\ttotal: 1.97s\tremaining: 1.74s\n",
      "530:\tlearn: 1.2534389\ttotal: 1.97s\tremaining: 1.74s\n",
      "531:\tlearn: 1.2531228\ttotal: 1.98s\tremaining: 1.74s\n",
      "532:\tlearn: 1.2530120\ttotal: 1.98s\tremaining: 1.73s\n",
      "533:\tlearn: 1.2526185\ttotal: 1.98s\tremaining: 1.73s\n",
      "534:\tlearn: 1.2524914\ttotal: 1.99s\tremaining: 1.73s\n",
      "535:\tlearn: 1.2523795\ttotal: 1.99s\tremaining: 1.72s\n",
      "536:\tlearn: 1.2521363\ttotal: 1.99s\tremaining: 1.72s\n",
      "537:\tlearn: 1.2519042\ttotal: 2s\tremaining: 1.71s\n",
      "538:\tlearn: 1.2517426\ttotal: 2s\tremaining: 1.71s\n",
      "539:\tlearn: 1.2516601\ttotal: 2s\tremaining: 1.71s\n",
      "540:\tlearn: 1.2515723\ttotal: 2.01s\tremaining: 1.7s\n",
      "541:\tlearn: 1.2514801\ttotal: 2.01s\tremaining: 1.7s\n",
      "542:\tlearn: 1.2513089\ttotal: 2.02s\tremaining: 1.7s\n",
      "543:\tlearn: 1.2512188\ttotal: 2.02s\tremaining: 1.69s\n",
      "544:\tlearn: 1.2509919\ttotal: 2.02s\tremaining: 1.69s\n",
      "545:\tlearn: 1.2508389\ttotal: 2.03s\tremaining: 1.69s\n",
      "546:\tlearn: 1.2506851\ttotal: 2.03s\tremaining: 1.68s\n",
      "547:\tlearn: 1.2505018\ttotal: 2.04s\tremaining: 1.68s\n",
      "548:\tlearn: 1.2504155\ttotal: 2.04s\tremaining: 1.68s\n",
      "549:\tlearn: 1.2502615\ttotal: 2.04s\tremaining: 1.67s\n",
      "550:\tlearn: 1.2501851\ttotal: 2.05s\tremaining: 1.67s\n",
      "551:\tlearn: 1.2499284\ttotal: 2.05s\tremaining: 1.66s\n",
      "552:\tlearn: 1.2497255\ttotal: 2.05s\tremaining: 1.66s\n",
      "553:\tlearn: 1.2495202\ttotal: 2.06s\tremaining: 1.66s\n",
      "554:\tlearn: 1.2493821\ttotal: 2.06s\tremaining: 1.65s\n",
      "555:\tlearn: 1.2493085\ttotal: 2.06s\tremaining: 1.65s\n"
     ]
    },
    {
     "name": "stdout",
     "output_type": "stream",
     "text": [
      "556:\tlearn: 1.2492117\ttotal: 2.07s\tremaining: 1.65s\n",
      "557:\tlearn: 1.2490510\ttotal: 2.07s\tremaining: 1.64s\n",
      "558:\tlearn: 1.2488036\ttotal: 2.08s\tremaining: 1.64s\n",
      "559:\tlearn: 1.2486654\ttotal: 2.08s\tremaining: 1.63s\n",
      "560:\tlearn: 1.2481429\ttotal: 2.08s\tremaining: 1.63s\n",
      "561:\tlearn: 1.2479639\ttotal: 2.09s\tremaining: 1.63s\n",
      "562:\tlearn: 1.2478651\ttotal: 2.09s\tremaining: 1.62s\n",
      "563:\tlearn: 1.2477680\ttotal: 2.09s\tremaining: 1.62s\n",
      "564:\tlearn: 1.2476572\ttotal: 2.1s\tremaining: 1.61s\n",
      "565:\tlearn: 1.2472624\ttotal: 2.1s\tremaining: 1.61s\n",
      "566:\tlearn: 1.2469201\ttotal: 2.11s\tremaining: 1.61s\n",
      "567:\tlearn: 1.2467604\ttotal: 2.11s\tremaining: 1.6s\n",
      "568:\tlearn: 1.2466788\ttotal: 2.11s\tremaining: 1.6s\n",
      "569:\tlearn: 1.2465660\ttotal: 2.12s\tremaining: 1.6s\n",
      "570:\tlearn: 1.2464938\ttotal: 2.12s\tremaining: 1.59s\n",
      "571:\tlearn: 1.2463066\ttotal: 2.13s\tremaining: 1.59s\n",
      "572:\tlearn: 1.2462239\ttotal: 2.13s\tremaining: 1.59s\n",
      "573:\tlearn: 1.2461664\ttotal: 2.13s\tremaining: 1.58s\n",
      "574:\tlearn: 1.2458504\ttotal: 2.14s\tremaining: 1.58s\n",
      "575:\tlearn: 1.2455592\ttotal: 2.14s\tremaining: 1.58s\n",
      "576:\tlearn: 1.2455106\ttotal: 2.15s\tremaining: 1.57s\n",
      "577:\tlearn: 1.2453279\ttotal: 2.15s\tremaining: 1.57s\n",
      "578:\tlearn: 1.2451748\ttotal: 2.15s\tremaining: 1.56s\n",
      "579:\tlearn: 1.2450901\ttotal: 2.16s\tremaining: 1.56s\n",
      "580:\tlearn: 1.2450220\ttotal: 2.16s\tremaining: 1.56s\n",
      "581:\tlearn: 1.2449267\ttotal: 2.16s\tremaining: 1.55s\n",
      "582:\tlearn: 1.2448207\ttotal: 2.17s\tremaining: 1.55s\n",
      "583:\tlearn: 1.2446392\ttotal: 2.17s\tremaining: 1.55s\n",
      "584:\tlearn: 1.2445487\ttotal: 2.17s\tremaining: 1.54s\n",
      "585:\tlearn: 1.2444495\ttotal: 2.18s\tremaining: 1.54s\n",
      "586:\tlearn: 1.2443601\ttotal: 2.18s\tremaining: 1.53s\n",
      "587:\tlearn: 1.2441502\ttotal: 2.19s\tremaining: 1.53s\n",
      "588:\tlearn: 1.2440710\ttotal: 2.19s\tremaining: 1.53s\n",
      "589:\tlearn: 1.2439715\ttotal: 2.19s\tremaining: 1.52s\n",
      "590:\tlearn: 1.2437010\ttotal: 2.2s\tremaining: 1.52s\n",
      "591:\tlearn: 1.2436348\ttotal: 2.2s\tremaining: 1.52s\n",
      "592:\tlearn: 1.2435554\ttotal: 2.2s\tremaining: 1.51s\n",
      "593:\tlearn: 1.2433422\ttotal: 2.21s\tremaining: 1.51s\n",
      "594:\tlearn: 1.2431792\ttotal: 2.21s\tremaining: 1.5s\n",
      "595:\tlearn: 1.2428619\ttotal: 2.21s\tremaining: 1.5s\n",
      "596:\tlearn: 1.2427486\ttotal: 2.22s\tremaining: 1.5s\n",
      "597:\tlearn: 1.2426157\ttotal: 2.22s\tremaining: 1.5s\n",
      "598:\tlearn: 1.2424108\ttotal: 2.23s\tremaining: 1.49s\n",
      "599:\tlearn: 1.2422184\ttotal: 2.23s\tremaining: 1.49s\n",
      "600:\tlearn: 1.2420307\ttotal: 2.23s\tremaining: 1.48s\n",
      "601:\tlearn: 1.2419300\ttotal: 2.24s\tremaining: 1.48s\n",
      "602:\tlearn: 1.2418290\ttotal: 2.24s\tremaining: 1.48s\n",
      "603:\tlearn: 1.2417452\ttotal: 2.25s\tremaining: 1.47s\n",
      "604:\tlearn: 1.2415591\ttotal: 2.25s\tremaining: 1.47s\n",
      "605:\tlearn: 1.2414323\ttotal: 2.25s\tremaining: 1.47s\n",
      "606:\tlearn: 1.2413091\ttotal: 2.26s\tremaining: 1.46s\n",
      "607:\tlearn: 1.2412440\ttotal: 2.26s\tremaining: 1.46s\n",
      "608:\tlearn: 1.2411983\ttotal: 2.27s\tremaining: 1.45s\n",
      "609:\tlearn: 1.2408639\ttotal: 2.27s\tremaining: 1.45s\n",
      "610:\tlearn: 1.2408006\ttotal: 2.27s\tremaining: 1.45s\n",
      "611:\tlearn: 1.2406195\ttotal: 2.27s\tremaining: 1.44s\n",
      "612:\tlearn: 1.2404980\ttotal: 2.28s\tremaining: 1.44s\n",
      "613:\tlearn: 1.2403880\ttotal: 2.28s\tremaining: 1.44s\n",
      "614:\tlearn: 1.2402198\ttotal: 2.29s\tremaining: 1.43s\n",
      "615:\tlearn: 1.2400929\ttotal: 2.29s\tremaining: 1.43s\n",
      "616:\tlearn: 1.2399619\ttotal: 2.29s\tremaining: 1.42s\n",
      "617:\tlearn: 1.2398931\ttotal: 2.3s\tremaining: 1.42s\n",
      "618:\tlearn: 1.2395511\ttotal: 2.3s\tremaining: 1.42s\n",
      "619:\tlearn: 1.2392328\ttotal: 2.3s\tremaining: 1.41s\n",
      "620:\tlearn: 1.2391903\ttotal: 2.31s\tremaining: 1.41s\n",
      "621:\tlearn: 1.2389829\ttotal: 2.31s\tremaining: 1.41s\n",
      "622:\tlearn: 1.2388304\ttotal: 2.32s\tremaining: 1.4s\n",
      "623:\tlearn: 1.2387256\ttotal: 2.32s\tremaining: 1.4s\n",
      "624:\tlearn: 1.2386091\ttotal: 2.32s\tremaining: 1.39s\n",
      "625:\tlearn: 1.2385110\ttotal: 2.33s\tremaining: 1.39s\n",
      "626:\tlearn: 1.2383116\ttotal: 2.33s\tremaining: 1.39s\n",
      "627:\tlearn: 1.2382258\ttotal: 2.33s\tremaining: 1.38s\n",
      "628:\tlearn: 1.2380776\ttotal: 2.34s\tremaining: 1.38s\n",
      "629:\tlearn: 1.2379162\ttotal: 2.34s\tremaining: 1.38s\n",
      "630:\tlearn: 1.2377114\ttotal: 2.35s\tremaining: 1.37s\n",
      "631:\tlearn: 1.2376364\ttotal: 2.35s\tremaining: 1.37s\n",
      "632:\tlearn: 1.2375514\ttotal: 2.35s\tremaining: 1.36s\n",
      "633:\tlearn: 1.2372427\ttotal: 2.35s\tremaining: 1.36s\n",
      "634:\tlearn: 1.2371579\ttotal: 2.36s\tremaining: 1.36s\n",
      "635:\tlearn: 1.2368048\ttotal: 2.36s\tremaining: 1.35s\n",
      "636:\tlearn: 1.2367178\ttotal: 2.37s\tremaining: 1.35s\n",
      "637:\tlearn: 1.2366439\ttotal: 2.37s\tremaining: 1.34s\n",
      "638:\tlearn: 1.2365728\ttotal: 2.37s\tremaining: 1.34s\n",
      "639:\tlearn: 1.2361485\ttotal: 2.38s\tremaining: 1.34s\n",
      "640:\tlearn: 1.2359367\ttotal: 2.38s\tremaining: 1.33s\n",
      "641:\tlearn: 1.2357266\ttotal: 2.38s\tremaining: 1.33s\n",
      "642:\tlearn: 1.2356290\ttotal: 2.39s\tremaining: 1.32s\n",
      "643:\tlearn: 1.2353487\ttotal: 2.39s\tremaining: 1.32s\n",
      "644:\tlearn: 1.2352412\ttotal: 2.39s\tremaining: 1.32s\n",
      "645:\tlearn: 1.2351500\ttotal: 2.4s\tremaining: 1.31s\n",
      "646:\tlearn: 1.2350736\ttotal: 2.4s\tremaining: 1.31s\n",
      "647:\tlearn: 1.2348122\ttotal: 2.4s\tremaining: 1.3s\n",
      "648:\tlearn: 1.2346018\ttotal: 2.4s\tremaining: 1.3s\n",
      "649:\tlearn: 1.2345170\ttotal: 2.41s\tremaining: 1.3s\n",
      "650:\tlearn: 1.2344507\ttotal: 2.41s\tremaining: 1.29s\n",
      "651:\tlearn: 1.2340491\ttotal: 2.42s\tremaining: 1.29s\n",
      "652:\tlearn: 1.2339071\ttotal: 2.42s\tremaining: 1.28s\n",
      "653:\tlearn: 1.2338309\ttotal: 2.42s\tremaining: 1.28s\n",
      "654:\tlearn: 1.2336743\ttotal: 2.42s\tremaining: 1.28s\n",
      "655:\tlearn: 1.2336368\ttotal: 2.43s\tremaining: 1.27s\n",
      "656:\tlearn: 1.2335356\ttotal: 2.43s\tremaining: 1.27s\n",
      "657:\tlearn: 1.2334411\ttotal: 2.44s\tremaining: 1.26s\n",
      "658:\tlearn: 1.2333779\ttotal: 2.44s\tremaining: 1.26s\n",
      "659:\tlearn: 1.2332816\ttotal: 2.44s\tremaining: 1.26s\n",
      "660:\tlearn: 1.2331601\ttotal: 2.44s\tremaining: 1.25s\n",
      "661:\tlearn: 1.2331015\ttotal: 2.45s\tremaining: 1.25s\n",
      "662:\tlearn: 1.2327981\ttotal: 2.45s\tremaining: 1.25s\n",
      "663:\tlearn: 1.2327487\ttotal: 2.45s\tremaining: 1.24s\n",
      "664:\tlearn: 1.2322560\ttotal: 2.46s\tremaining: 1.24s\n",
      "665:\tlearn: 1.2321799\ttotal: 2.46s\tremaining: 1.23s\n",
      "666:\tlearn: 1.2317942\ttotal: 2.46s\tremaining: 1.23s\n",
      "667:\tlearn: 1.2316399\ttotal: 2.47s\tremaining: 1.23s\n",
      "668:\tlearn: 1.2315767\ttotal: 2.47s\tremaining: 1.22s\n",
      "669:\tlearn: 1.2314867\ttotal: 2.47s\tremaining: 1.22s\n",
      "670:\tlearn: 1.2313911\ttotal: 2.48s\tremaining: 1.21s\n",
      "671:\tlearn: 1.2313214\ttotal: 2.48s\tremaining: 1.21s\n",
      "672:\tlearn: 1.2312059\ttotal: 2.48s\tremaining: 1.21s\n",
      "673:\tlearn: 1.2306452\ttotal: 2.49s\tremaining: 1.2s\n",
      "674:\tlearn: 1.2305395\ttotal: 2.49s\tremaining: 1.2s\n",
      "675:\tlearn: 1.2304774\ttotal: 2.49s\tremaining: 1.2s\n",
      "676:\tlearn: 1.2303742\ttotal: 2.5s\tremaining: 1.19s\n",
      "677:\tlearn: 1.2301925\ttotal: 2.5s\tremaining: 1.19s\n",
      "678:\tlearn: 1.2298248\ttotal: 2.5s\tremaining: 1.18s\n",
      "679:\tlearn: 1.2297512\ttotal: 2.51s\tremaining: 1.18s\n",
      "680:\tlearn: 1.2297099\ttotal: 2.51s\tremaining: 1.18s\n",
      "681:\tlearn: 1.2296153\ttotal: 2.51s\tremaining: 1.17s\n",
      "682:\tlearn: 1.2295237\ttotal: 2.52s\tremaining: 1.17s\n",
      "683:\tlearn: 1.2291927\ttotal: 2.52s\tremaining: 1.16s\n",
      "684:\tlearn: 1.2290344\ttotal: 2.52s\tremaining: 1.16s\n",
      "685:\tlearn: 1.2286492\ttotal: 2.53s\tremaining: 1.16s\n",
      "686:\tlearn: 1.2285147\ttotal: 2.53s\tremaining: 1.15s\n",
      "687:\tlearn: 1.2282626\ttotal: 2.54s\tremaining: 1.15s\n",
      "688:\tlearn: 1.2281536\ttotal: 2.54s\tremaining: 1.15s\n",
      "689:\tlearn: 1.2280711\ttotal: 2.54s\tremaining: 1.14s\n",
      "690:\tlearn: 1.2279208\ttotal: 2.55s\tremaining: 1.14s\n",
      "691:\tlearn: 1.2278001\ttotal: 2.55s\tremaining: 1.14s\n",
      "692:\tlearn: 1.2277330\ttotal: 2.55s\tremaining: 1.13s\n",
      "693:\tlearn: 1.2276092\ttotal: 2.56s\tremaining: 1.13s\n",
      "694:\tlearn: 1.2275432\ttotal: 2.56s\tremaining: 1.12s\n",
      "695:\tlearn: 1.2273125\ttotal: 2.56s\tremaining: 1.12s\n",
      "696:\tlearn: 1.2271301\ttotal: 2.57s\tremaining: 1.12s\n",
      "697:\tlearn: 1.2269628\ttotal: 2.57s\tremaining: 1.11s\n",
      "698:\tlearn: 1.2267373\ttotal: 2.58s\tremaining: 1.11s\n",
      "699:\tlearn: 1.2265855\ttotal: 2.58s\tremaining: 1.1s\n",
      "700:\tlearn: 1.2265246\ttotal: 2.58s\tremaining: 1.1s\n",
      "701:\tlearn: 1.2264052\ttotal: 2.59s\tremaining: 1.1s\n",
      "702:\tlearn: 1.2263305\ttotal: 2.6s\tremaining: 1.1s\n",
      "703:\tlearn: 1.2262422\ttotal: 2.6s\tremaining: 1.09s\n",
      "704:\tlearn: 1.2261769\ttotal: 2.6s\tremaining: 1.09s\n",
      "705:\tlearn: 1.2259760\ttotal: 2.61s\tremaining: 1.09s\n",
      "706:\tlearn: 1.2258128\ttotal: 2.61s\tremaining: 1.08s\n",
      "707:\tlearn: 1.2257595\ttotal: 2.62s\tremaining: 1.08s\n",
      "708:\tlearn: 1.2256163\ttotal: 2.62s\tremaining: 1.07s\n",
      "709:\tlearn: 1.2255699\ttotal: 2.62s\tremaining: 1.07s\n",
      "710:\tlearn: 1.2254142\ttotal: 2.63s\tremaining: 1.07s\n",
      "711:\tlearn: 1.2253570\ttotal: 2.63s\tremaining: 1.06s\n",
      "712:\tlearn: 1.2252855\ttotal: 2.64s\tremaining: 1.06s\n",
      "713:\tlearn: 1.2251985\ttotal: 2.64s\tremaining: 1.06s\n",
      "714:\tlearn: 1.2249635\ttotal: 2.65s\tremaining: 1.05s\n",
      "715:\tlearn: 1.2247709\ttotal: 2.65s\tremaining: 1.05s\n",
      "716:\tlearn: 1.2246956\ttotal: 2.66s\tremaining: 1.05s\n",
      "717:\tlearn: 1.2246225\ttotal: 2.66s\tremaining: 1.04s\n",
      "718:\tlearn: 1.2244975\ttotal: 2.67s\tremaining: 1.04s\n",
      "719:\tlearn: 1.2244626\ttotal: 2.67s\tremaining: 1.04s\n",
      "720:\tlearn: 1.2242039\ttotal: 2.68s\tremaining: 1.03s\n",
      "721:\tlearn: 1.2241363\ttotal: 2.68s\tremaining: 1.03s\n",
      "722:\tlearn: 1.2239849\ttotal: 2.68s\tremaining: 1.03s\n",
      "723:\tlearn: 1.2239303\ttotal: 2.69s\tremaining: 1.02s\n",
      "724:\tlearn: 1.2236309\ttotal: 2.69s\tremaining: 1.02s\n",
      "725:\tlearn: 1.2233949\ttotal: 2.7s\tremaining: 1.02s\n",
      "726:\tlearn: 1.2232974\ttotal: 2.7s\tremaining: 1.01s\n",
      "727:\tlearn: 1.2232164\ttotal: 2.71s\tremaining: 1.01s\n",
      "728:\tlearn: 1.2231448\ttotal: 2.71s\tremaining: 1.01s\n",
      "729:\tlearn: 1.2230325\ttotal: 2.71s\tremaining: 1s\n",
      "730:\tlearn: 1.2229797\ttotal: 2.72s\tremaining: 1000ms\n",
      "731:\tlearn: 1.2228593\ttotal: 2.72s\tremaining: 996ms\n",
      "732:\tlearn: 1.2228110\ttotal: 2.72s\tremaining: 992ms\n",
      "733:\tlearn: 1.2226862\ttotal: 2.73s\tremaining: 988ms\n",
      "734:\tlearn: 1.2225441\ttotal: 2.73s\tremaining: 984ms\n"
     ]
    },
    {
     "name": "stdout",
     "output_type": "stream",
     "text": [
      "735:\tlearn: 1.2224980\ttotal: 2.73s\tremaining: 981ms\n",
      "736:\tlearn: 1.2223197\ttotal: 2.74s\tremaining: 977ms\n",
      "737:\tlearn: 1.2220885\ttotal: 2.74s\tremaining: 973ms\n",
      "738:\tlearn: 1.2219929\ttotal: 2.74s\tremaining: 969ms\n",
      "739:\tlearn: 1.2218578\ttotal: 2.75s\tremaining: 966ms\n",
      "740:\tlearn: 1.2218060\ttotal: 2.75s\tremaining: 962ms\n",
      "741:\tlearn: 1.2215346\ttotal: 2.76s\tremaining: 958ms\n",
      "742:\tlearn: 1.2214254\ttotal: 2.76s\tremaining: 955ms\n",
      "743:\tlearn: 1.2213234\ttotal: 2.77s\tremaining: 951ms\n",
      "744:\tlearn: 1.2212777\ttotal: 2.77s\tremaining: 948ms\n",
      "745:\tlearn: 1.2212170\ttotal: 2.77s\tremaining: 944ms\n",
      "746:\tlearn: 1.2211210\ttotal: 2.78s\tremaining: 941ms\n",
      "747:\tlearn: 1.2210025\ttotal: 2.78s\tremaining: 937ms\n",
      "748:\tlearn: 1.2205407\ttotal: 2.78s\tremaining: 933ms\n",
      "749:\tlearn: 1.2204851\ttotal: 2.79s\tremaining: 929ms\n",
      "750:\tlearn: 1.2204001\ttotal: 2.79s\tremaining: 925ms\n",
      "751:\tlearn: 1.2202799\ttotal: 2.79s\tremaining: 921ms\n",
      "752:\tlearn: 1.2200785\ttotal: 2.8s\tremaining: 918ms\n",
      "753:\tlearn: 1.2199521\ttotal: 2.8s\tremaining: 914ms\n",
      "754:\tlearn: 1.2198633\ttotal: 2.8s\tremaining: 910ms\n",
      "755:\tlearn: 1.2197991\ttotal: 2.81s\tremaining: 906ms\n",
      "756:\tlearn: 1.2197056\ttotal: 2.81s\tremaining: 902ms\n",
      "757:\tlearn: 1.2196365\ttotal: 2.81s\tremaining: 899ms\n",
      "758:\tlearn: 1.2195790\ttotal: 2.82s\tremaining: 895ms\n",
      "759:\tlearn: 1.2194676\ttotal: 2.82s\tremaining: 891ms\n",
      "760:\tlearn: 1.2194130\ttotal: 2.83s\tremaining: 888ms\n",
      "761:\tlearn: 1.2192091\ttotal: 2.83s\tremaining: 884ms\n",
      "762:\tlearn: 1.2188326\ttotal: 2.83s\tremaining: 880ms\n",
      "763:\tlearn: 1.2186878\ttotal: 2.84s\tremaining: 877ms\n",
      "764:\tlearn: 1.2186460\ttotal: 2.84s\tremaining: 873ms\n",
      "765:\tlearn: 1.2185087\ttotal: 2.85s\tremaining: 870ms\n",
      "766:\tlearn: 1.2184750\ttotal: 2.85s\tremaining: 866ms\n",
      "767:\tlearn: 1.2183472\ttotal: 2.85s\tremaining: 863ms\n",
      "768:\tlearn: 1.2181311\ttotal: 2.86s\tremaining: 859ms\n",
      "769:\tlearn: 1.2180279\ttotal: 2.87s\tremaining: 857ms\n",
      "770:\tlearn: 1.2179656\ttotal: 2.87s\tremaining: 853ms\n",
      "771:\tlearn: 1.2178080\ttotal: 2.88s\tremaining: 850ms\n",
      "772:\tlearn: 1.2176211\ttotal: 2.88s\tremaining: 846ms\n",
      "773:\tlearn: 1.2175546\ttotal: 2.89s\tremaining: 843ms\n",
      "774:\tlearn: 1.2173091\ttotal: 2.89s\tremaining: 839ms\n",
      "775:\tlearn: 1.2171801\ttotal: 2.89s\tremaining: 836ms\n",
      "776:\tlearn: 1.2169888\ttotal: 2.9s\tremaining: 833ms\n",
      "777:\tlearn: 1.2168913\ttotal: 2.91s\tremaining: 829ms\n",
      "778:\tlearn: 1.2167364\ttotal: 2.91s\tremaining: 826ms\n",
      "779:\tlearn: 1.2165153\ttotal: 2.92s\tremaining: 823ms\n",
      "780:\tlearn: 1.2164484\ttotal: 2.92s\tremaining: 819ms\n",
      "781:\tlearn: 1.2163964\ttotal: 2.92s\tremaining: 815ms\n",
      "782:\tlearn: 1.2163269\ttotal: 2.93s\tremaining: 812ms\n",
      "783:\tlearn: 1.2162059\ttotal: 2.93s\tremaining: 808ms\n",
      "784:\tlearn: 1.2158425\ttotal: 2.94s\tremaining: 805ms\n",
      "785:\tlearn: 1.2157557\ttotal: 2.94s\tremaining: 801ms\n",
      "786:\tlearn: 1.2156567\ttotal: 2.94s\tremaining: 797ms\n",
      "787:\tlearn: 1.2155842\ttotal: 2.95s\tremaining: 794ms\n",
      "788:\tlearn: 1.2155109\ttotal: 2.95s\tremaining: 790ms\n",
      "789:\tlearn: 1.2154694\ttotal: 2.96s\tremaining: 786ms\n",
      "790:\tlearn: 1.2152883\ttotal: 2.96s\tremaining: 783ms\n",
      "791:\tlearn: 1.2151196\ttotal: 2.97s\tremaining: 779ms\n",
      "792:\tlearn: 1.2149570\ttotal: 2.97s\tremaining: 776ms\n",
      "793:\tlearn: 1.2149035\ttotal: 2.97s\tremaining: 772ms\n",
      "794:\tlearn: 1.2148573\ttotal: 2.98s\tremaining: 768ms\n",
      "795:\tlearn: 1.2148002\ttotal: 2.98s\tremaining: 765ms\n",
      "796:\tlearn: 1.2147384\ttotal: 2.99s\tremaining: 761ms\n",
      "797:\tlearn: 1.2146824\ttotal: 2.99s\tremaining: 757ms\n",
      "798:\tlearn: 1.2145979\ttotal: 3s\tremaining: 754ms\n",
      "799:\tlearn: 1.2145543\ttotal: 3s\tremaining: 750ms\n",
      "800:\tlearn: 1.2144620\ttotal: 3s\tremaining: 746ms\n",
      "801:\tlearn: 1.2143196\ttotal: 3.01s\tremaining: 743ms\n",
      "802:\tlearn: 1.2142478\ttotal: 3.01s\tremaining: 740ms\n",
      "803:\tlearn: 1.2141156\ttotal: 3.02s\tremaining: 736ms\n",
      "804:\tlearn: 1.2138827\ttotal: 3.02s\tremaining: 732ms\n",
      "805:\tlearn: 1.2136685\ttotal: 3.03s\tremaining: 729ms\n",
      "806:\tlearn: 1.2135391\ttotal: 3.03s\tremaining: 725ms\n",
      "807:\tlearn: 1.2133882\ttotal: 3.03s\tremaining: 721ms\n",
      "808:\tlearn: 1.2133268\ttotal: 3.04s\tremaining: 718ms\n",
      "809:\tlearn: 1.2132265\ttotal: 3.04s\tremaining: 714ms\n",
      "810:\tlearn: 1.2131385\ttotal: 3.05s\tremaining: 710ms\n",
      "811:\tlearn: 1.2130680\ttotal: 3.06s\tremaining: 707ms\n",
      "812:\tlearn: 1.2129858\ttotal: 3.06s\tremaining: 704ms\n",
      "813:\tlearn: 1.2128342\ttotal: 3.06s\tremaining: 700ms\n",
      "814:\tlearn: 1.2127833\ttotal: 3.07s\tremaining: 696ms\n",
      "815:\tlearn: 1.2126749\ttotal: 3.07s\tremaining: 693ms\n",
      "816:\tlearn: 1.2122041\ttotal: 3.08s\tremaining: 689ms\n",
      "817:\tlearn: 1.2121488\ttotal: 3.08s\tremaining: 685ms\n",
      "818:\tlearn: 1.2120195\ttotal: 3.08s\tremaining: 682ms\n",
      "819:\tlearn: 1.2118981\ttotal: 3.09s\tremaining: 678ms\n",
      "820:\tlearn: 1.2117919\ttotal: 3.09s\tremaining: 674ms\n",
      "821:\tlearn: 1.2117249\ttotal: 3.1s\tremaining: 670ms\n",
      "822:\tlearn: 1.2116192\ttotal: 3.1s\tremaining: 667ms\n",
      "823:\tlearn: 1.2115567\ttotal: 3.1s\tremaining: 663ms\n",
      "824:\tlearn: 1.2115050\ttotal: 3.11s\tremaining: 659ms\n",
      "825:\tlearn: 1.2114297\ttotal: 3.11s\tremaining: 655ms\n",
      "826:\tlearn: 1.2113386\ttotal: 3.11s\tremaining: 651ms\n",
      "827:\tlearn: 1.2112297\ttotal: 3.12s\tremaining: 647ms\n",
      "828:\tlearn: 1.2111744\ttotal: 3.12s\tremaining: 644ms\n",
      "829:\tlearn: 1.2110632\ttotal: 3.12s\tremaining: 640ms\n",
      "830:\tlearn: 1.2109268\ttotal: 3.13s\tremaining: 636ms\n",
      "831:\tlearn: 1.2108585\ttotal: 3.13s\tremaining: 632ms\n",
      "832:\tlearn: 1.2107501\ttotal: 3.13s\tremaining: 628ms\n",
      "833:\tlearn: 1.2107019\ttotal: 3.14s\tremaining: 624ms\n",
      "834:\tlearn: 1.2106499\ttotal: 3.14s\tremaining: 620ms\n",
      "835:\tlearn: 1.2105663\ttotal: 3.14s\tremaining: 617ms\n",
      "836:\tlearn: 1.2104309\ttotal: 3.15s\tremaining: 613ms\n",
      "837:\tlearn: 1.2102248\ttotal: 3.15s\tremaining: 609ms\n",
      "838:\tlearn: 1.2101565\ttotal: 3.15s\tremaining: 605ms\n",
      "839:\tlearn: 1.2100186\ttotal: 3.16s\tremaining: 601ms\n",
      "840:\tlearn: 1.2098161\ttotal: 3.16s\tremaining: 598ms\n",
      "841:\tlearn: 1.2097189\ttotal: 3.16s\tremaining: 594ms\n",
      "842:\tlearn: 1.2096663\ttotal: 3.17s\tremaining: 590ms\n",
      "843:\tlearn: 1.2096238\ttotal: 3.17s\tremaining: 586ms\n",
      "844:\tlearn: 1.2095626\ttotal: 3.17s\tremaining: 582ms\n",
      "845:\tlearn: 1.2094671\ttotal: 3.18s\tremaining: 578ms\n",
      "846:\tlearn: 1.2094117\ttotal: 3.18s\tremaining: 575ms\n",
      "847:\tlearn: 1.2092931\ttotal: 3.18s\tremaining: 571ms\n",
      "848:\tlearn: 1.2090159\ttotal: 3.19s\tremaining: 567ms\n",
      "849:\tlearn: 1.2089150\ttotal: 3.19s\tremaining: 563ms\n",
      "850:\tlearn: 1.2088084\ttotal: 3.19s\tremaining: 559ms\n",
      "851:\tlearn: 1.2086936\ttotal: 3.2s\tremaining: 555ms\n",
      "852:\tlearn: 1.2084837\ttotal: 3.2s\tremaining: 552ms\n",
      "853:\tlearn: 1.2083849\ttotal: 3.21s\tremaining: 548ms\n",
      "854:\tlearn: 1.2081367\ttotal: 3.21s\tremaining: 544ms\n",
      "855:\tlearn: 1.2079783\ttotal: 3.21s\tremaining: 541ms\n",
      "856:\tlearn: 1.2079367\ttotal: 3.22s\tremaining: 537ms\n",
      "857:\tlearn: 1.2078243\ttotal: 3.22s\tremaining: 534ms\n",
      "858:\tlearn: 1.2077307\ttotal: 3.23s\tremaining: 530ms\n",
      "859:\tlearn: 1.2076592\ttotal: 3.23s\tremaining: 526ms\n",
      "860:\tlearn: 1.2074679\ttotal: 3.23s\tremaining: 522ms\n",
      "861:\tlearn: 1.2073535\ttotal: 3.24s\tremaining: 518ms\n",
      "862:\tlearn: 1.2071151\ttotal: 3.24s\tremaining: 515ms\n",
      "863:\tlearn: 1.2070131\ttotal: 3.25s\tremaining: 511ms\n",
      "864:\tlearn: 1.2069099\ttotal: 3.25s\tremaining: 507ms\n",
      "865:\tlearn: 1.2065660\ttotal: 3.25s\tremaining: 503ms\n",
      "866:\tlearn: 1.2063546\ttotal: 3.26s\tremaining: 500ms\n",
      "867:\tlearn: 1.2063100\ttotal: 3.26s\tremaining: 496ms\n",
      "868:\tlearn: 1.2061620\ttotal: 3.26s\tremaining: 492ms\n",
      "869:\tlearn: 1.2060479\ttotal: 3.27s\tremaining: 488ms\n",
      "870:\tlearn: 1.2059697\ttotal: 3.27s\tremaining: 484ms\n",
      "871:\tlearn: 1.2059454\ttotal: 3.27s\tremaining: 480ms\n",
      "872:\tlearn: 1.2058943\ttotal: 3.28s\tremaining: 477ms\n",
      "873:\tlearn: 1.2058120\ttotal: 3.28s\tremaining: 473ms\n",
      "874:\tlearn: 1.2057029\ttotal: 3.28s\tremaining: 469ms\n",
      "875:\tlearn: 1.2056175\ttotal: 3.29s\tremaining: 465ms\n",
      "876:\tlearn: 1.2055755\ttotal: 3.29s\tremaining: 461ms\n",
      "877:\tlearn: 1.2055167\ttotal: 3.29s\tremaining: 457ms\n",
      "878:\tlearn: 1.2054521\ttotal: 3.29s\tremaining: 454ms\n",
      "879:\tlearn: 1.2053347\ttotal: 3.3s\tremaining: 450ms\n",
      "880:\tlearn: 1.2050276\ttotal: 3.3s\tremaining: 446ms\n",
      "881:\tlearn: 1.2049520\ttotal: 3.31s\tremaining: 443ms\n",
      "882:\tlearn: 1.2048830\ttotal: 3.31s\tremaining: 439ms\n",
      "883:\tlearn: 1.2045908\ttotal: 3.32s\tremaining: 435ms\n",
      "884:\tlearn: 1.2045516\ttotal: 3.32s\tremaining: 432ms\n",
      "885:\tlearn: 1.2044123\ttotal: 3.33s\tremaining: 428ms\n",
      "886:\tlearn: 1.2043721\ttotal: 3.33s\tremaining: 424ms\n",
      "887:\tlearn: 1.2042573\ttotal: 3.33s\tremaining: 420ms\n",
      "888:\tlearn: 1.2040558\ttotal: 3.34s\tremaining: 417ms\n",
      "889:\tlearn: 1.2039268\ttotal: 3.34s\tremaining: 413ms\n",
      "890:\tlearn: 1.2037330\ttotal: 3.35s\tremaining: 409ms\n",
      "891:\tlearn: 1.2035700\ttotal: 3.35s\tremaining: 406ms\n",
      "892:\tlearn: 1.2034549\ttotal: 3.35s\tremaining: 402ms\n",
      "893:\tlearn: 1.2034065\ttotal: 3.36s\tremaining: 398ms\n",
      "894:\tlearn: 1.2031044\ttotal: 3.36s\tremaining: 394ms\n",
      "895:\tlearn: 1.2030355\ttotal: 3.37s\tremaining: 391ms\n",
      "896:\tlearn: 1.2029752\ttotal: 3.37s\tremaining: 387ms\n",
      "897:\tlearn: 1.2028990\ttotal: 3.38s\tremaining: 383ms\n",
      "898:\tlearn: 1.2026714\ttotal: 3.38s\tremaining: 380ms\n",
      "899:\tlearn: 1.2024084\ttotal: 3.38s\tremaining: 376ms\n",
      "900:\tlearn: 1.2022928\ttotal: 3.39s\tremaining: 372ms\n",
      "901:\tlearn: 1.2021633\ttotal: 3.39s\tremaining: 368ms\n",
      "902:\tlearn: 1.2018004\ttotal: 3.4s\tremaining: 365ms\n",
      "903:\tlearn: 1.2016161\ttotal: 3.4s\tremaining: 361ms\n",
      "904:\tlearn: 1.2015007\ttotal: 3.4s\tremaining: 357ms\n",
      "905:\tlearn: 1.2013264\ttotal: 3.41s\tremaining: 354ms\n",
      "906:\tlearn: 1.2012578\ttotal: 3.41s\tremaining: 350ms\n",
      "907:\tlearn: 1.2012019\ttotal: 3.42s\tremaining: 346ms\n",
      "908:\tlearn: 1.2011536\ttotal: 3.42s\tremaining: 342ms\n",
      "909:\tlearn: 1.2010913\ttotal: 3.42s\tremaining: 339ms\n"
     ]
    },
    {
     "name": "stdout",
     "output_type": "stream",
     "text": [
      "910:\tlearn: 1.2010293\ttotal: 3.43s\tremaining: 335ms\n",
      "911:\tlearn: 1.2009857\ttotal: 3.43s\tremaining: 331ms\n",
      "912:\tlearn: 1.2008479\ttotal: 3.44s\tremaining: 328ms\n",
      "913:\tlearn: 1.2008127\ttotal: 3.45s\tremaining: 324ms\n",
      "914:\tlearn: 1.2007813\ttotal: 3.45s\tremaining: 321ms\n",
      "915:\tlearn: 1.2006871\ttotal: 3.45s\tremaining: 317ms\n",
      "916:\tlearn: 1.2006432\ttotal: 3.46s\tremaining: 313ms\n",
      "917:\tlearn: 1.2004302\ttotal: 3.46s\tremaining: 309ms\n",
      "918:\tlearn: 1.2000311\ttotal: 3.47s\tremaining: 306ms\n",
      "919:\tlearn: 1.1999990\ttotal: 3.47s\tremaining: 302ms\n",
      "920:\tlearn: 1.1999251\ttotal: 3.48s\tremaining: 298ms\n",
      "921:\tlearn: 1.1998744\ttotal: 3.48s\tremaining: 294ms\n",
      "922:\tlearn: 1.1997845\ttotal: 3.48s\tremaining: 291ms\n",
      "923:\tlearn: 1.1996431\ttotal: 3.49s\tremaining: 287ms\n",
      "924:\tlearn: 1.1995848\ttotal: 3.49s\tremaining: 283ms\n",
      "925:\tlearn: 1.1995437\ttotal: 3.5s\tremaining: 279ms\n",
      "926:\tlearn: 1.1994761\ttotal: 3.5s\tremaining: 276ms\n",
      "927:\tlearn: 1.1993089\ttotal: 3.5s\tremaining: 272ms\n",
      "928:\tlearn: 1.1992658\ttotal: 3.51s\tremaining: 268ms\n",
      "929:\tlearn: 1.1991900\ttotal: 3.51s\tremaining: 264ms\n",
      "930:\tlearn: 1.1990995\ttotal: 3.52s\tremaining: 261ms\n",
      "931:\tlearn: 1.1988855\ttotal: 3.52s\tremaining: 257ms\n",
      "932:\tlearn: 1.1986304\ttotal: 3.52s\tremaining: 253ms\n",
      "933:\tlearn: 1.1985529\ttotal: 3.53s\tremaining: 249ms\n",
      "934:\tlearn: 1.1984889\ttotal: 3.53s\tremaining: 246ms\n",
      "935:\tlearn: 1.1984358\ttotal: 3.54s\tremaining: 242ms\n",
      "936:\tlearn: 1.1983353\ttotal: 3.54s\tremaining: 238ms\n",
      "937:\tlearn: 1.1982782\ttotal: 3.54s\tremaining: 234ms\n",
      "938:\tlearn: 1.1982090\ttotal: 3.55s\tremaining: 230ms\n",
      "939:\tlearn: 1.1981295\ttotal: 3.55s\tremaining: 227ms\n",
      "940:\tlearn: 1.1980910\ttotal: 3.55s\tremaining: 223ms\n",
      "941:\tlearn: 1.1980747\ttotal: 3.56s\tremaining: 219ms\n",
      "942:\tlearn: 1.1980231\ttotal: 3.56s\tremaining: 215ms\n",
      "943:\tlearn: 1.1979154\ttotal: 3.56s\tremaining: 212ms\n",
      "944:\tlearn: 1.1976601\ttotal: 3.57s\tremaining: 208ms\n",
      "945:\tlearn: 1.1975374\ttotal: 3.57s\tremaining: 204ms\n",
      "946:\tlearn: 1.1974882\ttotal: 3.58s\tremaining: 200ms\n",
      "947:\tlearn: 1.1973386\ttotal: 3.58s\tremaining: 196ms\n",
      "948:\tlearn: 1.1972678\ttotal: 3.58s\tremaining: 193ms\n",
      "949:\tlearn: 1.1972041\ttotal: 3.59s\tremaining: 189ms\n",
      "950:\tlearn: 1.1971580\ttotal: 3.59s\tremaining: 185ms\n",
      "951:\tlearn: 1.1971078\ttotal: 3.59s\tremaining: 181ms\n",
      "952:\tlearn: 1.1970455\ttotal: 3.6s\tremaining: 177ms\n",
      "953:\tlearn: 1.1969704\ttotal: 3.6s\tremaining: 174ms\n",
      "954:\tlearn: 1.1968836\ttotal: 3.6s\tremaining: 170ms\n",
      "955:\tlearn: 1.1967982\ttotal: 3.61s\tremaining: 166ms\n",
      "956:\tlearn: 1.1966054\ttotal: 3.61s\tremaining: 162ms\n",
      "957:\tlearn: 1.1965585\ttotal: 3.62s\tremaining: 159ms\n",
      "958:\tlearn: 1.1960341\ttotal: 3.62s\tremaining: 155ms\n",
      "959:\tlearn: 1.1959781\ttotal: 3.63s\tremaining: 151ms\n",
      "960:\tlearn: 1.1958536\ttotal: 3.63s\tremaining: 147ms\n",
      "961:\tlearn: 1.1956550\ttotal: 3.63s\tremaining: 143ms\n",
      "962:\tlearn: 1.1955678\ttotal: 3.64s\tremaining: 140ms\n",
      "963:\tlearn: 1.1954813\ttotal: 3.64s\tremaining: 136ms\n",
      "964:\tlearn: 1.1954246\ttotal: 3.64s\tremaining: 132ms\n",
      "965:\tlearn: 1.1953911\ttotal: 3.65s\tremaining: 128ms\n",
      "966:\tlearn: 1.1952423\ttotal: 3.65s\tremaining: 125ms\n",
      "967:\tlearn: 1.1951595\ttotal: 3.66s\tremaining: 121ms\n",
      "968:\tlearn: 1.1951012\ttotal: 3.66s\tremaining: 117ms\n",
      "969:\tlearn: 1.1949915\ttotal: 3.67s\tremaining: 114ms\n",
      "970:\tlearn: 1.1949134\ttotal: 3.67s\tremaining: 110ms\n",
      "971:\tlearn: 1.1948054\ttotal: 3.68s\tremaining: 106ms\n",
      "972:\tlearn: 1.1945927\ttotal: 3.68s\tremaining: 102ms\n",
      "973:\tlearn: 1.1945368\ttotal: 3.69s\tremaining: 98.4ms\n",
      "974:\tlearn: 1.1944611\ttotal: 3.69s\tremaining: 94.7ms\n",
      "975:\tlearn: 1.1944193\ttotal: 3.69s\tremaining: 90.9ms\n",
      "976:\tlearn: 1.1943374\ttotal: 3.7s\tremaining: 87.2ms\n",
      "977:\tlearn: 1.1942470\ttotal: 3.71s\tremaining: 83.4ms\n",
      "978:\tlearn: 1.1937536\ttotal: 3.71s\tremaining: 79.6ms\n",
      "979:\tlearn: 1.1935804\ttotal: 3.72s\tremaining: 75.9ms\n",
      "980:\tlearn: 1.1935237\ttotal: 3.72s\tremaining: 72.1ms\n",
      "981:\tlearn: 1.1934585\ttotal: 3.73s\tremaining: 68.3ms\n",
      "982:\tlearn: 1.1933801\ttotal: 3.73s\tremaining: 64.5ms\n",
      "983:\tlearn: 1.1933046\ttotal: 3.73s\tremaining: 60.7ms\n",
      "984:\tlearn: 1.1932370\ttotal: 3.74s\tremaining: 56.9ms\n",
      "985:\tlearn: 1.1931468\ttotal: 3.74s\tremaining: 53.1ms\n",
      "986:\tlearn: 1.1930486\ttotal: 3.75s\tremaining: 49.4ms\n",
      "987:\tlearn: 1.1929962\ttotal: 3.75s\tremaining: 45.6ms\n",
      "988:\tlearn: 1.1929411\ttotal: 3.76s\tremaining: 41.8ms\n",
      "989:\tlearn: 1.1927731\ttotal: 3.76s\tremaining: 38ms\n",
      "990:\tlearn: 1.1925700\ttotal: 3.77s\tremaining: 34.2ms\n",
      "991:\tlearn: 1.1924685\ttotal: 3.77s\tremaining: 30.4ms\n",
      "992:\tlearn: 1.1923618\ttotal: 3.77s\tremaining: 26.6ms\n",
      "993:\tlearn: 1.1922889\ttotal: 3.78s\tremaining: 22.8ms\n",
      "994:\tlearn: 1.1921855\ttotal: 3.78s\tremaining: 19ms\n",
      "995:\tlearn: 1.1920945\ttotal: 3.79s\tremaining: 15.2ms\n",
      "996:\tlearn: 1.1920577\ttotal: 3.79s\tremaining: 11.4ms\n",
      "997:\tlearn: 1.1920172\ttotal: 3.8s\tremaining: 7.61ms\n",
      "998:\tlearn: 1.1919436\ttotal: 3.8s\tremaining: 3.81ms\n",
      "999:\tlearn: 1.1918629\ttotal: 3.81s\tremaining: 0us\n"
     ]
    },
    {
     "data": {
      "image/png": "[encoded data removed]",
      "text/plain": [
       "<Figure size 576x144 with 1 Axes>"
      ]
     },
     "metadata": {
      "needs_background": "light"
     },
     "output_type": "display_data"
    },
    {
     "data": {
      "text/html": [
       "<div>\n",
       "<style scoped>\n",
       "    .dataframe tbody tr th:only-of-type {\n",
       "        vertical-align: middle;\n",
       "    }\n",
       "\n",
       "    .dataframe tbody tr th {\n",
       "        vertical-align: top;\n",
       "    }\n",
       "\n",
       "    .dataframe thead th {\n",
       "        text-align: right;\n",
       "    }\n",
       "</style>\n",
       "<table border=\"1\" class=\"dataframe\">\n",
       "  <thead>\n",
       "    <tr style=\"text-align: right;\">\n",
       "      <th></th>\n",
       "      <th>Model</th>\n",
       "      <th>R2 Score</th>\n",
       "      <th>Adjusted R2</th>\n",
       "      <th>MSE</th>\n",
       "      <th>RMSE</th>\n",
       "      <th>MAE</th>\n",
       "    </tr>\n",
       "  </thead>\n",
       "  <tbody>\n",
       "    <tr>\n",
       "      <th>0</th>\n",
       "      <td>Linear Regression</td>\n",
       "      <td>0.049717</td>\n",
       "      <td>0.048207</td>\n",
       "      <td>4.204704</td>\n",
       "      <td>2.050538</td>\n",
       "      <td>1.441631</td>\n",
       "    </tr>\n",
       "    <tr>\n",
       "      <th>1</th>\n",
       "      <td>Decision Tree Regressor</td>\n",
       "      <td>0.20065</td>\n",
       "      <td>0.199379</td>\n",
       "      <td>3.536875</td>\n",
       "      <td>1.880658</td>\n",
       "      <td>1.005551</td>\n",
       "    </tr>\n",
       "    <tr>\n",
       "      <th>2</th>\n",
       "      <td>Random Forest Regressor</td>\n",
       "      <td>0.482921</td>\n",
       "      <td>0.482099</td>\n",
       "      <td>2.287912</td>\n",
       "      <td>1.512585</td>\n",
       "      <td>0.859207</td>\n",
       "    </tr>\n",
       "    <tr>\n",
       "      <th>3</th>\n",
       "      <td>AdaBoost Regressor</td>\n",
       "      <td>0.287315</td>\n",
       "      <td>0.286182</td>\n",
       "      <td>3.153411</td>\n",
       "      <td>1.775784</td>\n",
       "      <td>1.427436</td>\n",
       "    </tr>\n",
       "    <tr>\n",
       "      <th>4</th>\n",
       "      <td>Bagging Regressor</td>\n",
       "      <td>0.46181</td>\n",
       "      <td>0.460954</td>\n",
       "      <td>2.381324</td>\n",
       "      <td>1.543154</td>\n",
       "      <td>0.872244</td>\n",
       "    </tr>\n",
       "    <tr>\n",
       "      <th>5</th>\n",
       "      <td>Gradient Boosting Regressor</td>\n",
       "      <td>0.57908</td>\n",
       "      <td>0.578411</td>\n",
       "      <td>1.86244</td>\n",
       "      <td>1.364713</td>\n",
       "      <td>0.871944</td>\n",
       "    </tr>\n",
       "    <tr>\n",
       "      <th>6</th>\n",
       "      <td>XGBoost Regressor</td>\n",
       "      <td>0.598637</td>\n",
       "      <td>0.597999</td>\n",
       "      <td>1.775906</td>\n",
       "      <td>1.332631</td>\n",
       "      <td>0.835274</td>\n",
       "    </tr>\n",
       "    <tr>\n",
       "      <th>7</th>\n",
       "      <td>LightGBM Regressor</td>\n",
       "      <td>0.60121</td>\n",
       "      <td>0.600576</td>\n",
       "      <td>1.764523</td>\n",
       "      <td>1.328353</td>\n",
       "      <td>0.8034</td>\n",
       "    </tr>\n",
       "    <tr>\n",
       "      <th>8</th>\n",
       "      <td>CatBoost Regressor</td>\n",
       "      <td>0.616981</td>\n",
       "      <td>0.616372</td>\n",
       "      <td>1.694739</td>\n",
       "      <td>1.301821</td>\n",
       "      <td>0.807372</td>\n",
       "    </tr>\n",
       "  </tbody>\n",
       "</table>\n",
       "</div>"
      ],
      "text/plain": [
       "                         Model  R2 Score Adjusted R2       MSE      RMSE  \\\n",
       "0            Linear Regression  0.049717    0.048207  4.204704  2.050538   \n",
       "1      Decision Tree Regressor   0.20065    0.199379  3.536875  1.880658   \n",
       "2      Random Forest Regressor  0.482921    0.482099  2.287912  1.512585   \n",
       "3           AdaBoost Regressor  0.287315    0.286182  3.153411  1.775784   \n",
       "4            Bagging Regressor   0.46181    0.460954  2.381324  1.543154   \n",
       "5  Gradient Boosting Regressor   0.57908    0.578411   1.86244  1.364713   \n",
       "6            XGBoost Regressor  0.598637    0.597999  1.775906  1.332631   \n",
       "7           LightGBM Regressor   0.60121    0.600576  1.764523  1.328353   \n",
       "8           CatBoost Regressor  0.616981    0.616372  1.694739  1.301821   \n",
       "\n",
       "        MAE  \n",
       "0  1.441631  \n",
       "1  1.005551  \n",
       "2  0.859207  \n",
       "3  1.427436  \n",
       "4  0.872244  \n",
       "5  0.871944  \n",
       "6  0.835274  \n",
       "7    0.8034  \n",
       "8  0.807372  "
      ]
     },
     "execution_count": 663,
     "metadata": {},
     "output_type": "execute_result"
    }
   ],
   "source": [
    "evaluate_regression_models(X_train, X_test, y_train, y_test)"
   ]
  },
  {
   "cell_type": "markdown",
   "id": "db946a61",
   "metadata": {},
   "source": [
    "# Using bagging technique for the models with R2 higher than .45"
   ]
  },
  {
   "cell_type": "raw",
   "id": "06569060",
   "metadata": {},
   "source": [
    "# Create a list of estimators\n",
    "base_estimators = [RandomForestRegressor(),GradientBoostingRegressor(),XGBRegressor(),LGBMRegressor(),CatBoostRegressor()]\n",
    "# Create a list of BaggingRegressor models\n",
    "models = []\n",
    "for estimator in base_estimators:\n",
    "    model = BaggingRegressor(base_estimator=estimator)\n",
    "    models.append(model)\n",
    "# Fit the models to the training data\n",
    "for model in models:\n",
    "    model.fit(X_train, y_train)\n",
    "# Use the models to make predictions on the test data\n",
    "y_preds = [model.predict(X_test) for model in models]\n",
    "r2s = [r2_score(y_test, y_pred) for y_pred in y_preds]\n",
    "for model, r2 in zip(models, r2s):\n",
    "    print(f\"R2 score for model {model.base_estimator.__class__.__name__}: {r2:.2f}\")"
   ]
  },
  {
   "cell_type": "markdown",
   "id": "13db9ebd",
   "metadata": {},
   "source": [
    "# Hypertunning CatBoostRegressor"
   ]
  },
  {
   "cell_type": "raw",
   "id": "c15bf271",
   "metadata": {
    "collapsed": true
   },
   "source": [
    "from sklearn.model_selection import RandomizedSearchCV\n",
    "param_grid = {'n_estimators': [100, 200, 300, 350, 400, 450, 500],\n",
    "              'max_depth': [1,2, 3, 4, 5, 6, 7],\n",
    "              'learning_rate': [0.1, 0.2, 0.3, 0.4, 0.5, 0.6],\n",
    "              'l2_leaf_reg': [1, 3, 5, 7, 9],\n",
    "              'subsample': [0.5, 0.7, 0.9],\n",
    "              'bootstrap_type': ['Bernoulli', 'Poisson', 'MVS'],\n",
    "              'one_hot_max_size': [2, 3, 4, 5, 6],\n",
    "              'random_strength': [1, 3, 5, 7, 9],\n",
    "              'bagging_temperature': [0.5, 0.7, 0.9],\n",
    "              'od_pval': [0.00001, 0.0001, 0.001, 0.01, 0.1]}\n",
    "model = CatBoostRegressor()\n",
    "random_search = RandomizedSearchCV(estimator=model, param_distributions=param_grid, n_iter=10, cv=5, random_state=42)\n",
    "random_search.fit(X_train, y_train)\n",
    "print(random_search.best_params_)"
   ]
  },
  {
   "cell_type": "markdown",
   "id": "1d015710",
   "metadata": {},
   "source": [
    "- Even after hyper tunning did'nt go above R2 score 0.61 and using baaging technique also did'nt improve it.\n",
    "- tried hypertunning other models aslo but the highest i got is random forest regressor with 0.59 \n",
    "- hence, from Regressor models CatBoostRegressor is the best model"
   ]
  },
  {
   "cell_type": "markdown",
   "id": "8f4a4ace",
   "metadata": {},
   "source": [
    "# Time Series Models"
   ]
  },
  {
   "cell_type": "markdown",
   "id": "2d78364e",
   "metadata": {},
   "source": [
    "## Feature Engineering for Time series models"
   ]
  },
  {
   "cell_type": "code",
   "execution_count": 664,
   "id": "b0e0ef87",
   "metadata": {
    "scrolled": true
   },
   "outputs": [
    {
     "data": {
      "text/html": [
       "<div>\n",
       "<style scoped>\n",
       "    .dataframe tbody tr th:only-of-type {\n",
       "        vertical-align: middle;\n",
       "    }\n",
       "\n",
       "    .dataframe tbody tr th {\n",
       "        vertical-align: top;\n",
       "    }\n",
       "\n",
       "    .dataframe thead th {\n",
       "        text-align: right;\n",
       "    }\n",
       "</style>\n",
       "<table border=\"1\" class=\"dataframe\">\n",
       "  <thead>\n",
       "    <tr style=\"text-align: right;\">\n",
       "      <th></th>\n",
       "      <th>date</th>\n",
       "      <th>spare</th>\n",
       "      <th>count</th>\n",
       "    </tr>\n",
       "  </thead>\n",
       "  <tbody>\n",
       "    <tr>\n",
       "      <th>0</th>\n",
       "      <td>01-02-18</td>\n",
       "      <td>ENGINE OIL</td>\n",
       "      <td>8</td>\n",
       "    </tr>\n",
       "    <tr>\n",
       "      <th>1</th>\n",
       "      <td>01-02-18</td>\n",
       "      <td>CHAIN LUBRICATION</td>\n",
       "      <td>8</td>\n",
       "    </tr>\n",
       "    <tr>\n",
       "      <th>2</th>\n",
       "      <td>01-02-18</td>\n",
       "      <td>GENERAL SERVICE</td>\n",
       "      <td>6</td>\n",
       "    </tr>\n",
       "    <tr>\n",
       "      <th>3</th>\n",
       "      <td>01-02-18</td>\n",
       "      <td>AIR FILTER</td>\n",
       "      <td>5</td>\n",
       "    </tr>\n",
       "    <tr>\n",
       "      <th>4</th>\n",
       "      <td>01-02-18</td>\n",
       "      <td>BRAKE SHOE</td>\n",
       "      <td>4</td>\n",
       "    </tr>\n",
       "    <tr>\n",
       "      <th>...</th>\n",
       "      <td>...</td>\n",
       "      <td>...</td>\n",
       "      <td>...</td>\n",
       "    </tr>\n",
       "    <tr>\n",
       "      <th>12604</th>\n",
       "      <td>31-12-18</td>\n",
       "      <td>SHIELD SQUARE RUBBER</td>\n",
       "      <td>1</td>\n",
       "    </tr>\n",
       "    <tr>\n",
       "      <th>12605</th>\n",
       "      <td>31-12-18</td>\n",
       "      <td>CHAIN ADJUSTER</td>\n",
       "      <td>1</td>\n",
       "    </tr>\n",
       "    <tr>\n",
       "      <th>12606</th>\n",
       "      <td>31-12-18</td>\n",
       "      <td>CHAIN ADJUSTER PLATE</td>\n",
       "      <td>1</td>\n",
       "    </tr>\n",
       "    <tr>\n",
       "      <th>12607</th>\n",
       "      <td>31-12-18</td>\n",
       "      <td>BRAKE SHOE</td>\n",
       "      <td>1</td>\n",
       "    </tr>\n",
       "    <tr>\n",
       "      <th>12608</th>\n",
       "      <td>31-12-18</td>\n",
       "      <td>HEAD LIGHT SWITCH</td>\n",
       "      <td>1</td>\n",
       "    </tr>\n",
       "  </tbody>\n",
       "</table>\n",
       "<p>12609 rows × 3 columns</p>\n",
       "</div>"
      ],
      "text/plain": [
       "           date                 spare count\n",
       "0      01-02-18            ENGINE OIL     8\n",
       "1      01-02-18     CHAIN LUBRICATION     8\n",
       "2      01-02-18       GENERAL SERVICE     6\n",
       "3      01-02-18            AIR FILTER     5\n",
       "4      01-02-18            BRAKE SHOE     4\n",
       "...         ...                   ...   ...\n",
       "12604  31-12-18  SHIELD SQUARE RUBBER     1\n",
       "12605  31-12-18        CHAIN ADJUSTER     1\n",
       "12606  31-12-18  CHAIN ADJUSTER PLATE     1\n",
       "12607  31-12-18            BRAKE SHOE     1\n",
       "12608  31-12-18     HEAD LIGHT SWITCH     1\n",
       "\n",
       "[12609 rows x 3 columns]"
      ]
     },
     "execution_count": 664,
     "metadata": {},
     "output_type": "execute_result"
    }
   ],
   "source": [
    "df5=df3.copy()\n",
    "df5"
   ]
  },
  {
   "cell_type": "code",
   "execution_count": 665,
   "id": "3869b733",
   "metadata": {
    "scrolled": true
   },
   "outputs": [
    {
     "data": {
      "text/html": [
       "<div>\n",
       "<style scoped>\n",
       "    .dataframe tbody tr th:only-of-type {\n",
       "        vertical-align: middle;\n",
       "    }\n",
       "\n",
       "    .dataframe tbody tr th {\n",
       "        vertical-align: top;\n",
       "    }\n",
       "\n",
       "    .dataframe thead th {\n",
       "        text-align: right;\n",
       "    }\n",
       "</style>\n",
       "<table border=\"1\" class=\"dataframe\">\n",
       "  <thead>\n",
       "    <tr style=\"text-align: right;\">\n",
       "      <th></th>\n",
       "      <th>spare</th>\n",
       "      <th>count</th>\n",
       "    </tr>\n",
       "    <tr>\n",
       "      <th>date</th>\n",
       "      <th></th>\n",
       "      <th></th>\n",
       "    </tr>\n",
       "  </thead>\n",
       "  <tbody>\n",
       "    <tr>\n",
       "      <th>2017-05-30</th>\n",
       "      <td>ENGINE OIL</td>\n",
       "      <td>1</td>\n",
       "    </tr>\n",
       "    <tr>\n",
       "      <th>2017-05-31</th>\n",
       "      <td>DISC PAD</td>\n",
       "      <td>1</td>\n",
       "    </tr>\n",
       "    <tr>\n",
       "      <th>2017-05-31</th>\n",
       "      <td>CONSUMABLES</td>\n",
       "      <td>1</td>\n",
       "    </tr>\n",
       "    <tr>\n",
       "      <th>2017-05-31</th>\n",
       "      <td>CHAIN LUBRICATION</td>\n",
       "      <td>3</td>\n",
       "    </tr>\n",
       "    <tr>\n",
       "      <th>2017-05-31</th>\n",
       "      <td>3M OIL</td>\n",
       "      <td>2</td>\n",
       "    </tr>\n",
       "    <tr>\n",
       "      <th>...</th>\n",
       "      <td>...</td>\n",
       "      <td>...</td>\n",
       "    </tr>\n",
       "    <tr>\n",
       "      <th>2019-01-06</th>\n",
       "      <td>NUMBER PLATE CLAMP</td>\n",
       "      <td>1</td>\n",
       "    </tr>\n",
       "    <tr>\n",
       "      <th>2019-01-06</th>\n",
       "      <td>FORK OVERHUAL</td>\n",
       "      <td>1</td>\n",
       "    </tr>\n",
       "    <tr>\n",
       "      <th>2019-01-06</th>\n",
       "      <td>FORK OIL SEAL</td>\n",
       "      <td>1</td>\n",
       "    </tr>\n",
       "    <tr>\n",
       "      <th>2019-01-06</th>\n",
       "      <td>OIL FILTER</td>\n",
       "      <td>1</td>\n",
       "    </tr>\n",
       "    <tr>\n",
       "      <th>2019-01-06</th>\n",
       "      <td>CLUTCH CABLE</td>\n",
       "      <td>1</td>\n",
       "    </tr>\n",
       "  </tbody>\n",
       "</table>\n",
       "<p>12609 rows × 2 columns</p>\n",
       "</div>"
      ],
      "text/plain": [
       "                         spare count\n",
       "date                                \n",
       "2017-05-30          ENGINE OIL     1\n",
       "2017-05-31            DISC PAD     1\n",
       "2017-05-31         CONSUMABLES     1\n",
       "2017-05-31   CHAIN LUBRICATION     3\n",
       "2017-05-31              3M OIL     2\n",
       "...                        ...   ...\n",
       "2019-01-06  NUMBER PLATE CLAMP     1\n",
       "2019-01-06       FORK OVERHUAL     1\n",
       "2019-01-06       FORK OIL SEAL     1\n",
       "2019-01-06          OIL FILTER     1\n",
       "2019-01-06        CLUTCH CABLE     1\n",
       "\n",
       "[12609 rows x 2 columns]"
      ]
     },
     "execution_count": 665,
     "metadata": {},
     "output_type": "execute_result"
    }
   ],
   "source": [
    "df5['date']  = pd.to_datetime(df5['date'] , format='%d-%m-%y') #changing dtype to datetime\n",
    "df5 = df5.set_index('date') # setting date column as index\n",
    "df5 = df5.sort_index() # sorinding index by ascending order\n",
    "df5"
   ]
  },
  {
   "cell_type": "code",
   "execution_count": 666,
   "id": "f2bb3c84",
   "metadata": {
    "scrolled": true
   },
   "outputs": [
    {
     "data": {
      "text/html": [
       "<div>\n",
       "<style scoped>\n",
       "    .dataframe tbody tr th:only-of-type {\n",
       "        vertical-align: middle;\n",
       "    }\n",
       "\n",
       "    .dataframe tbody tr th {\n",
       "        vertical-align: top;\n",
       "    }\n",
       "\n",
       "    .dataframe thead th {\n",
       "        text-align: right;\n",
       "    }\n",
       "</style>\n",
       "<table border=\"1\" class=\"dataframe\">\n",
       "  <thead>\n",
       "    <tr style=\"text-align: right;\">\n",
       "      <th></th>\n",
       "      <th>spare</th>\n",
       "      <th>count</th>\n",
       "    </tr>\n",
       "    <tr>\n",
       "      <th>date</th>\n",
       "      <th></th>\n",
       "      <th></th>\n",
       "    </tr>\n",
       "  </thead>\n",
       "  <tbody>\n",
       "    <tr>\n",
       "      <th>2017-05-30</th>\n",
       "      <td>144</td>\n",
       "      <td>1</td>\n",
       "    </tr>\n",
       "    <tr>\n",
       "      <th>2017-05-31</th>\n",
       "      <td>124</td>\n",
       "      <td>1</td>\n",
       "    </tr>\n",
       "    <tr>\n",
       "      <th>2017-05-31</th>\n",
       "      <td>106</td>\n",
       "      <td>1</td>\n",
       "    </tr>\n",
       "    <tr>\n",
       "      <th>2017-05-31</th>\n",
       "      <td>74</td>\n",
       "      <td>3</td>\n",
       "    </tr>\n",
       "    <tr>\n",
       "      <th>2017-05-31</th>\n",
       "      <td>2</td>\n",
       "      <td>2</td>\n",
       "    </tr>\n",
       "    <tr>\n",
       "      <th>...</th>\n",
       "      <td>...</td>\n",
       "      <td>...</td>\n",
       "    </tr>\n",
       "    <tr>\n",
       "      <th>2019-01-06</th>\n",
       "      <td>301</td>\n",
       "      <td>1</td>\n",
       "    </tr>\n",
       "    <tr>\n",
       "      <th>2019-01-06</th>\n",
       "      <td>172</td>\n",
       "      <td>1</td>\n",
       "    </tr>\n",
       "    <tr>\n",
       "      <th>2019-01-06</th>\n",
       "      <td>171</td>\n",
       "      <td>1</td>\n",
       "    </tr>\n",
       "    <tr>\n",
       "      <th>2019-01-06</th>\n",
       "      <td>308</td>\n",
       "      <td>1</td>\n",
       "    </tr>\n",
       "    <tr>\n",
       "      <th>2019-01-06</th>\n",
       "      <td>84</td>\n",
       "      <td>1</td>\n",
       "    </tr>\n",
       "  </tbody>\n",
       "</table>\n",
       "<p>12609 rows × 2 columns</p>\n",
       "</div>"
      ],
      "text/plain": [
       "            spare count\n",
       "date                   \n",
       "2017-05-30    144     1\n",
       "2017-05-31    124     1\n",
       "2017-05-31    106     1\n",
       "2017-05-31     74     3\n",
       "2017-05-31      2     2\n",
       "...           ...   ...\n",
       "2019-01-06    301     1\n",
       "2019-01-06    172     1\n",
       "2019-01-06    171     1\n",
       "2019-01-06    308     1\n",
       "2019-01-06     84     1\n",
       "\n",
       "[12609 rows x 2 columns]"
      ]
     },
     "execution_count": 666,
     "metadata": {},
     "output_type": "execute_result"
    }
   ],
   "source": [
    "from sklearn.preprocessing import LabelEncoder # doing label encoding\n",
    "LE=LabelEncoder()\n",
    "df5['spare'] = LE.fit_transform(df5['spare'])\n",
    "df5"
   ]
  },
  {
   "cell_type": "code",
   "execution_count": 667,
   "id": "e21e0018",
   "metadata": {},
   "outputs": [
    {
     "data": {
      "text/html": [
       "<div>\n",
       "<style scoped>\n",
       "    .dataframe tbody tr th:only-of-type {\n",
       "        vertical-align: middle;\n",
       "    }\n",
       "\n",
       "    .dataframe tbody tr th {\n",
       "        vertical-align: top;\n",
       "    }\n",
       "\n",
       "    .dataframe thead th {\n",
       "        text-align: right;\n",
       "    }\n",
       "</style>\n",
       "<table border=\"1\" class=\"dataframe\">\n",
       "  <thead>\n",
       "    <tr style=\"text-align: right;\">\n",
       "      <th></th>\n",
       "      <th>spare</th>\n",
       "      <th>count</th>\n",
       "    </tr>\n",
       "  </thead>\n",
       "  <tbody>\n",
       "    <tr>\n",
       "      <th>count</th>\n",
       "      <td>12609.000000</td>\n",
       "      <td>12609.000000</td>\n",
       "    </tr>\n",
       "    <tr>\n",
       "      <th>mean</th>\n",
       "      <td>192.207074</td>\n",
       "      <td>2.223967</td>\n",
       "    </tr>\n",
       "    <tr>\n",
       "      <th>std</th>\n",
       "      <td>143.550617</td>\n",
       "      <td>2.103891</td>\n",
       "    </tr>\n",
       "    <tr>\n",
       "      <th>min</th>\n",
       "      <td>0.000000</td>\n",
       "      <td>1.000000</td>\n",
       "    </tr>\n",
       "    <tr>\n",
       "      <th>25%</th>\n",
       "      <td>78.000000</td>\n",
       "      <td>1.000000</td>\n",
       "    </tr>\n",
       "    <tr>\n",
       "      <th>50%</th>\n",
       "      <td>144.000000</td>\n",
       "      <td>1.000000</td>\n",
       "    </tr>\n",
       "    <tr>\n",
       "      <th>75%</th>\n",
       "      <td>314.000000</td>\n",
       "      <td>3.000000</td>\n",
       "    </tr>\n",
       "    <tr>\n",
       "      <th>max</th>\n",
       "      <td>481.000000</td>\n",
       "      <td>17.000000</td>\n",
       "    </tr>\n",
       "  </tbody>\n",
       "</table>\n",
       "</div>"
      ],
      "text/plain": [
       "              spare         count\n",
       "count  12609.000000  12609.000000\n",
       "mean     192.207074      2.223967\n",
       "std      143.550617      2.103891\n",
       "min        0.000000      1.000000\n",
       "25%       78.000000      1.000000\n",
       "50%      144.000000      1.000000\n",
       "75%      314.000000      3.000000\n",
       "max      481.000000     17.000000"
      ]
     },
     "execution_count": 667,
     "metadata": {},
     "output_type": "execute_result"
    }
   ],
   "source": [
    "df5['count']=df5['count'].astype('int')\n",
    "df5.describe()"
   ]
  },
  {
   "cell_type": "markdown",
   "id": "33663a13",
   "metadata": {},
   "source": [
    "# checking whether data is stationary or not"
   ]
  },
  {
   "cell_type": "code",
   "execution_count": 668,
   "id": "e1e7ef9e",
   "metadata": {
    "scrolled": true
   },
   "outputs": [
    {
     "data": {
      "image/png": "[encoded data removed]",
      "text/plain": [
       "<Figure size 1440x288 with 1 Axes>"
      ]
     },
     "metadata": {},
     "output_type": "display_data"
    }
   ],
   "source": [
    "plt.figure(figsize=(20,4), facecolor='white')\n",
    "plt.plot(df5['count'])\n",
    "plt.xlabel('Count')\n",
    "plt.show()"
   ]
  },
  {
   "cell_type": "markdown",
   "id": "01e26758",
   "metadata": {},
   "source": [
    "- This is a stationary data you can see that by noticing 2017-05 to 2017-11 and 2018-05 to 2018-11, you can see the similarity there"
   ]
  },
  {
   "cell_type": "markdown",
   "id": "f0c0e093",
   "metadata": {},
   "source": [
    "# Rolling statistics"
   ]
  },
  {
   "cell_type": "code",
   "execution_count": 669,
   "id": "7533b521",
   "metadata": {},
   "outputs": [],
   "source": [
    "def plot_rolling_statistics(time_series, window_size=12):\n",
    "    plt.figure(figsize=(20,4), facecolor='white')\n",
    "    rolling_mean = time_series.rolling(window=window_size).mean()\n",
    "    rolling_std = time_series.rolling(window=window_size).std()\n",
    "    plt.plot(time_series, color='blue', label='Original')\n",
    "    plt.plot(rolling_mean, color='red', label='Rolling Mean')\n",
    "    plt.plot(rolling_std, color='black', label='Rolling Standard Deviation')\n",
    "    plt.legend(loc='best')\n",
    "    plt.title('Rolling Mean & Standard Deviation')\n",
    "    plt.show()"
   ]
  },
  {
   "cell_type": "code",
   "execution_count": 670,
   "id": "b5b07237",
   "metadata": {
    "scrolled": false
   },
   "outputs": [
    {
     "data": {
      "image/png": "[encoded data removed]",
      "text/plain": [
       "<Figure size 1440x288 with 1 Axes>"
      ]
     },
     "metadata": {},
     "output_type": "display_data"
    }
   ],
   "source": [
    "plot_rolling_statistics(time_series=df5['count'], window_size=12)"
   ]
  },
  {
   "cell_type": "markdown",
   "id": "fa02e041",
   "metadata": {},
   "source": [
    "# Doing adfuller to confirm whether data is stationary or not"
   ]
  },
  {
   "cell_type": "code",
   "execution_count": 671,
   "id": "d6d8c3fa",
   "metadata": {},
   "outputs": [],
   "source": [
    "from statsmodels.tsa.stattools import adfuller\n",
    "def adf_test(data):\n",
    "    result=adfuller(data)\n",
    "    labels=['ADF Test Statistics','p-value','Lags used','Number of Observation used']\n",
    "    for value,label in zip(result,labels):\n",
    "        print(label+' : '+str(value))\n",
    "    if result[1] <= 0.05:\n",
    "        print('Its stationary data')\n",
    "    else:\n",
    "        print('Its not stationary data')"
   ]
  },
  {
   "cell_type": "code",
   "execution_count": 672,
   "id": "9eb97bd4",
   "metadata": {},
   "outputs": [
    {
     "name": "stdout",
     "output_type": "stream",
     "text": [
      "ADF Test Statistics : -30.21245897855608\n",
      "p-value : 0.0\n",
      "Lags used : 14\n",
      "Number of Observation used : 12594\n",
      "Its stationary data\n"
     ]
    }
   ],
   "source": [
    "adf_test(df5['count'])"
   ]
  },
  {
   "cell_type": "markdown",
   "id": "3d786567",
   "metadata": {},
   "source": [
    "# Finding  partial correlation and auto correlation"
   ]
  },
  {
   "cell_type": "code",
   "execution_count": 673,
   "id": "7c5a72ac",
   "metadata": {
    "scrolled": false
   },
   "outputs": [],
   "source": [
    "from statsmodels.graphics.tsaplots import plot_acf,plot_pacf"
   ]
  },
  {
   "cell_type": "code",
   "execution_count": 674,
   "id": "8c005c7a",
   "metadata": {
    "scrolled": false
   },
   "outputs": [
    {
     "data": {
      "image/png": "[encoded data removed]",
      "text/plain": [
       "<Figure size 1440x144 with 1 Axes>"
      ]
     },
     "metadata": {
      "needs_background": "light"
     },
     "output_type": "display_data"
    },
    {
     "data": {
      "image/png": "[encoded data removed]",
      "text/plain": [
       "<Figure size 1440x144 with 1 Axes>"
      ]
     },
     "metadata": {
      "needs_background": "light"
     },
     "output_type": "display_data"
    }
   ],
   "source": [
    "plot_pacf(df5['count'])\n",
    "plot_acf(df5['count'])\n",
    "plt.show()"
   ]
  },
  {
   "cell_type": "markdown",
   "id": "5e27a9fb",
   "metadata": {},
   "source": [
    "# p , d and q values"
   ]
  },
  {
   "cell_type": "markdown",
   "id": "365b0c61",
   "metadata": {},
   "source": [
    "- p=2 or 1 ,  from  partial correlation\n",
    "- d=0   ,     times differncing done\n",
    "- q=3 or 4   ,from  auto correlation"
   ]
  },
  {
   "cell_type": "markdown",
   "id": "a9bba95d",
   "metadata": {},
   "source": [
    "## Checking Outliers"
   ]
  },
  {
   "cell_type": "code",
   "execution_count": 675,
   "id": "daccfa7a",
   "metadata": {
    "scrolled": false
   },
   "outputs": [
    {
     "data": {
      "image/png": "[encoded data removed]",
      "text/plain": [
       "<Figure size 1440x144 with 1 Axes>"
      ]
     },
     "metadata": {
      "needs_background": "light"
     },
     "output_type": "display_data"
    },
    {
     "data": {
      "image/png": "[encoded data removed]",
      "text/plain": [
       "<Figure size 1440x144 with 1 Axes>"
      ]
     },
     "metadata": {
      "needs_background": "light"
     },
     "output_type": "display_data"
    }
   ],
   "source": [
    "for i in df5:\n",
    "    sns.boxplot(df4[i]) #boxplot\n",
    "    plt.show()"
   ]
  },
  {
   "cell_type": "markdown",
   "id": "6493356e",
   "metadata": {},
   "source": [
    "- same as the i did for regressor model , removing outlier did'nt improve results, so I'm keeping them as they are."
   ]
  },
  {
   "cell_type": "markdown",
   "id": "fc10d403",
   "metadata": {},
   "source": [
    "# Exponential Smoothing Model"
   ]
  },
  {
   "cell_type": "code",
   "execution_count": 676,
   "id": "5988cc30",
   "metadata": {},
   "outputs": [],
   "source": [
    "import statsmodels.api as sm "
   ]
  },
  {
   "cell_type": "code",
   "execution_count": 677,
   "id": "d76b9ac8",
   "metadata": {},
   "outputs": [
    {
     "name": "stdout",
     "output_type": "stream",
     "text": [
      "                       ExponentialSmoothing Model Results                       \n",
      "================================================================================\n",
      "Dep. Variable:                    count   No. Observations:                12609\n",
      "Model:             ExponentialSmoothing   SSE                          48766.927\n",
      "Optimized:                         True   AIC                          17065.457\n",
      "Trend:                         Additive   BIC                          17102.668\n",
      "Seasonal:                          None   AICC                         17065.466\n",
      "Seasonal Periods:                  None   Date:                 Fri, 23 Dec 2022\n",
      "Box-Cox:                          False   Time:                         23:12:27\n",
      "Box-Cox Coeff.:                    None                                         \n",
      "==============================================================================\n",
      "                       coeff                 code              optimized      \n",
      "------------------------------------------------------------------------------\n",
      "smoothing_level            0.4406003                alpha                 True\n",
      "smoothing_trend            3.885e-07                 beta                 True\n",
      "initial_level              1.2052837                  l.0                 True\n",
      "initial_trend              0.0261225                  b.0                 True\n",
      "damping_trend              0.8824546                  phi                 True\n",
      "------------------------------------------------------------------------------\n"
     ]
    },
    {
     "data": {
      "image/png": "[encoded data removed]",
      "text/plain": [
       "<Figure size 1224x216 with 1 Axes>"
      ]
     },
     "metadata": {
      "needs_background": "light"
     },
     "output_type": "display_data"
    },
    {
     "name": "stdout",
     "output_type": "stream",
     "text": [
      "R2 score: 0.13\n",
      "Adjusted R2 score: 0.13\n",
      "Mean squared error: 3.87\n",
      "Root mean squared error: 1.97\n",
      "Mean absolute error: 1.16\n"
     ]
    }
   ],
   "source": [
    "X = df5['spare'] # predictor\n",
    "y = df5['count'] #  target\n",
    "\n",
    "model = sm.tsa.ExponentialSmoothing(y, trend='add', damped=True)\n",
    "results = model.fit()\n",
    "print(results.summary())\n",
    "\n",
    "# Predict the target values for the predictor values in X\n",
    "predictions = results.predict(start=X.index[0], end=X.index[-1])\n",
    "\n",
    "# Plot the actual and predicted target values\n",
    "plt.figure(figsize=(17,3))\n",
    "plt.plot(y, label='actual')\n",
    "plt.plot(predictions, label='predicted')\n",
    "plt.legend()\n",
    "plt.show()\n",
    "\n",
    "# Truncate the y variable to the same length as the predictions variable\n",
    "y_truncated = y.iloc[:len(predictions)]\n",
    "\n",
    "# metrics\n",
    "r2 = r2_score(y_truncated, predictions)\n",
    "print(f'R2 score: {r2:.2f}')\n",
    "n = len(y_truncated)\n",
    "p = 1  # number of predictors\n",
    "adj_r2 = 1 - (1 - r2) * (n - 1) / (n - p - 1)\n",
    "print(f'Adjusted R2 score: {adj_r2:.2f}')\n",
    "mse = mean_squared_error(y_truncated, predictions)\n",
    "print(f'Mean squared error: {mse:.2f}')\n",
    "rmse = np.sqrt(mse)\n",
    "print(f'Root mean squared error: {rmse:.2f}')\n",
    "mae = mean_absolute_error(y_truncated, predictions)\n",
    "print(f'Mean absolute error: {mae:.2f}')"
   ]
  },
  {
   "cell_type": "markdown",
   "id": "83247673",
   "metadata": {},
   "source": [
    "# ARIMA Model (ARIMA with eXogenous regressors is SARIMAX)"
   ]
  },
  {
   "cell_type": "code",
   "execution_count": 678,
   "id": "75f1d630",
   "metadata": {
    "scrolled": false
   },
   "outputs": [
    {
     "name": "stdout",
     "output_type": "stream",
     "text": [
      "                               SARIMAX Results                                \n",
      "==============================================================================\n",
      "Dep. Variable:                  count   No. Observations:                12609\n",
      "Model:                 ARIMA(2, 0, 3)   Log Likelihood              -25424.801\n",
      "Date:                Fri, 23 Dec 2022   AIC                          50865.602\n",
      "Time:                        23:12:46   BIC                          50925.140\n",
      "Sample:                             0   HQIC                         50885.525\n",
      "                              - 12609                                         \n",
      "Covariance Type:                  opg                                         \n",
      "==============================================================================\n",
      "                 coef    std err          z      P>|z|      [0.025      0.975]\n",
      "------------------------------------------------------------------------------\n",
      "const          2.6477      0.058     45.637      0.000       2.534       2.761\n",
      "spare         -0.0022      0.000    -15.192      0.000      -0.002      -0.002\n",
      "ar.L1          0.7900      0.541      1.462      0.144      -0.269       1.849\n",
      "ar.L2         -0.1339      0.337     -0.398      0.691      -0.794       0.526\n",
      "ma.L1         -0.3924      0.541     -0.726      0.468      -1.452       0.667\n",
      "ma.L2          0.0904      0.123      0.734      0.463      -0.151       0.332\n",
      "ma.L3          0.0187      0.019      0.989      0.323      -0.018       0.056\n",
      "sigma2         3.3037      0.029    113.547      0.000       3.247       3.361\n",
      "===================================================================================\n",
      "Ljung-Box (L1) (Q):                   0.00   Jarque-Bera (JB):             38435.61\n",
      "Prob(Q):                              0.99   Prob(JB):                         0.00\n",
      "Heteroskedasticity (H):               1.13   Skew:                             2.00\n",
      "Prob(H) (two-sided):                  0.00   Kurtosis:                        10.56\n",
      "===================================================================================\n",
      "\n",
      "Warnings:\n",
      "[1] Covariance matrix calculated using the outer product of gradients (complex-step).\n"
     ]
    },
    {
     "data": {
      "image/png": "[encoded data removed]",
      "text/plain": [
       "<Figure size 1224x216 with 1 Axes>"
      ]
     },
     "metadata": {
      "needs_background": "light"
     },
     "output_type": "display_data"
    },
    {
     "name": "stdout",
     "output_type": "stream",
     "text": [
      "R2 score: 0.25\n",
      "Adjusted R2 score: 0.25\n",
      "Mean squared error: 3.31\n",
      "Root mean squared error: 1.82\n",
      "Mean absolute error: 1.17\n"
     ]
    }
   ],
   "source": [
    "X = df5['spare']\n",
    "y = df5['count']\n",
    "\n",
    "# Fit the ARIMA model with exogenous variables\n",
    "model = sm.tsa.ARIMA(y, order=(2,0,3), exog=X)\n",
    "results = model.fit()\n",
    "print(results.summary())\n",
    "\n",
    "# Predict the target values for the predictor values in X\n",
    "predictions = results.predict(start=X.index[0], end=X.index[-1], exog=X)\n",
    "\n",
    "# Plot the actual and predicted target values\n",
    "plt.figure(figsize=(17,3))\n",
    "plt.plot(y, label='actual')\n",
    "plt.plot(predictions, label='predicted')\n",
    "plt.legend()\n",
    "plt.show()\n",
    "\n",
    "# Truncate the y variable to the same length as the predictions variable\n",
    "y_truncated = y.iloc[:len(predictions)]\n",
    "\n",
    "# metrics\n",
    "r2 = r2_score(y_truncated, predictions)\n",
    "print(f'R2 score: {r2:.2f}')\n",
    "n = len(y_truncated)\n",
    "p = 1  # number of predictors\n",
    "adj_r2 = 1 - (1 - r2) * (n - 1) / (n - p - 1)\n",
    "print(f'Adjusted R2 score: {adj_r2:.2f}')\n",
    "mse = mean_squared_error(y_truncated, predictions)\n",
    "print(f'Mean squared error: {mse:.2f}')\n",
    "rmse = np.sqrt(mse)\n",
    "print(f'Root mean squared error: {rmse:.2f}')\n",
    "mae = mean_absolute_error(y_truncated, predictions)\n",
    "print(f'Mean absolute error: {mae:.2f}')"
   ]
  },
  {
   "cell_type": "markdown",
   "id": "caae388f",
   "metadata": {},
   "source": [
    "# SARIMAX Model "
   ]
  },
  {
   "cell_type": "code",
   "execution_count": 679,
   "id": "a85c50ce",
   "metadata": {},
   "outputs": [
    {
     "name": "stdout",
     "output_type": "stream",
     "text": [
      "                                     SARIMAX Results                                      \n",
      "==========================================================================================\n",
      "Dep. Variable:                              count   No. Observations:                12609\n",
      "Model:             SARIMAX(2, 0, 3)x(2, 0, 3, 12)   Log Likelihood              -25932.042\n",
      "Date:                            Fri, 23 Dec 2022   AIC                          51888.083\n",
      "Time:                                    23:16:28   BIC                          51977.389\n",
      "Sample:                                         0   HQIC                         51917.968\n",
      "                                          - 12609                                         \n",
      "Covariance Type:                              opg                                         \n",
      "==============================================================================\n",
      "                 coef    std err          z      P>|z|      [0.025      0.975]\n",
      "------------------------------------------------------------------------------\n",
      "spare         -0.0021      0.000    -15.166      0.000      -0.002      -0.002\n",
      "ar.L1         -0.0219      0.031     -0.701      0.483      -0.083       0.039\n",
      "ar.L2          0.8393      0.030     27.926      0.000       0.780       0.898\n",
      "ma.L1          0.4996      0.032     15.595      0.000       0.437       0.562\n",
      "ma.L2         -0.5101      0.021    -24.592      0.000      -0.551      -0.469\n",
      "ma.L3         -0.0885      0.011     -7.743      0.000      -0.111      -0.066\n",
      "ar.S.L12       0.2260      0.142      1.595      0.111      -0.052       0.504\n",
      "ar.S.L24       0.6736      0.130      5.190      0.000       0.419       0.928\n",
      "ma.S.L12      -0.1541      0.141     -1.093      0.274      -0.430       0.122\n",
      "ma.S.L24      -0.6179      0.123     -5.039      0.000      -0.858      -0.378\n",
      "ma.S.L36      -0.0329      0.011     -2.996      0.003      -0.054      -0.011\n",
      "sigma2         3.6030      0.026    140.463      0.000       3.553       3.653\n",
      "===================================================================================\n",
      "Ljung-Box (L1) (Q):                  22.90   Jarque-Bera (JB):             32273.14\n",
      "Prob(Q):                              0.00   Prob(JB):                         0.00\n",
      "Heteroskedasticity (H):               1.11   Skew:                             1.59\n",
      "Prob(H) (two-sided):                  0.00   Kurtosis:                        10.16\n",
      "===================================================================================\n",
      "\n",
      "Warnings:\n",
      "[1] Covariance matrix calculated using the outer product of gradients (complex-step).\n"
     ]
    },
    {
     "data": {
      "image/png": "[encoded data removed]",
      "text/plain": [
       "<Figure size 1224x216 with 1 Axes>"
      ]
     },
     "metadata": {
      "needs_background": "light"
     },
     "output_type": "display_data"
    },
    {
     "name": "stdout",
     "output_type": "stream",
     "text": [
      "R2 score: 0.19\n",
      "Adjusted R2 score: 0.19\n",
      "Mean squared error: 3.58\n",
      "Root mean squared error: 1.89\n",
      "Mean absolute error: 1.15\n"
     ]
    }
   ],
   "source": [
    "# Define the predictor and target variables\n",
    "X = df5['spare']\n",
    "y = df5['count']\n",
    "\n",
    "# Specify the SARIMAX model\n",
    "model = sm.tsa.SARIMAX(endog=y, exog=X, order=(2,0,3), seasonal_order=(2,0,3,12))\n",
    "\n",
    "# Fit the model\n",
    "results = model.fit()\n",
    "print(results.summary())\n",
    "\n",
    "# Predict the target values for the predictor values in X\n",
    "predictions = results.predict(start=X.index[0], end=X.index[-1], exog=X)\n",
    "\n",
    "# Plot the actual and predicted target values\n",
    "plt.figure(figsize=(17,3))\n",
    "plt.plot(y, label='actual')\n",
    "plt.plot(predictions, label='predicted')\n",
    "plt.legend()\n",
    "plt.show()\n",
    "\n",
    "# Truncate the y variable to the same length as the predictions variable\n",
    "y_truncated = y.iloc[:len(predictions)]\n",
    "\n",
    "# metrics\n",
    "r2 = r2_score(y_truncated, predictions)\n",
    "print(f'R2 score: {r2:.2f}')\n",
    "n = len(y_truncated)\n",
    "p = 1  # number of predictors\n",
    "adj_r2 = 1 - (1 - r2) * (n - 1) / (n - p - 1)\n",
    "print(f'Adjusted R2 score: {adj_r2:.2f}')\n",
    "mse = mean_squared_error(y_truncated, predictions)\n",
    "print(f'Mean squared error: {mse:.2f}')\n",
    "rmse = np.sqrt(mse)\n",
    "print(f'Root mean squared error: {rmse:.2f}')\n",
    "mae = mean_absolute_error(y_truncated, predictions)\n",
    "print(f'Mean absolute error: {mae:.2f}')"
   ]
  },
  {
   "cell_type": "markdown",
   "id": "0ac41ae6",
   "metadata": {},
   "source": [
    "# Best Model \n",
    "### CatBoostRegressor with default parameter \n",
    "- R2\t0.616981\n",
    "- Adjusted R2\t0.616372\t\n",
    "- MSE 1.694739\t\n",
    "- RMSE 1.301821\t\n",
    "- MAE 0.807372"
   ]
  },
  {
   "cell_type": "markdown",
   "id": "16459837",
   "metadata": {},
   "source": [
    "# Report on Challenges faced"
   ]
  },
  {
   "cell_type": "markdown",
   "id": "b4c37928",
   "metadata": {},
   "source": [
    "- All columns had Dtype as object \n",
    "- Cleand all column by captalizing string, removing X , removing space before and after the string and removing 0 len strings.\n",
    "- There was null valus in dataframe, removed them.\n",
    "- Removed duplicates.\n",
    "- After cleaning reduced spare parts unique from 503 to 482.\n",
    "\n",
    "- At first I tried classifier model to predict spare parts for the particular date , it was complex.\n",
    "- Then I used groupby function to create new datafram containing date, spare and its count on that spacific day.\n",
    "- Decided to use regressor model to predict spare parts count on particular date.\n",
    "\n",
    "### Regressor models\n",
    "- Split date column into day,month and year for ML interpretation.\n",
    "- Did label encoding for spare column.\n",
    "- Changed all column Dtype to int,\n",
    "- Checked outliers there is some outliers in count column, removing them dosent improve results, so I kept them as they are.\n",
    "- Built a fuction to run several regressor model and store the score in dataframe and show the prediction in plot.\n",
    "\n",
    "### These are the regressor models I did\n",
    "     1.Linear Regression\n",
    "     2.Decision Tree Regressor\n",
    "     3.Random Forest Regressor\n",
    "     4.AdaBoost Regressor\n",
    "     5.Bagging Regressor\n",
    "     6.Gradient Boosting Regressor\n",
    "     7.XGB Regressor\n",
    "     8.LGBM Regressor\n",
    "     9.CatBoost Regressor (Over all Best Model)\n",
    "\n",
    "- Tried bagging technique and hypertunning yet score did'nt improve.\n",
    "- Hence decided CatBoostRegressor with default parameters as best model.\n",
    "- Since the best R2 score I got is 0.61 , decided to try Time series models.\n",
    "\n",
    "### Time series models\n",
    "\n",
    "- Changed data column dtype to datetime.\n",
    "- Made datime column as my index.\n",
    "- Did label encoding for spare column .\n",
    "- astype the count column.\n",
    "- Checked whether my data is stationary or not\n",
    "- for that I used rolling stone plot, and adfuller test.\n",
    "- To find pdq value for ARIMA and SARIMAX model, did acf and pacf plots.\n",
    "- Checked outliers there is some outliers in count column, removing them dosent improve results, so I kept them as they are.\n",
    "- Since I had Extra predictor variable (eXogenous regressors=spare column) apart from date index , it was bit complex for implementing time series models.\n",
    "- Using metrics to evaluate the time series model was bit complex.\n",
    "- Also used plots to see difference of prediction from actual data.\n",
    "\n",
    "### These are the Time Series models I did \n",
    "     1.Exponential Smoothing Model\n",
    "     2.ARIMA (Best in time series with R2=0.25)\n",
    "     3.SARIMAX\n",
    "    "
   ]
  },
  {
   "cell_type": "code",
   "execution_count": null,
   "id": "9c2a9575",
   "metadata": {},
   "outputs": [],
   "source": []
  }
 ],
 "metadata": {
  "kernelspec": {
   "display_name": "Python 3 (ipykernel)",
   "language": "python",
   "name": "python3"
  },
  "language_info": {
   "codemirror_mode": {
    "name": "ipython",
    "version": 3
   },
   "file_extension": ".py",
   "mimetype": "text/x-python",
   "name": "python",
   "nbconvert_exporter": "python",
   "pygments_lexer": "ipython3",
   "version": "3.9.12"
  }
 },
 "nbformat": 4,
 "nbformat_minor": 5
}
